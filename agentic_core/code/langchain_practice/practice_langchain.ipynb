{
 "cells": [
  {
   "cell_type": "code",
   "execution_count": 1,
   "execution_state": "idle",
   "id": "0a72e6b7-5da6-433c-9386-f1e66b264802",
   "metadata": {
    "execution": {
     "iopub.execute_input": "2025-10-28T11:38:43.772972Z",
     "iopub.status.busy": "2025-10-28T11:38:43.772882Z",
     "iopub.status.idle": "2025-10-28T11:38:45.771176Z",
     "shell.execute_reply": "2025-10-28T11:38:45.770658Z",
     "shell.execute_reply.started": "2025-10-28T11:38:43.772960Z"
    }
   },
   "outputs": [],
   "source": [
    "from langchain_aws import ChatBedrockConverse\n",
    "from langchain.schema import HumanMessage, SystemMessage\n",
    "import boto3\n",
    "from langchain_core.output_parsers import StrOutputParser\n",
    "from langchain_core.prompts import ChatPromptTemplate\n",
    "from opensearchpy import OpenSearch, RequestsHttpConnection\n",
    "import os\n",
    "import boto3\n",
    "import json\n",
    "import sys\n",
    "from langchain.schema import BaseRetriever, Document\n",
    "from typing import List, Optional, Dict, Tuple\n",
    "from langchain.prompts.prompt import PromptTemplate\n",
    "import uuid\n",
    "from datetime import datetime\n",
    "from botocore.exceptions import ClientError\n",
    "from operator import itemgetter\n",
    "from langchain_core.runnables import RunnableLambda\n",
    "from boto3.dynamodb.conditions import Key\n",
    "from pydantic import BaseModel, Field\n",
    "from langchain_core.output_parsers import JsonOutputParser\n",
    "from langchain_core.runnables import RunnableParallel, RunnablePassthrough\n",
    "from langchain_aws import ChatBedrock\n"
   ]
  },
  {
   "cell_type": "code",
   "execution_count": 2,
   "execution_state": "idle",
   "id": "62f6f1a3-29b7-4f98-9e72-75695972b25e",
   "metadata": {
    "execution": {
     "iopub.execute_input": "2025-10-28T11:38:45.771952Z",
     "iopub.status.busy": "2025-10-28T11:38:45.771683Z",
     "iopub.status.idle": "2025-10-28T11:38:45.774411Z",
     "shell.execute_reply": "2025-10-28T11:38:45.773974Z",
     "shell.execute_reply.started": "2025-10-28T11:38:45.771940Z"
    }
   },
   "outputs": [
    {
     "name": "stdout",
     "output_type": "stream",
     "text": [
      "langchain advanced\n"
     ]
    }
   ],
   "source": [
    "print(\"langchain advanced\")"
   ]
  },
  {
   "cell_type": "code",
   "execution_count": 3,
   "execution_state": "idle",
   "id": "6bf5f251-00c4-451c-8a50-4b9a44f53c32",
   "metadata": {
    "execution": {
     "iopub.execute_input": "2025-10-28T11:38:45.774939Z",
     "iopub.status.busy": "2025-10-28T11:38:45.774831Z",
     "iopub.status.idle": "2025-10-28T11:38:45.818080Z",
     "shell.execute_reply": "2025-10-28T11:38:45.817743Z",
     "shell.execute_reply.started": "2025-10-28T11:38:45.774928Z"
    }
   },
   "outputs": [],
   "source": [
    "#bedrock client 설정\n",
    "bedrock_client = boto3.client(\n",
    "    service_name='bedrock-runtime',\n",
    "    region_name='us-west-2'  # replace with your region\n",
    ")"
   ]
  },
  {
   "cell_type": "code",
   "execution_count": 4,
   "execution_state": "idle",
   "id": "8d998ccb-3382-4464-817e-f0e3f3325115",
   "metadata": {
    "execution": {
     "iopub.execute_input": "2025-10-28T11:38:45.821495Z",
     "iopub.status.busy": "2025-10-28T11:38:45.821376Z",
     "iopub.status.idle": "2025-10-28T11:38:45.833413Z",
     "shell.execute_reply": "2025-10-28T11:38:45.833051Z",
     "shell.execute_reply.started": "2025-10-28T11:38:45.821480Z"
    }
   },
   "outputs": [],
   "source": [
    "#llm\n",
    "llm = ChatBedrock(\n",
    "    client=bedrock_client,\n",
    "    model_id=\"global.anthropic.claude-sonnet-4-20250514-v1:0\",\n",
    "    model_kwargs={\n",
    "        \"max_tokens\": 2000,\n",
    "        \"temperature\": 0.15,\n",
    "        \"top_p\": 0.9,\n",
    "    }\n",
    "    )"
   ]
  },
  {
   "cell_type": "code",
   "execution_count": 5,
   "execution_state": "idle",
   "id": "b986993b-4f48-4c3d-8065-6c18ea54f0f7",
   "metadata": {
    "execution": {
     "iopub.execute_input": "2025-10-28T11:38:45.834598Z",
     "iopub.status.busy": "2025-10-28T11:38:45.834462Z",
     "iopub.status.idle": "2025-10-28T11:38:45.837346Z",
     "shell.execute_reply": "2025-10-28T11:38:45.836948Z",
     "shell.execute_reply.started": "2025-10-28T11:38:45.834586Z"
    }
   },
   "outputs": [],
   "source": [
    "async def extract_stream(chain, input_json):\n",
    "    collected_text = []\n",
    "    async for event in chain.astream_events(input_json):\n",
    "        if event[\"event\"] == \"on_chat_model_stream\":\n",
    "            chunk = event[\"data\"][\"chunk\"]\n",
    "            if chunk.content:\n",
    "                for content_item in chunk.content:\n",
    "                    if text := content_item.get('text'):\n",
    "                        collected_text.append(text)\n",
    "                        print(text, end=\"\", flush=True)\n",
    "    return \"\".join(collected_text)\n"
   ]
  },
  {
   "cell_type": "code",
   "execution_count": 6,
   "execution_state": "idle",
   "id": "1f1d0980-a6f9-46bb-8677-8e2e37b7ea71",
   "metadata": {
    "execution": {
     "iopub.execute_input": "2025-10-28T11:38:46.123775Z",
     "iopub.status.busy": "2025-10-28T11:38:46.123635Z",
     "iopub.status.idle": "2025-10-28T11:38:46.125704Z",
     "shell.execute_reply": "2025-10-28T11:38:46.125319Z",
     "shell.execute_reply.started": "2025-10-28T11:38:46.123762Z"
    }
   },
   "outputs": [],
   "source": [
    "#input { json 포맷 }  -> prompt(text로 변환) -> llm(bedrock) -> output(string타입, json타입)\n",
    "#여기서 input { json 포맷 }을 활용하는 방법에 대해 이해해보자 ( 여행에 관한 정보를 얻는 llm를 만든다고 가정한다 )"
   ]
  },
  {
   "cell_type": "code",
   "execution_count": 7,
   "execution_state": "idle",
   "id": "8b7d5bfd-2a0a-404a-be72-d9fe502f0dce",
   "metadata": {
    "execution": {
     "iopub.execute_input": "2025-10-28T11:38:46.667000Z",
     "iopub.status.busy": "2025-10-28T11:38:46.666804Z",
     "iopub.status.idle": "2025-10-28T11:38:46.669794Z",
     "shell.execute_reply": "2025-10-28T11:38:46.669313Z",
     "shell.execute_reply.started": "2025-10-28T11:38:46.666987Z"
    }
   },
   "outputs": [],
   "source": [
    "prompt_capital = ChatPromptTemplate.from_messages([\n",
    "    (\"system\", \"You are a helpful assistant.\"),\n",
    "    (\"human\", \"{country}의 수도에 대해 알려줘\")\n",
    "])\n",
    "\n",
    "capital_chain = prompt_capital | llm |  StrOutputParser()\n",
    "\n",
    "\n",
    "# capital_chain.invoke({\"country\" : \"태국\"})"
   ]
  },
  {
   "cell_type": "code",
   "execution_count": 8,
   "execution_state": "idle",
   "id": "c1003ad4-d400-47e0-a034-c802bbedd3a6",
   "metadata": {
    "execution": {
     "iopub.execute_input": "2025-10-28T11:38:47.670988Z",
     "iopub.status.busy": "2025-10-28T11:38:47.670784Z",
     "iopub.status.idle": "2025-10-28T11:38:55.279540Z",
     "shell.execute_reply": "2025-10-28T11:38:55.279032Z",
     "shell.execute_reply.started": "2025-10-28T11:38:47.670974Z"
    }
   },
   "outputs": [
    {
     "name": "stdout",
     "output_type": "stream",
     "text": [
      "태국의 수도는 **방콕(Bangkok)**입니다.\n",
      "\n",
      "## 방콕의 주요 정보\n",
      "\n",
      "**정식 명칭**: 크룽텝마하나콘(กรุงเทพมหานคร)\n",
      "- 태국어로는 매우 긴 정식 명칭이 있어 기네스북에 등재되기도 했습니다\n",
      "\n",
      "**인구**: 약 1,000만 명 (수도권 포함)\n",
      "\n",
      "**주요 특징**:\n",
      "- 태국의 정치, 경제, 문화의 중심지\n",
      "- 차오프라야 강이 도시를 관통\n",
      "- 동남아시아의 주요 관광 도시\n",
      "\n",
      "**유명한 관광지**:\n",
      "- 왕궁(Grand Palace)\n",
      "- 왓 포 사원(와불상으로 유명)\n",
      "- 왓 아룬 사원(새벽 사원)\n",
      "- 차이나타운\n",
      "- 카오산 로드\n",
      "- 수상시장들\n",
      "\n",
      "**교통**: \n",
      "- BTS 스카이트레인\n",
      "- MRT 지하철\n",
      "- 툭툭, 택시, 보트 등 다양한 교통수단\n",
      "\n",
      "방콕은 전통과 현대가 조화를 이루는 매력적인 도시로, 맛있는 음식과 풍부한 문화유산으로도 유명합니다."
     ]
    }
   ],
   "source": [
    "async for chunk in capital_chain.astream({\"country\": \"태국\"}):\n",
    "    print(chunk, end=\"\")"
   ]
  },
  {
   "cell_type": "code",
   "execution_count": 9,
   "execution_state": "idle",
   "id": "0fa09181-e295-46c0-b935-4f1d8c7a978f",
   "metadata": {
    "execution": {
     "iopub.execute_input": "2025-10-28T11:38:55.280131Z",
     "iopub.status.busy": "2025-10-28T11:38:55.280004Z",
     "iopub.status.idle": "2025-10-28T11:38:55.282642Z",
     "shell.execute_reply": "2025-10-28T11:38:55.282286Z",
     "shell.execute_reply.started": "2025-10-28T11:38:55.280119Z"
    }
   },
   "outputs": [],
   "source": [
    "prompt_culture = ChatPromptTemplate.from_messages([\n",
    "    (\"system\", \"You are a helpful assistant.\"),\n",
    "    (\"human\", \"{country}의 문화에 대해 알려줘\")\n",
    "])\n",
    "\n",
    "culture_chain = prompt_culture | llm |  StrOutputParser()\n",
    "\n",
    "\n",
    "# culture_chain.invoke({\"country\" : \"태국\"})\n"
   ]
  },
  {
   "cell_type": "code",
   "execution_count": 10,
   "execution_state": "idle",
   "id": "3fc2ec91-7ff8-4a1e-bcc8-fb6fa2433024",
   "metadata": {
    "execution": {
     "iopub.execute_input": "2025-10-28T11:38:55.283080Z",
     "iopub.status.busy": "2025-10-28T11:38:55.282972Z",
     "iopub.status.idle": "2025-10-28T11:39:07.230712Z",
     "shell.execute_reply": "2025-10-28T11:39:07.230314Z",
     "shell.execute_reply.started": "2025-10-28T11:38:55.283069Z"
    }
   },
   "outputs": [
    {
     "name": "stdout",
     "output_type": "stream",
     "text": [
      "태국의 풍부한 문화에 대해 소개해드리겠습니다.\n",
      "\n",
      "## 🏛️ **종교와 철학**\n",
      "- **불교**: 인구의 95%가 소승불교도\n",
      "- 일상생활에 불교 철학이 깊이 스며들어 있음\n",
      "- 전국에 4만여 개의 사원(왓)이 있음\n",
      "\n",
      "## 🙏 **예의와 매너**\n",
      "- **와이(Wai)**: 두 손을 모아 인사하는 전통 예법\n",
      "- 연장자와 지위가 높은 사람에 대한 깊은 존경\n",
      "- 온화하고 미소 짓는 문화 (미소의 나라)\n",
      "\n",
      "## 🍜 **음식 문화**\n",
      "- **쌀**: 주식이며 다양한 쌀 요리\n",
      "- **톰얌꿍, 팟타이, 그린커리** 등 유명 요리\n",
      "- 매운맛, 신맛, 단맛, 짠맛의 조화\n",
      "- 길거리 음식 문화가 발달\n",
      "\n",
      "## 🎭 **예술과 전통**\n",
      "- **전통 무용**: 콘(Khon), 라콘(Lakhon) 등\n",
      "- **무에타이**: 전통 격투기\n",
      "- **태국 마사지**: 전통 치료법\n",
      "- 정교한 사원 건축과 불상 조각\n",
      "\n",
      "## 👑 **왕실 문화**\n",
      "- 왕실에 대한 깊은 존경과 사랑\n",
      "- 왕실 관련 예의가 매우 엄격\n",
      "- 국왕 찬송가 연주 시 기립하는 전통\n",
      "\n",
      "## 🎉 **축제와 기념일**\n",
      "- **송크란(4월)**: 물축제, 태국 신정\n",
      "- **로이 크라통(11월)**: 등불 축제\n",
      "- **부처님 오신 날** 등 불교 축제들\n",
      "\n",
      "태국 문화는 전통과 현대가 조화롭게 어우러진 독특한 매력을 가지고 있습니다."
     ]
    }
   ],
   "source": [
    "async for chunk in culture_chain.astream({\"country\": \"태국\"}):\n",
    "    print(chunk, end=\"\")"
   ]
  },
  {
   "cell_type": "code",
   "execution_count": 11,
   "execution_state": "idle",
   "id": "6ec83e7b-8da2-47d8-b1ad-fe3711d96c60",
   "metadata": {
    "execution": {
     "iopub.execute_input": "2025-10-28T11:39:07.231353Z",
     "iopub.status.busy": "2025-10-28T11:39:07.231177Z",
     "iopub.status.idle": "2025-10-28T11:39:07.234129Z",
     "shell.execute_reply": "2025-10-28T11:39:07.233706Z",
     "shell.execute_reply.started": "2025-10-28T11:39:07.231336Z"
    }
   },
   "outputs": [],
   "source": [
    "prompt_climate = ChatPromptTemplate.from_messages([\n",
    "    (\"system\", \"You are a helpful assistant.\"),\n",
    "    (\"human\", \"{country}의 날씨에 대해 알려줘\")\n",
    "])\n",
    "\n",
    "climate_chain = prompt_climate | llm |  StrOutputParser()\n",
    "\n",
    "\n",
    "# climate_chain.invoke({\"country\" : \"태국\"})"
   ]
  },
  {
   "cell_type": "code",
   "execution_count": 12,
   "execution_state": "idle",
   "id": "18bf4781-fd3a-4e63-9b93-8591a1e1c549",
   "metadata": {
    "execution": {
     "iopub.execute_input": "2025-10-28T11:39:07.234720Z",
     "iopub.status.busy": "2025-10-28T11:39:07.234607Z",
     "iopub.status.idle": "2025-10-28T11:39:16.116717Z",
     "shell.execute_reply": "2025-10-28T11:39:16.116371Z",
     "shell.execute_reply.started": "2025-10-28T11:39:07.234708Z"
    }
   },
   "outputs": [
    {
     "name": "stdout",
     "output_type": "stream",
     "text": [
      "태국의 날씨에 대해 설명드리겠습니다.\n",
      "\n",
      "## 기본 특징\n",
      "- **열대성 기후**: 연중 고온다습한 날씨\n",
      "- **평균 기온**: 25-35°C\n",
      "- **습도**: 연중 높은 습도 (70-80%)\n",
      "\n",
      "## 계절별 특징\n",
      "\n",
      "### 🌞 건기 (11월-2월)\n",
      "- 가장 여행하기 좋은 시기\n",
      "- 기온: 25-30°C\n",
      "- 습도가 상대적으로 낮음\n",
      "- 강수량 적음\n",
      "\n",
      "### 🔥 더운 건기 (3월-5월)\n",
      "- 가장 더운 시기\n",
      "- 기온: 30-40°C\n",
      "- 매우 덥고 건조함\n",
      "- 4-5월이 가장 더움\n",
      "\n",
      "### 🌧️ 우기 (6월-10월)\n",
      "- 몬순 시즌\n",
      "- 기온: 25-32°C\n",
      "- 거의 매일 스콜성 비\n",
      "- 9-10월이 강수량 최고점\n",
      "\n",
      "## 지역별 차이\n",
      "\n",
      "### 북부 (치앙마이, 치앙라이)\n",
      "- 상대적으로 서늘함\n",
      "- 건기 때 일교차 큼 (밤에는 쌀쌀할 수 있음)\n",
      "\n",
      "### 중부 (방콕)\n",
      "- 전형적인 열대기후\n",
      "- 도시 열섬효과로 더 더움\n",
      "\n",
      "### 남부 (푸켓, 코사무이)\n",
      "- 연중 고온다습\n",
      "- 지역에 따라 우기 시기가 다름\n",
      "\n",
      "## 여행 팁\n",
      "- **최적 시기**: 11월-2월\n",
      "- **준비물**: 가벼운 옷, 우산, 선크림, 모자\n",
      "- **주의사항**: 우기에는 홍수 가능성 있음"
     ]
    }
   ],
   "source": [
    "async for chunk in climate_chain.astream({\"country\": \"태국\"}):\n",
    "    print(chunk, end=\"\")"
   ]
  },
  {
   "cell_type": "code",
   "execution_count": 13,
   "execution_state": "idle",
   "id": "bb6a9dfc-845c-4d01-9044-b023a26c3ffe",
   "metadata": {
    "execution": {
     "iopub.execute_input": "2025-10-28T11:39:16.117334Z",
     "iopub.status.busy": "2025-10-28T11:39:16.117176Z",
     "iopub.status.idle": "2025-10-28T11:39:16.119858Z",
     "shell.execute_reply": "2025-10-28T11:39:16.119523Z",
     "shell.execute_reply.started": "2025-10-28T11:39:16.117321Z"
    }
   },
   "outputs": [],
   "source": [
    "prompt_location = ChatPromptTemplate.from_messages([\n",
    "    (\"system\", \"You are a helpful assistant.\"),\n",
    "    (\"human\", \"{country}의 유명한 관광 명소에 대해 알려줘\")\n",
    "])\n",
    "\n",
    "location_chain = prompt_location | llm |  StrOutputParser()\n",
    "\n",
    "\n",
    "# climate_location.invoke({\"country\" : \"태국\"})"
   ]
  },
  {
   "cell_type": "code",
   "execution_count": 14,
   "execution_state": "idle",
   "id": "42330e3f-4c81-4eff-b60d-8378d7e1c067",
   "metadata": {
    "execution": {
     "iopub.execute_input": "2025-10-28T11:39:16.120421Z",
     "iopub.status.busy": "2025-10-28T11:39:16.120260Z",
     "iopub.status.idle": "2025-10-28T11:39:27.380612Z",
     "shell.execute_reply": "2025-10-28T11:39:27.380140Z",
     "shell.execute_reply.started": "2025-10-28T11:39:16.120406Z"
    }
   },
   "outputs": [
    {
     "name": "stdout",
     "output_type": "stream",
     "text": [
      "태국의 주요 관광 명소들을 지역별로 소개해드리겠습니다.\n",
      "\n",
      "## 🏛️ 방콕 (Bangkok)\n",
      "- **왓 포 (Wat Pho)** - 거대한 와불상으로 유명한 사원\n",
      "- **왓 아룬 (Wat Arun)** - 새벽 사원으로 불리는 아름다운 탑\n",
      "- **그랜드 팰리스** - 태국 왕실의 화려한 궁전\n",
      "- **차오프라야 강** - 롱테일 보트 투어\n",
      "- **카오산 로드** - 배낭여행자들의 성지\n",
      "\n",
      "## 🏖️ 푸켓 (Phuket)\n",
      "- **파통 비치** - 나이트라이프와 해변 액티비티\n",
      "- **피피 섬** - 영화 '더 비치' 촬영지\n",
      "- **빅 부다** - 45m 높이의 거대한 불상\n",
      "- **올드 타운** - 중국-포르투갈 스타일 건축물\n",
      "\n",
      "## 🌴 코사무이 (Koh Samui)\n",
      "- **차웽 비치** - 가장 인기 있는 해변\n",
      "- **빅 부다 사원** - 12m 높이의 황금 불상\n",
      "- **나무앙 폭포** - 열대우림 속 아름다운 폭포\n",
      "\n",
      "## 🏛️ 치앙마이 (Chiang Mai)\n",
      "- **도이 수텝 사원** - 산 위의 신성한 사원\n",
      "- **올드 시티** - 고대 성벽과 전통 사원들\n",
      "- **나이트 바자** - 전통 수공예품 쇼핑\n",
      "- **코끼리 보호구역** - 윤리적 코끼리 체험\n",
      "\n",
      "## 🏞️ 기타 명소\n",
      "- **아유타야** - 유네스코 세계문화유산 고대 도시\n",
      "- **수코타이** - 태국 최초 왕조의 유적지\n",
      "- **크라비** - 석회암 절벽과 에메랄드 바다\n",
      "\n",
      "각 지역마다 독특한 매력이 있으니, 관심사에 따라 선택하시면 됩니다!"
     ]
    }
   ],
   "source": [
    "async for chunk in location_chain.astream({\"country\": \"태국\"}):\n",
    "    print(chunk, end=\"\")"
   ]
  },
  {
   "cell_type": "code",
   "execution_count": 15,
   "execution_state": "idle",
   "id": "1bf17255-dada-4b0c-8d98-948dfe03ab06",
   "metadata": {
    "execution": {
     "iopub.execute_input": "2025-10-28T11:39:27.381242Z",
     "iopub.status.busy": "2025-10-28T11:39:27.381089Z",
     "iopub.status.idle": "2025-10-28T11:39:27.383282Z",
     "shell.execute_reply": "2025-10-28T11:39:27.382916Z",
     "shell.execute_reply.started": "2025-10-28T11:39:27.381227Z"
    }
   },
   "outputs": [],
   "source": [
    "#여행에 관한 정보를 얻는 llm를 만든다고 가정한다 위의 네가지 정보를 모두 포함하여 전체적인 형태의 여행 정보를 얻고 싶다고 가정 할때 어떻게 langchain에 활용할수 있을까?\n",
    "#결국 llm에서 결과가 나오면 string임으로 이 string을 json안에 assgin가능하다"
   ]
  },
  {
   "cell_type": "code",
   "execution_count": 16,
   "execution_state": "idle",
   "id": "4458a208-d5d2-4ebd-880c-1fdbcd70d675",
   "metadata": {
    "execution": {
     "iopub.execute_input": "2025-10-28T11:39:27.383841Z",
     "iopub.status.busy": "2025-10-28T11:39:27.383719Z",
     "iopub.status.idle": "2025-10-28T11:39:27.388900Z",
     "shell.execute_reply": "2025-10-28T11:39:27.388554Z",
     "shell.execute_reply.started": "2025-10-28T11:39:27.383831Z"
    }
   },
   "outputs": [],
   "source": [
    "# input에 {\"country\": \"태국\"}이라고 두고 itemgetter(\"country\")를 통해 변수를 가져온뒤 각각 llm의 결과를 얻고 sting으로 json에 포함시킨다면? \n",
    "# llm을 통과한 결과값들이 새로운 input(json타입)을 형성할수 있지 않을까?\n",
    "new_input = {\n",
    "                \"capital\" :  itemgetter(\"country\") | capital_chain,\n",
    "                \"culture\" :  itemgetter(\"country\") | culture_chain,\n",
    "                \"climate\" :  itemgetter(\"country\") | climate_chain,\n",
    "                \"location\":  itemgetter(\"country\") | location_chain\n",
    "            }"
   ]
  },
  {
   "cell_type": "code",
   "execution_count": 17,
   "execution_state": "idle",
   "id": "88bff6a8-7103-4a10-a973-3b4daf516538",
   "metadata": {
    "execution": {
     "iopub.execute_input": "2025-10-28T11:39:27.389453Z",
     "iopub.status.busy": "2025-10-28T11:39:27.389320Z",
     "iopub.status.idle": "2025-10-28T11:39:27.393228Z",
     "shell.execute_reply": "2025-10-28T11:39:27.392861Z",
     "shell.execute_reply.started": "2025-10-28T11:39:27.389442Z"
    }
   },
   "outputs": [],
   "source": [
    "# new_input의 capital, culture, climate, location가  template_total의 capital, culture, climate, location 변수와 연결된다\n",
    "template_total = \"\"\"The following is a friendly conversation between a human and an AI. \n",
    "The AI is talkative and provides lots of specific details from its context. \n",
    "\n",
    "capitial :  {capital}\n",
    "culture :   {culture}\n",
    "climate :   {climate}\n",
    "location :  {location}\n",
    "\n",
    "이 정보를 바탕으로 여행 가기 가장 좋은 계절을 알려주세요\n",
    "\"\"\"\n",
    "prompt_total  = PromptTemplate(input_variables=[\"capital\", \"culture\", \"climate\", \"location\"],\n",
    "                                 template=template_total)"
   ]
  },
  {
   "cell_type": "code",
   "execution_count": 18,
   "execution_state": "idle",
   "id": "73a0e2c4-08da-4002-8754-b6568c458e1a",
   "metadata": {
    "execution": {
     "iopub.execute_input": "2025-10-28T11:39:27.393731Z",
     "iopub.status.busy": "2025-10-28T11:39:27.393603Z",
     "iopub.status.idle": "2025-10-28T11:39:27.398013Z",
     "shell.execute_reply": "2025-10-28T11:39:27.397542Z",
     "shell.execute_reply.started": "2025-10-28T11:39:27.393721Z"
    }
   },
   "outputs": [],
   "source": [
    "travel_chain = new_input | prompt_total | llm | StrOutputParser()"
   ]
  },
  {
   "cell_type": "code",
   "execution_count": 19,
   "execution_state": "idle",
   "id": "f2aeafdb-0ca8-4dff-a07c-a3c8bb996452",
   "metadata": {
    "execution": {
     "iopub.execute_input": "2025-10-28T11:39:27.398556Z",
     "iopub.status.busy": "2025-10-28T11:39:27.398427Z",
     "iopub.status.idle": "2025-10-28T11:39:59.784949Z",
     "shell.execute_reply": "2025-10-28T11:39:59.784476Z",
     "shell.execute_reply.started": "2025-10-28T11:39:27.398544Z"
    }
   },
   "outputs": [
    {
     "name": "stdout",
     "output_type": "stream",
     "text": [
      "제가 제공한 정보를 종합해보면, **태국 여행하기 가장 좋은 계절은 11월부터 2월까지의 건기**입니다! 🌞\n",
      "\n",
      "## 왜 이 시기가 최적일까요?\n",
      "\n",
      "### 🌡️ 날씨 조건\n",
      "- **기온**: 25-30°C로 가장 쾌적\n",
      "- **습도**: 상대적으로 낮아서 덜 끈적거림\n",
      "- **강수량**: 거의 비가 오지 않아 야외활동 최적\n",
      "- **맑은 하늘**: 사진 찍기에도 완벽!\n",
      "\n",
      "### 🏖️ 지역별 장점\n",
      "**방콕**: 왕궁, 왓 포 등 야외 관광지 둘러보기 편함\n",
      "**북부 (치앙마이)**: 도이 수텝 사원 트레킹하기 좋고, 밤에는 서늘해서 나이트 바자 구경하기 완벽\n",
      "**남부 해변**: 푸켓, 크라비의 에메랄드빛 바다를 만끽하기 최고의 조건\n",
      "\n",
      "### 🎉 문화적 보너스\n",
      "- **12월-1월**: 태국의 겨울 성수기로 현지 축제들이 많아요\n",
      "- **로이 크라통 축제** (11월): 등불 축제를 경험할 수 있는 특별한 시기\n",
      "\n",
      "### 💡 여행 팁\n",
      "다만 이 시기는 성수기라서:\n",
      "- 항공료와 숙박비가 비쌀 수 있어요\n",
      "- 인기 관광지가 붐빌 수 있으니 미리 예약 필수!\n",
      "- 그래도 쾌적한 날씨 때문에 충분히 가치 있답니다\n",
      "\n",
      "혹시 예산을 절약하고 싶으시다면 우기 직전인 **10월 말이나 우기 직후인 3월 초**도 괜찮은 대안이 될 수 있어요!"
     ]
    }
   ],
   "source": [
    "async for chunk in travel_chain.astream({\"country\": \"태국\"}):\n",
    "    print(chunk, end=\"\")"
   ]
  },
  {
   "cell_type": "code",
   "execution_count": null,
   "execution_state": "idle",
   "id": "fdc43efe-88aa-4757-8c93-0806abe1be97",
   "metadata": {},
   "outputs": [],
   "source": []
  },
  {
   "cell_type": "code",
   "execution_count": 20,
   "execution_state": "idle",
   "id": "4c6b3869-116c-4ee8-9ddd-f3ca12353a72",
   "metadata": {
    "execution": {
     "iopub.execute_input": "2025-10-28T11:39:59.786353Z",
     "iopub.status.busy": "2025-10-28T11:39:59.786208Z",
     "iopub.status.idle": "2025-10-28T11:39:59.788799Z",
     "shell.execute_reply": "2025-10-28T11:39:59.788407Z",
     "shell.execute_reply.started": "2025-10-28T11:39:59.786339Z"
    }
   },
   "outputs": [],
   "source": [
    "#비슷한 방법으로 RunnableParallel도 존재한다 \n",
    "parallel_chain = RunnableParallel(\n",
    "                                  capital=capital_chain, \n",
    "                                  culture=culture_chain,\n",
    "                                  climate=climate_chain, \n",
    "                                  location =location_chain\n",
    "                                 )"
   ]
  },
  {
   "cell_type": "code",
   "execution_count": 21,
   "execution_state": "idle",
   "id": "7e5bd4a8-00cf-43b9-b459-16329ccbb76f",
   "metadata": {
    "execution": {
     "iopub.execute_input": "2025-10-28T11:39:59.789335Z",
     "iopub.status.busy": "2025-10-28T11:39:59.789223Z",
     "iopub.status.idle": "2025-10-28T11:39:59.793927Z",
     "shell.execute_reply": "2025-10-28T11:39:59.793562Z",
     "shell.execute_reply.started": "2025-10-28T11:39:59.789323Z"
    }
   },
   "outputs": [],
   "source": [
    "travel_chain_parallel =  parallel_chain | prompt_total | llm | StrOutputParser()"
   ]
  },
  {
   "cell_type": "code",
   "execution_count": 22,
   "execution_state": "idle",
   "id": "40909edb-50b8-41d8-886b-647dfc5b55eb",
   "metadata": {
    "execution": {
     "iopub.execute_input": "2025-10-28T11:39:59.794407Z",
     "iopub.status.busy": "2025-10-28T11:39:59.794303Z",
     "iopub.status.idle": "2025-10-28T11:40:41.889661Z",
     "shell.execute_reply": "2025-10-28T11:40:41.889203Z",
     "shell.execute_reply.started": "2025-10-28T11:39:59.794397Z"
    }
   },
   "outputs": [
    {
     "name": "stdout",
     "output_type": "stream",
     "text": [
      "제공해주신 태국 정보를 바탕으로 말씀드리면, **11월부터 2월까지의 건기**가 태국 여행하기에 가장 좋은 계절입니다! 🌞\n",
      "\n",
      "## 왜 이 시기가 최적일까요?\n",
      "\n",
      "### 🌡️ **완벽한 날씨 조건**\n",
      "- 기온: 25-30°C로 가장 쾌적함\n",
      "- 습도가 상대적으로 낮아서 덜 끈적거림\n",
      "- 강수량이 적어 야외활동하기 좋음\n",
      "- 하늘이 맑아 사진 찍기에도 완벽!\n",
      "\n",
      "### 🏖️ **지역별 장점**\n",
      "- **방콕**: 왕궁, 왓 포, 왓 아룬 등 야외 관광지 둘러보기 최적\n",
      "- **치앙마이**: 도이 수텝 트레킹이나 올드 시티 탐방하기 좋음  \n",
      "- **푸켓/끄라비**: 파통 비치, 라일레이 비치에서 해양스포츠 즐기기 완벽\n",
      "- **코사무이**: 차웽 비치에서 일광욕하기 이상적\n",
      "\n",
      "### 🎉 **특별한 경험**\n",
      "- **11월**: 로이 끄라통 등불 축제를 경험할 수 있어요!\n",
      "- 차오프라야 강 크루즈나 피피 섬 투어 등 보트 투어하기에도 파도가 잔잔함\n",
      "\n",
      "다만 이 시기는 성수기라서 숙박비가 비싸고 관광지가 붐빌 수 있어요. 그래도 태국의 아름다운 사원들과 해변을 가장 편안하게 즐길 수 있는 시기입니다! ✨\n",
      "\n",
      "혹시 특정 지역이나 활동에 관심이 있으시다면 더 구체적인 조언을 드릴 수 있어요!"
     ]
    }
   ],
   "source": [
    "async for chunk in travel_chain_parallel.astream({\"country\": \"태국\"}):\n",
    "    print(chunk, end=\"\")\n"
   ]
  },
  {
   "cell_type": "code",
   "execution_count": null,
   "execution_state": "idle",
   "id": "fed6f5c0-06d8-484c-8ec3-7281fd8ea952",
   "metadata": {},
   "outputs": [],
   "source": []
  },
  {
   "cell_type": "code",
   "execution_count": null,
   "execution_state": "idle",
   "id": "30b6d00f-9f2c-4407-8492-ed4d904a5c8e",
   "metadata": {},
   "outputs": [],
   "source": []
  },
  {
   "cell_type": "code",
   "execution_count": 23,
   "execution_state": "idle",
   "id": "556f0506-6406-41f3-8d86-0a1a4c4516ad",
   "metadata": {
    "execution": {
     "iopub.execute_input": "2025-10-28T11:40:41.892177Z",
     "iopub.status.busy": "2025-10-28T11:40:41.891984Z",
     "iopub.status.idle": "2025-10-28T11:40:41.894231Z",
     "shell.execute_reply": "2025-10-28T11:40:41.893855Z",
     "shell.execute_reply.started": "2025-10-28T11:40:41.892161Z"
    }
   },
   "outputs": [],
   "source": [
    "# llm의 outpu의 경우 StrOutputParser()를 활용해서 string으로 나오지만 llm.with_structured_output(obj)을 통해 json포맷으로 받을수 있다 \n",
    "# llm의 결과가 json포맷으로 오면 이를 활용하여 다른 langchain에 활용할수 있다"
   ]
  },
  {
   "cell_type": "code",
   "execution_count": 24,
   "execution_state": "idle",
   "id": "a835e2f4-4d80-4bd8-8229-c37cf7934565",
   "metadata": {
    "execution": {
     "iopub.execute_input": "2025-10-28T11:40:41.894703Z",
     "iopub.status.busy": "2025-10-28T11:40:41.894593Z",
     "iopub.status.idle": "2025-10-28T11:40:41.898688Z",
     "shell.execute_reply": "2025-10-28T11:40:41.898339Z",
     "shell.execute_reply.started": "2025-10-28T11:40:41.894694Z"
    }
   },
   "outputs": [],
   "source": [
    "template_plan = \"\"\"The following is a friendly conversation between a human and an AI. \n",
    "The AI is talkative and provides lots of specific details from its context. \n",
    "\n",
    "capitial :  {capital}\n",
    "culture :   {culture}\n",
    "climate :   {climate}\n",
    "location :  {location}\n",
    "\n",
    "이 정보를 바탕으로 여행 계획을 세워주세요\n",
    "\"\"\"\n",
    "prompt_plan  = PromptTemplate(input_variables=[\"capital\", \"culture\", \"climate\", \"location\"],\n",
    "                                 template=template_plan)"
   ]
  },
  {
   "cell_type": "code",
   "execution_count": 25,
   "execution_state": "idle",
   "id": "ad9e7854-4e89-41be-9e9e-e59e38bba52c",
   "metadata": {
    "execution": {
     "iopub.execute_input": "2025-10-28T11:40:41.899105Z",
     "iopub.status.busy": "2025-10-28T11:40:41.899009Z",
     "iopub.status.idle": "2025-10-28T11:40:41.903758Z",
     "shell.execute_reply": "2025-10-28T11:40:41.903386Z",
     "shell.execute_reply.started": "2025-10-28T11:40:41.899096Z"
    }
   },
   "outputs": [],
   "source": [
    "#llm의 결과값 포맷의 schema\n",
    "class Travel(BaseModel):\n",
    "    capital: str = Field(description=\"국가의 수도에 대한 설명\")\n",
    "    culture: str = Field(description=\"국가의 문화에 대한 설명\")\n",
    "    climate : str = Field(description=\"국가 기후에 대한 설명\")\n",
    "    location : str = Field(description=\"국가 관광명소에 대한 설명\")\n",
    "    plan: str = Field(description=\"여행계획\")\n"
   ]
  },
  {
   "cell_type": "code",
   "execution_count": 26,
   "execution_state": "idle",
   "id": "b5408f26-bcaa-4a7d-bede-dc78759c7b89",
   "metadata": {
    "execution": {
     "iopub.execute_input": "2025-10-28T11:40:41.904177Z",
     "iopub.status.busy": "2025-10-28T11:40:41.904083Z",
     "iopub.status.idle": "2025-10-28T11:40:41.912665Z",
     "shell.execute_reply": "2025-10-28T11:40:41.912364Z",
     "shell.execute_reply.started": "2025-10-28T11:40:41.904168Z"
    }
   },
   "outputs": [],
   "source": [
    "one_chain = (\n",
    "    {\n",
    "                \"capital\" :  itemgetter(\"country\") | capital_chain,\n",
    "                \"culture\" :  itemgetter(\"country\") | culture_chain,\n",
    "                \"climate\" :  itemgetter(\"country\") | climate_chain,\n",
    "                \"location\":  itemgetter(\"country\") | location_chain\n",
    "    }\n",
    "    | prompt_plan\n",
    "    | llm.with_structured_output(Travel)\n",
    ")\n",
    " "
   ]
  },
  {
   "cell_type": "code",
   "execution_count": 27,
   "execution_state": "idle",
   "id": "532d1389-23b8-4d19-a983-7a2eaac317be",
   "metadata": {
    "execution": {
     "iopub.execute_input": "2025-10-28T11:40:41.913171Z",
     "iopub.status.busy": "2025-10-28T11:40:41.913021Z",
     "iopub.status.idle": "2025-10-28T11:41:17.082821Z",
     "shell.execute_reply": "2025-10-28T11:41:17.082426Z",
     "shell.execute_reply.started": "2025-10-28T11:40:41.913157Z"
    }
   },
   "outputs": [
    {
     "name": "stdout",
     "output_type": "stream",
     "text": [
      "capital='태국의 수도는 방콕(Bangkok)입니다. 정식 명칭은 크룽텝마하나콘이며, 인구 약 1,000만 명의 대도시입니다. 태국의 정치, 경제, 문화의 중심지로 왕궁, 왓 포 사원, 왓 아룬 사원, 카오산 로드 등 주요 관광명소가 있습니다. 스카이트레인(BTS), 지하철(MRT), 보트 등 다양한 교통수단이 발달되어 있으며, 팟타이, 똠얌꿍 등 유명한 태국 요리를 맛볼 수 있습니다.' culture=\"태국은 인구의 95%가 소승불교도인 불교 국가로, 일상생활에 불교 철학이 깊이 스며들어 있습니다. 와이(Wai) 합장 인사법과 연장자 공경 문화가 있으며 '미소의 나라'로 불립니다. 쌀이 주식이고 매운맛, 신맛, 단맛, 짠맛이 조화된 음식문화가 발달했습니다. 무에타이 전통 무술, 우아한 전통 무용, 왕실에 대한 깊은 존경 문화가 있으며, 송크란(물축제), 로이 크라통(등불축제) 등 다양한 축제가 있습니다.\" climate='태국은 열대성 기후로 연중 고온다습하며 평균 기온은 25-35°C입니다. 건기(11월-2월)는 가장 여행하기 좋은 시기로 기온 25-30°C이며, 더운 건기(3월-5월)는 30-40°C로 가장 덥고, 우기(6월-10월)는 25-32°C로 몬순 시즌입니다. 북부는 상대적으로 서늘하고, 중부는 전형적인 열대기후, 남부는 연중 습하고 따뜻합니다. 최적 여행시기는 11월-2월입니다.' location=\"방콕: 왓 포(거대한 와불상), 왓 아룬(새벽 사원), 그랜드 팰리스(왕실 궁전), 차오프라야 강, 카오산 로드. 푸켓: 파통 비치, 피피 섬(영화 '더 비치' 촬영지), 빅 부다, 올드 타운. 끄라비: 라일레이 비치(암벽등반), 에메랄드 풀(천연 온천), 타이거 케이브 템플. 치앙마이: 왓 프라탓 도이 수텝(산 위의 황금 사원), 올드 시티, 나이트 바자. 코사무이: 빅 부다 템플, 나무앙 폭포, 차웽 비치.\" plan='태국 여행 계획을 세워드리겠습니다! \\n\\n**추천 일정 (7-10일)**:\\n1일차: 방콕 도착 - 그랜드 팰리스, 왓 포 사원 관광\\n2일차: 방콕 - 왓 아룬, 차오프라야 강 보트투어, 카오산 로드\\n3일차: 치앙마이 이동 - 올드 시티 탐방\\n4일차: 치앙마이 - 왓 프라탓 도이 수텝, 나이트 바자\\n5-7일차: 푸켓/끄라비 - 해변 휴양, 피피 섬 투어\\n8일차: 방콕 복귀 - 쇼핑, 마사지\\n9일차: 출국\\n\\n**여행 팁**: 11-2월 건기 방문 추천, 가벼운 옷과 우산 준비, 현지 길거리 음식 체험, 사원 방문 시 단정한 복장 필수'"
     ]
    }
   ],
   "source": [
    "async for chunk in one_chain.astream({\"country\": \"태국\"}):\n",
    "    print(chunk, end=\"\")\n"
   ]
  },
  {
   "cell_type": "code",
   "execution_count": null,
   "execution_state": "idle",
   "id": "b92a4d31-2f88-478e-8cb6-db449f1db80c",
   "metadata": {},
   "outputs": [],
   "source": []
  },
  {
   "cell_type": "code",
   "execution_count": null,
   "execution_state": "idle",
   "id": "364ee106-2b19-4d56-b7e5-572aeb458e22",
   "metadata": {},
   "outputs": [],
   "source": []
  },
  {
   "cell_type": "code",
   "execution_count": null,
   "execution_state": "idle",
   "id": "98b6dcd0-6d0b-4898-8cfa-bce9c0739508",
   "metadata": {},
   "outputs": [],
   "source": []
  },
  {
   "cell_type": "code",
   "execution_count": 28,
   "execution_state": "idle",
   "id": "ed1e2e43-31d6-4701-afed-ecf2c91ba4de",
   "metadata": {
    "execution": {
     "iopub.execute_input": "2025-10-28T11:41:17.085335Z",
     "iopub.status.busy": "2025-10-28T11:41:17.085202Z",
     "iopub.status.idle": "2025-10-28T11:41:17.087804Z",
     "shell.execute_reply": "2025-10-28T11:41:17.087423Z",
     "shell.execute_reply.started": "2025-10-28T11:41:17.085324Z"
    }
   },
   "outputs": [],
   "source": [
    "#data는 llm의 결과 값을 의미합니다  RunnableLambda함수를 활용하면 data와 llm결과를 연결 시켜줄수 있습니다\n",
    "def transform_keys(data):\n",
    "    \"\"\"Transform keys from history to chat_history\"\"\"\n",
    "    return {\n",
    "        \"capital\":  data.capital,\n",
    "        \"culture\":  data.culture,  \n",
    "        \"climate\":  data.climate, \n",
    "        \"location\": data.location, \n",
    "        \"plan\":     data.plan\n",
    "    }"
   ]
  },
  {
   "cell_type": "code",
   "execution_count": 29,
   "execution_state": "idle",
   "id": "021dbb94-ee2b-4607-980e-53d5ea269bff",
   "metadata": {
    "execution": {
     "iopub.execute_input": "2025-10-28T11:41:17.088212Z",
     "iopub.status.busy": "2025-10-28T11:41:17.088095Z",
     "iopub.status.idle": "2025-10-28T11:41:17.092168Z",
     "shell.execute_reply": "2025-10-28T11:41:17.091776Z",
     "shell.execute_reply.started": "2025-10-28T11:41:17.088202Z"
    }
   },
   "outputs": [],
   "source": [
    "template_detail = \"\"\"The following is a friendly conversation between a human and an AI. \n",
    "The AI is talkative and provides lots of specific details from its context. \n",
    "\n",
    "capitial :  {capital}\n",
    "culture :   {culture}\n",
    "climate :   {climate}\n",
    "location :  {location}\n",
    "plan :      {plan}\n",
    "\n",
    "plan에 담겨있는 관광지 혹은 축제에 대한 정보를 좀더 상세하게 알려두세요 \n",
    "\"\"\"\n",
    "prompt_detail  = PromptTemplate(input_variables=[\"capital\", \"culture\", \"climate\", \"location\", \"plan\"],\n",
    "                                 template=template_detail)"
   ]
  },
  {
   "cell_type": "code",
   "execution_count": 32,
   "execution_state": "idle",
   "id": "7719a6e3-d6b6-4a81-9659-d3687a1467b1",
   "metadata": {
    "execution": {
     "iopub.execute_input": "2025-10-28T11:42:11.966086Z",
     "iopub.status.busy": "2025-10-28T11:42:11.965891Z",
     "iopub.status.idle": "2025-10-28T11:42:11.970235Z",
     "shell.execute_reply": "2025-10-28T11:42:11.969871Z",
     "shell.execute_reply.started": "2025-10-28T11:42:11.966073Z"
    }
   },
   "outputs": [],
   "source": [
    "# RunnableLambda(transform_keys)는 llm과 prompt_detail의 데이터를 매핑 시켜주는 역할\n",
    "chain_and_chain = (\n",
    "    {\n",
    "                \"capital\" :  itemgetter(\"country\") | capital_chain,\n",
    "                \"culture\" :  itemgetter(\"country\") | culture_chain,\n",
    "                \"climate\" :  itemgetter(\"country\") | climate_chain,\n",
    "                \"location\":  itemgetter(\"country\") | location_chain\n",
    "    }\n",
    "    | prompt_plan\n",
    "    | llm.with_structured_output(Travel)\n",
    "    | RunnableLambda(transform_keys)\n",
    "    | prompt_detail\n",
    "    | llm\n",
    "    | StrOutputParser()\n",
    ")\n"
   ]
  },
  {
   "cell_type": "code",
   "execution_count": 33,
   "execution_state": "idle",
   "id": "f656c446-a3b6-41d3-98fe-ba90606f2cd6",
   "metadata": {
    "execution": {
     "iopub.execute_input": "2025-10-28T11:42:12.622586Z",
     "iopub.status.busy": "2025-10-28T11:42:12.622369Z",
     "iopub.status.idle": "2025-10-28T11:43:01.249839Z",
     "shell.execute_reply": "2025-10-28T11:43:01.249375Z",
     "shell.execute_reply.started": "2025-10-28T11:42:12.622571Z"
    }
   },
   "outputs": [
    {
     "name": "stdout",
     "output_type": "stream",
     "text": [
      "안녕하세요! 일본 여행 계획에 포함된 관광지와 축제에 대해 더 자세히 알려드리겠습니다.\n",
      "\n",
      "## 🌸 봄 (벚꽃 시즌) - 도쿄-교토-오사카 골든 루트\n",
      "\n",
      "**도쿄의 벚꽃 명소:**\n",
      "- **우에노 공원**: 약 1,200그루의 벚나무가 있어 하나미(꽃구경) 파티의 성지입니다\n",
      "- **치도리가후치**: 황궁 주변의 해자를 따라 벚꽃이 터널을 이루며, 야간 조명도 아름답습니다\n",
      "- **신주쿠 교엔**: 65종류의 벚나무가 있어 오랜 기간 꽃구경이 가능합니다\n",
      "\n",
      "**교토의 벚꽃과 축제:**\n",
      "- **마루야마 공원**: 교토 최대의 하나미 장소로 야간 조명이 환상적입니다\n",
      "- **철학자의 길**: 약 2km의 산책로를 따라 벚꽃이 늘어서 있습니다\n",
      "- **기온 마츠리 준비**: 7월 축제를 위한 준비 과정을 볼 수 있습니다\n",
      "\n",
      "## 🏔️ 여름 - 홋카이도 & 산간 지역\n",
      "\n",
      "**홋카이도 여름 축제:**\n",
      "- **삿포로 맥주 축제** (7-8월): 오도리 공원에서 열리는 대규모 맥주 축제\n",
      "- **라벤더 축제** (7월): 후라노의 라벤더 밭에서 열리는 보라색 꽃 축제\n",
      "- **요사코이 소란 축제** (6월): 삿포로의 대표적인 댄스 축제\n",
      "\n",
      "## 🍁 가을 - 교토, 나라, 후지산 주변\n",
      "\n",
      "**단풍 명소:**\n",
      "- **교토 아라시야마**: 대나무 숲과 단풍의 조화가 아름다운 곳\n",
      "- **나라 공원**: 사슴들과 함께 단풍을 즐길 수 있는 독특한 경험\n",
      "- **가와구치 호수**: 후지산을 배경으로 한 단풍 리플렉션이 장관입니다\n",
      "\n",
      "**가을 축제:**\n",
      "- **지다이 마츠리** (10월 22일, 교토): 헤이안 시대부터 메이지 유신까지의 의상 행렬\n",
      "- **단풍 라이트업**: 11월 중순~12월 초 교토 각 사찰에서 야간 조명\n",
      "\n",
      "## ❄️ 겨울 - 하코네 & 홋카이도\n",
      "\n",
      "**하코네 겨울 즐길거리:**\n",
      "- **온천 료칸**: 눈 내리는 풍경을 보며 즐기는 노천온천\n",
      "- **아시노코 호수**: 겨울 후지산의 설경이 호수에 반영되는 모습\n",
      "- **하코네 신사**: 눈 덮인 도리이가 신비로운 분위기를 연출\n",
      "\n",
      "**홋카이도 겨울 축제:**\n",
      "- **삿포로 눈 축제** (2월): 거대한 눈 조각상과 얼음 조각 전시\n",
      "- **오타루 눈등롱 축제** (2월): 운하를 따라 설치된 수천 개의 촛불\n",
      "- **류히요 빙폭 축제**: 소운쿄 온천가의 얼어붙은 폭포 라이트업\n",
      "\n",
      "이러한 계절별 특색을 고려하여 여행 계획을 세우시면 일본의 사계절 아름다움과 다양한 문화 축제를 모두 경험하실 수 있을 것입니다!"
     ]
    }
   ],
   "source": [
    "async for chunk in chain_and_chain.astream({\"country\": \"일본\"}):\n",
    "    print(chunk, end=\"\")\n"
   ]
  },
  {
   "cell_type": "code",
   "execution_count": null,
   "execution_state": "idle",
   "id": "9edf5aa2-77dd-44bc-8636-cc4c69e6eb9d",
   "metadata": {},
   "outputs": [],
   "source": []
  },
  {
   "cell_type": "code",
   "execution_count": 36,
   "execution_state": "idle",
   "id": "da2c3442-95f0-43f7-86b8-7287b98a8b38",
   "metadata": {
    "execution": {
     "iopub.execute_input": "2025-10-28T11:43:18.967020Z",
     "iopub.status.busy": "2025-10-28T11:43:18.966745Z",
     "iopub.status.idle": "2025-10-28T11:43:18.970036Z",
     "shell.execute_reply": "2025-10-28T11:43:18.969542Z",
     "shell.execute_reply.started": "2025-10-28T11:43:18.966999Z"
    }
   },
   "outputs": [],
   "source": [
    "template_plan_final = \"\"\"The following is a friendly conversation between a human and an AI. \n",
    "The AI is talkative and provides lots of specific details from its context. \n",
    "\n",
    "capitial :  {capital}\n",
    "culture :   {culture}\n",
    "climate :   {climate}\n",
    "\n",
    "이 정보를 바탕으로 여행 계획을 세워주세요\n",
    "\"\"\"\n",
    "prompt_plan_final  = PromptTemplate(input_variables=[\"capital\", \"culture\", \"climate\"],\n",
    "                                 template=template_plan_final)"
   ]
  },
  {
   "cell_type": "code",
   "execution_count": 37,
   "execution_state": "idle",
   "id": "428d7fec-57a6-49dc-a0c7-57c0140468f5",
   "metadata": {
    "execution": {
     "iopub.execute_input": "2025-10-28T11:43:18.970718Z",
     "iopub.status.busy": "2025-10-28T11:43:18.970596Z",
     "iopub.status.idle": "2025-10-28T11:43:18.975499Z",
     "shell.execute_reply": "2025-10-28T11:43:18.974972Z",
     "shell.execute_reply.started": "2025-10-28T11:43:18.970707Z"
    }
   },
   "outputs": [],
   "source": [
    "class TravelLast(BaseModel):\n",
    "    capital: str = Field(description=\"국가의 수도에 대한 설명\")\n",
    "    culture: str = Field(description=\"국가의 문화에 대한 설명\")\n",
    "    climate : str = Field(description=\"국가 기후에 대한 설명\")\n",
    "    plan: str = Field(description=\"여행계획\")"
   ]
  },
  {
   "cell_type": "code",
   "execution_count": 38,
   "execution_state": "idle",
   "id": "8ed631ed-2c98-4f62-af7d-305f92f5f81d",
   "metadata": {
    "execution": {
     "iopub.execute_input": "2025-10-28T11:43:19.173608Z",
     "iopub.status.busy": "2025-10-28T11:43:19.173478Z",
     "iopub.status.idle": "2025-10-28T11:43:19.176384Z",
     "shell.execute_reply": "2025-10-28T11:43:19.175849Z",
     "shell.execute_reply.started": "2025-10-28T11:43:19.173596Z"
    }
   },
   "outputs": [],
   "source": [
    "def transform_key_last(data):\n",
    "    \"\"\"Transform keys from history to chat_history\"\"\"\n",
    "    return {\n",
    "        \"capital\":  data.capital,\n",
    "        \"culture\":  data.culture,  \n",
    "        \"climate\":  data.climate, \n",
    "        \"plan\":     data.plan\n",
    "    }"
   ]
  },
  {
   "cell_type": "code",
   "execution_count": 39,
   "execution_state": "idle",
   "id": "f0d1b183-4117-4104-92d5-47add7875e4a",
   "metadata": {
    "execution": {
     "iopub.execute_input": "2025-10-28T11:43:30.743578Z",
     "iopub.status.busy": "2025-10-28T11:43:30.743352Z",
     "iopub.status.idle": "2025-10-28T11:43:30.746179Z",
     "shell.execute_reply": "2025-10-28T11:43:30.745766Z",
     "shell.execute_reply.started": "2025-10-28T11:43:30.743566Z"
    }
   },
   "outputs": [],
   "source": [
    "template_detail_final = \"\"\"The following is a friendly conversation between a human and an AI. \n",
    "The AI is talkative and provides lots of specific details from its context. \n",
    "\n",
    "capitial :  {capital}\n",
    "culture :   {culture}\n",
    "climate :   {climate}\n",
    "plan :      {plan}\n",
    "\n",
    "plan에 담겨있는 관광지 혹은 축제에 대한 정보를 좀더 상세하게 알려두세요 \n",
    "\"\"\"\n",
    "prompt_detail_final = PromptTemplate(input_variables=[\"capital\", \"culture\", \"climate\", \"plan\"],\n",
    "                                 template=template_detail_final)"
   ]
  },
  {
   "cell_type": "code",
   "execution_count": 40,
   "execution_state": "idle",
   "id": "bca10af4-d5f8-4927-886c-1b0b60310fa8",
   "metadata": {
    "execution": {
     "iopub.execute_input": "2025-10-28T11:43:31.355856Z",
     "iopub.status.busy": "2025-10-28T11:43:31.355641Z",
     "iopub.status.idle": "2025-10-28T11:43:31.360220Z",
     "shell.execute_reply": "2025-10-28T11:43:31.359787Z",
     "shell.execute_reply.started": "2025-10-28T11:43:31.355843Z"
    }
   },
   "outputs": [],
   "source": [
    "two_json_chain=({\n",
    "    \"capital\": itemgetter(\"country\") | capital_chain,\n",
    "    \"culture\": itemgetter(\"country\") | culture_chain,\n",
    "    \"climate\": itemgetter(\"country\") | climate_chain\n",
    "    }\n",
    "    | prompt_plan_final\n",
    "    | llm.with_structured_output(TravelLast)\n",
    "    | RunnableLambda(transform_key_last)\n",
    "    | {\n",
    "        \"capital\": itemgetter(\"capital\"),   # capital(\"country\") -> itemgetter(\"capital\")\n",
    "        \"culture\": itemgetter(\"culture\"),   # 쉼표 추가\n",
    "        \"climate\": itemgetter(\"climate\"),   # 쉼표 추가\n",
    "        \"plan\": itemgetter(\"plan\")\n",
    "    }\n",
    "    | prompt_detail_final\n",
    "    | llm\n",
    "    | StrOutputParser()\n",
    "    )\n"
   ]
  },
  {
   "cell_type": "code",
   "execution_count": 41,
   "execution_state": "idle",
   "id": "8a7d49c0-57a3-472f-9967-8be44cf0b33d",
   "metadata": {
    "execution": {
     "iopub.execute_input": "2025-10-28T11:43:32.154062Z",
     "iopub.status.busy": "2025-10-28T11:43:32.153860Z",
     "iopub.status.idle": "2025-10-28T11:44:40.620118Z",
     "shell.execute_reply": "2025-10-28T11:44:40.619702Z",
     "shell.execute_reply.started": "2025-10-28T11:43:32.154049Z"
    }
   },
   "outputs": [
    {
     "name": "stdout",
     "output_type": "stream",
     "text": [
      "네, plan에 언급된 관광지들에 대해 상세히 설명드리겠습니다!\n",
      "\n",
      "## **베이징 관광지**\n",
      "\n",
      "**자금성(紫禁城)**\n",
      "- 명·청 황제들의 궁궐로 1420년 완공, 약 600년 역사\n",
      "- 면적 72만㎡, 건물 980여 동, 방 9,999개의 거대한 규모\n",
      "- 태화전, 중화전, 보화전 등 주요 전각들과 황제의 생활공간 관람 가능\n",
      "- 입장료: 성인 60위안(비수기), 80위안(성수기)\n",
      "\n",
      "**만리장성(八达岭 구간 추천)**\n",
      "- 총 길이 2만여 km의 세계 최대 성벽, 베이징에서 차로 1시간 거리\n",
      "- 팔달령 구간이 가장 잘 보존되어 관광객들이 많이 찾음\n",
      "- 케이블카 이용 가능, 등반 시 2-3시간 소요\n",
      "- 입장료: 40위안, 케이블카 왕복 140위안\n",
      "\n",
      "**천단공원(天坛)**\n",
      "- 명·청 황제들이 하늘에 제사를 지내던 제단\n",
      "- 기년전(祈年殿)의 독특한 원형 건축이 유명\n",
      "- 아침 일찍 가면 태극권하는 현지인들 구경 가능\n",
      "- 입장료: 15위안, 통합권 35위안\n",
      "\n",
      "## **상하이 관광지**\n",
      "\n",
      "**와이탄(外滩)**\n",
      "- 황푸강변 1.5km 구간의 서구식 건축물 거리\n",
      "- 밤에는 푸둥 신구의 화려한 야경 감상 최적지\n",
      "- 19-20세기 조계지 시절 은행, 호텔 건물들이 그대로 보존\n",
      "- 무료 관람, 야경은 오후 7-9시가 가장 아름다움\n",
      "\n",
      "**동방명주(东方明珠)**\n",
      "- 높이 468m의 상하이 랜드마크 타워\n",
      "- 3개의 구형 전망대에서 상하이 전경 조망\n",
      "- 1층에는 상하이 역사박물관도 함께 운영\n",
      "- 입장료: 전망대별로 120-220위안\n",
      "\n",
      "**예원(豫园)**\n",
      "- 명나라 시대(1559년) 조성된 전통 중국식 정원\n",
      "- 연못, 정자, 기암괴석이 조화를 이룬 아름다운 경관\n",
      "- 주변 예원상가에서 전통 간식과 기념품 쇼핑 가능\n",
      "- 입장료: 40위안\n",
      "\n",
      "## **주변 도시**\n",
      "\n",
      "**소주(苏州) - \"동양의 베니스\"**\n",
      "- 상하이에서 고속철로 30분 거리\n",
      "- 졸정원, 유원, 망사원 등 9개 정원이 유네스코 세계문화유산\n",
      "- 운하를 따라 발달한 수향 고진의 아름다운 풍경\n",
      "- 정원 입장료: 각각 30-90위안\n",
      "\n",
      "**항저우(杭州) 서호(西湖)**\n",
      "- \"천국에는 천당이 있고, 지상에는 소항이 있다\"는 말로 유명\n",
      "- 면적 6.4km²의 호수 주변 10경이 절경\n",
      "- 유람선 타고 호수 일주하며 삼담인월, 소제춘효 등 명승 관람\n",
      "- 서호 관람 무료, 유람선 55위안\n",
      "\n",
      "## **문화 체험 활동 상세정보**\n",
      "\n",
      "**경극 관람**\n",
      "- 베이징: 후광회관, 정을다원에서 공연 (티켓 180-680위안)\n",
      "- 공연시간 보통 1.5-2시간, 영어 자막 제공\n",
      "- 전통 의상, 분장, 무술 동작이 어우러진 종합예술\n",
      "\n",
      "**전통 요리 클래스**\n",
      "- 베이징덕, 마파두부, 딤섬 만들기 등\n",
      "- 현지 요리학교에서 2-3시간 코스 운영\n",
      "- 비용: 1인당 200-400위안\n",
      "\n",
      "이렇게 각 관광지마다 독특한 역사와 문화적 가치를 가지고 있어서, 중국의 전통과 현대가 어우러진 매력을 충분히 경험하실 수 있을 것입니다!"
     ]
    }
   ],
   "source": [
    "async for chunk in two_json_chain.astream({\"country\": \"중국\"}):\n",
    "    print(chunk, end=\"\")\n"
   ]
  },
  {
   "cell_type": "code",
   "execution_count": null,
   "execution_state": "idle",
   "id": "447988cb-e66a-4f82-a757-f88ec4ed2f56",
   "metadata": {},
   "outputs": [],
   "source": []
  },
  {
   "cell_type": "code",
   "execution_count": null,
   "execution_state": "idle",
   "id": "67229963-27d1-469b-b2f0-4827c805bc97",
   "metadata": {},
   "outputs": [],
   "source": []
  },
  {
   "cell_type": "code",
   "execution_count": null,
   "execution_state": "idle",
   "id": "14f48490-6c23-47c7-8dba-edc8d91546eb",
   "metadata": {},
   "outputs": [],
   "source": []
  },
  {
   "cell_type": "code",
   "execution_count": null,
   "execution_state": "idle",
   "id": "910f4731-b6b1-4908-8256-50032799180e",
   "metadata": {},
   "outputs": [],
   "source": []
  },
  {
   "cell_type": "code",
   "execution_count": null,
   "id": "623fad3f-b5fd-487b-88c3-ed11a76a0360",
   "metadata": {},
   "outputs": [],
   "source": []
  },
  {
   "cell_type": "code",
   "execution_count": null,
   "id": "686a36bf-032d-4cfc-bdfb-2da6d52de831",
   "metadata": {},
   "outputs": [],
   "source": []
  },
  {
   "cell_type": "code",
   "execution_count": null,
   "id": "90fb422a-2227-4ad4-9375-a7da53fc6b34",
   "metadata": {},
   "outputs": [],
   "source": []
  },
  {
   "cell_type": "code",
   "execution_count": null,
   "id": "3ed92966-877a-4fe8-b5b2-17e3a69ef899",
   "metadata": {},
   "outputs": [],
   "source": []
  },
  {
   "cell_type": "code",
   "execution_count": null,
   "id": "ccccdbb1-3838-467e-a19e-fd292519ffa7",
   "metadata": {},
   "outputs": [],
   "source": []
  },
  {
   "cell_type": "code",
   "execution_count": null,
   "id": "cf3d19a5-5af7-4005-8c08-bda8648e4143",
   "metadata": {},
   "outputs": [],
   "source": []
  },
  {
   "cell_type": "code",
   "execution_count": null,
   "id": "7e505612-d2f5-4f9d-b988-fac93162b9ea",
   "metadata": {},
   "outputs": [],
   "source": []
  },
  {
   "cell_type": "code",
   "execution_count": null,
   "id": "d107963c-3e0c-4a0a-9cfc-e80dc44f09dc",
   "metadata": {},
   "outputs": [],
   "source": []
  },
  {
   "cell_type": "code",
   "execution_count": null,
   "id": "164b6d80-15fb-40ab-86d2-544ae8c51ab5",
   "metadata": {},
   "outputs": [],
   "source": []
  },
  {
   "cell_type": "code",
   "execution_count": null,
   "id": "00b53876-5d4a-4924-a35f-b4a48dff4fb0",
   "metadata": {},
   "outputs": [],
   "source": []
  }
 ],
 "metadata": {
  "kernelspec": {
   "display_name": "Python 3 (ipykernel)",
   "language": "python",
   "name": "python3"
  },
  "language_info": {
   "codemirror_mode": {
    "name": "ipython",
    "version": 3
   },
   "file_extension": ".py",
   "mimetype": "text/x-python",
   "name": "python",
   "nbconvert_exporter": "python",
   "pygments_lexer": "ipython3",
   "version": "3.11.11"
  }
 },
 "nbformat": 4,
 "nbformat_minor": 5
}
