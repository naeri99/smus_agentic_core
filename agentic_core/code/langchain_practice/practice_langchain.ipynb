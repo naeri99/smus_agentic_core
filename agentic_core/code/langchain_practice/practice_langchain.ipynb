{
 "cells": [
  {
   "cell_type": "code",
   "execution_count": 43,
   "id": "0a72e6b7-5da6-433c-9386-f1e66b264802",
   "metadata": {
    "execution": {
     "iopub.execute_input": "2025-10-28T12:06:38.958828Z",
     "iopub.status.busy": "2025-10-28T12:06:38.958631Z",
     "iopub.status.idle": "2025-10-28T12:06:38.962245Z",
     "shell.execute_reply": "2025-10-28T12:06:38.961872Z",
     "shell.execute_reply.started": "2025-10-28T12:06:38.958815Z"
    }
   },
   "outputs": [],
   "source": [
    "from langchain_aws import ChatBedrockConverse\n",
    "from langchain.schema import HumanMessage, SystemMessage\n",
    "import boto3\n",
    "from langchain_core.output_parsers import StrOutputParser\n",
    "from langchain_core.prompts import ChatPromptTemplate\n",
    "from opensearchpy import OpenSearch, RequestsHttpConnection\n",
    "import os\n",
    "import boto3\n",
    "import json\n",
    "import sys\n",
    "from langchain.schema import BaseRetriever, Document\n",
    "from typing import List, Optional, Dict, Tuple\n",
    "from langchain.prompts.prompt import PromptTemplate\n",
    "import uuid\n",
    "from datetime import datetime\n",
    "from botocore.exceptions import ClientError\n",
    "from operator import itemgetter\n",
    "from langchain_core.runnables import RunnableLambda\n",
    "from boto3.dynamodb.conditions import Key\n",
    "from pydantic import BaseModel, Field\n",
    "from langchain_core.output_parsers import JsonOutputParser\n",
    "from langchain_core.runnables import RunnableParallel, RunnablePassthrough\n",
    "from langchain_aws import ChatBedrock\n",
    "import re\n",
    "import json"
   ]
  },
  {
   "cell_type": "code",
   "execution_count": 2,
   "id": "62f6f1a3-29b7-4f98-9e72-75695972b25e",
   "metadata": {
    "execution": {
     "iopub.execute_input": "2025-10-28T11:52:26.044803Z",
     "iopub.status.busy": "2025-10-28T11:52:26.044468Z",
     "iopub.status.idle": "2025-10-28T11:52:26.047321Z",
     "shell.execute_reply": "2025-10-28T11:52:26.046918Z",
     "shell.execute_reply.started": "2025-10-28T11:52:26.044782Z"
    }
   },
   "outputs": [
    {
     "name": "stdout",
     "output_type": "stream",
     "text": [
      "langchain advanced\n"
     ]
    }
   ],
   "source": [
    "print(\"langchain advanced\")"
   ]
  },
  {
   "cell_type": "code",
   "execution_count": 3,
   "id": "6bf5f251-00c4-451c-8a50-4b9a44f53c32",
   "metadata": {
    "execution": {
     "iopub.execute_input": "2025-10-28T11:52:26.047867Z",
     "iopub.status.busy": "2025-10-28T11:52:26.047718Z",
     "iopub.status.idle": "2025-10-28T11:52:26.090110Z",
     "shell.execute_reply": "2025-10-28T11:52:26.089733Z",
     "shell.execute_reply.started": "2025-10-28T11:52:26.047852Z"
    }
   },
   "outputs": [],
   "source": [
    "#bedrock client 설정\n",
    "bedrock_client = boto3.client(\n",
    "    service_name='bedrock-runtime',\n",
    "    region_name='us-west-2'  # replace with your region\n",
    ")"
   ]
  },
  {
   "cell_type": "code",
   "execution_count": 4,
   "id": "8d998ccb-3382-4464-817e-f0e3f3325115",
   "metadata": {
    "execution": {
     "iopub.execute_input": "2025-10-28T11:52:26.090878Z",
     "iopub.status.busy": "2025-10-28T11:52:26.090757Z",
     "iopub.status.idle": "2025-10-28T11:52:26.102843Z",
     "shell.execute_reply": "2025-10-28T11:52:26.102452Z",
     "shell.execute_reply.started": "2025-10-28T11:52:26.090867Z"
    }
   },
   "outputs": [],
   "source": [
    "#llm\n",
    "llm = ChatBedrock(\n",
    "    client=bedrock_client,\n",
    "    model_id=\"global.anthropic.claude-sonnet-4-20250514-v1:0\",\n",
    "    model_kwargs={\n",
    "        \"max_tokens\": 2000,\n",
    "        \"temperature\": 0.15,\n",
    "        \"top_p\": 0.9,\n",
    "    }\n",
    "    )"
   ]
  },
  {
   "cell_type": "code",
   "execution_count": 5,
   "id": "b986993b-4f48-4c3d-8065-6c18ea54f0f7",
   "metadata": {
    "execution": {
     "iopub.execute_input": "2025-10-28T11:52:26.103319Z",
     "iopub.status.busy": "2025-10-28T11:52:26.103217Z",
     "iopub.status.idle": "2025-10-28T11:52:26.106001Z",
     "shell.execute_reply": "2025-10-28T11:52:26.105611Z",
     "shell.execute_reply.started": "2025-10-28T11:52:26.103310Z"
    }
   },
   "outputs": [],
   "source": [
    "async def extract_stream(chain, input_json):\n",
    "    collected_text = []\n",
    "    async for event in chain.astream_events(input_json):\n",
    "        if event[\"event\"] == \"on_chat_model_stream\":\n",
    "            chunk = event[\"data\"][\"chunk\"]\n",
    "            if chunk.content:\n",
    "                for content_item in chunk.content:\n",
    "                    if text := content_item.get('text'):\n",
    "                        collected_text.append(text)\n",
    "                        print(text, end=\"\", flush=True)\n",
    "    return \"\".join(collected_text)\n"
   ]
  },
  {
   "cell_type": "code",
   "execution_count": 6,
   "id": "1f1d0980-a6f9-46bb-8677-8e2e37b7ea71",
   "metadata": {
    "execution": {
     "iopub.execute_input": "2025-10-28T11:52:26.106417Z",
     "iopub.status.busy": "2025-10-28T11:52:26.106315Z",
     "iopub.status.idle": "2025-10-28T11:52:26.109939Z",
     "shell.execute_reply": "2025-10-28T11:52:26.109617Z",
     "shell.execute_reply.started": "2025-10-28T11:52:26.106407Z"
    }
   },
   "outputs": [],
   "source": [
    "#input { json 포맷 }  -> prompt(text로 변환) -> llm(bedrock) -> output(string타입, json타입)\n",
    "#여기서 input { json 포맷 }을 활용하는 방법에 대해 이해해보자 ( 여행에 관한 정보를 얻는 llm를 만든다고 가정한다 )"
   ]
  },
  {
   "cell_type": "code",
   "execution_count": 7,
   "id": "8b7d5bfd-2a0a-404a-be72-d9fe502f0dce",
   "metadata": {
    "execution": {
     "iopub.execute_input": "2025-10-28T11:52:26.110329Z",
     "iopub.status.busy": "2025-10-28T11:52:26.110198Z",
     "iopub.status.idle": "2025-10-28T11:52:26.115626Z",
     "shell.execute_reply": "2025-10-28T11:52:26.115162Z",
     "shell.execute_reply.started": "2025-10-28T11:52:26.110319Z"
    }
   },
   "outputs": [],
   "source": [
    "prompt_capital = ChatPromptTemplate.from_messages([\n",
    "    (\"system\", \"You are a helpful assistant.\"),\n",
    "    (\"human\", \"{country}의 수도에 대해 알려줘\")\n",
    "])\n",
    "\n",
    "capital_chain = prompt_capital | llm |  StrOutputParser()\n",
    "\n",
    "\n",
    "# capital_chain.invoke({\"country\" : \"태국\"})"
   ]
  },
  {
   "cell_type": "code",
   "execution_count": 8,
   "id": "c1003ad4-d400-47e0-a034-c802bbedd3a6",
   "metadata": {
    "execution": {
     "iopub.execute_input": "2025-10-28T11:52:26.116128Z",
     "iopub.status.busy": "2025-10-28T11:52:26.116011Z",
     "iopub.status.idle": "2025-10-28T11:52:34.255416Z",
     "shell.execute_reply": "2025-10-28T11:52:34.254867Z",
     "shell.execute_reply.started": "2025-10-28T11:52:26.116116Z"
    }
   },
   "outputs": [
    {
     "name": "stdout",
     "output_type": "stream",
     "text": [
      "태국의 수도는 **방콕(Bangkok)**입니다.\n",
      "\n",
      "## 방콕에 대한 주요 정보:\n",
      "\n",
      "### 기본 정보\n",
      "- **정식 명칭**: 크룽텝마하나콘 (กรุงเทพมหานคร)\n",
      "- **인구**: 약 1,000만 명 (수도권 포함)\n",
      "- **면적**: 약 1,569㎢\n",
      "\n",
      "### 주요 특징\n",
      "- **정치·경제 중심지**: 태국의 정치, 경제, 문화의 중심\n",
      "- **관광 명소**: 왕궁, 왓 포 사원, 왓 아룬 사원, 카오산 로드 등\n",
      "- **교통**: 스카이트레인(BTS), 지하철(MRT), 보트 등 다양한 교통수단\n",
      "- **음식**: 태국 전통 음식과 길거리 음식의 천국\n",
      "\n",
      "### 문화적 특징\n",
      "- 전통과 현대가 공존하는 도시\n",
      "- 불교 문화가 깊이 뿌리내린 곳\n",
      "- 동남아시아의 주요 허브 도시\n",
      "\n",
      "방콕은 동남아시아에서 가장 인기 있는 관광지 중 하나이며, 풍부한 문화유산과 현대적인 도시 생활을 동시에 경험할 수 있는 매력적인 도시입니다."
     ]
    }
   ],
   "source": [
    "async for chunk in capital_chain.astream({\"country\": \"태국\"}):\n",
    "    print(chunk, end=\"\")"
   ]
  },
  {
   "cell_type": "code",
   "execution_count": 9,
   "id": "0fa09181-e295-46c0-b935-4f1d8c7a978f",
   "metadata": {
    "execution": {
     "iopub.execute_input": "2025-10-28T11:52:34.255991Z",
     "iopub.status.busy": "2025-10-28T11:52:34.255870Z",
     "iopub.status.idle": "2025-10-28T11:52:34.258542Z",
     "shell.execute_reply": "2025-10-28T11:52:34.258182Z",
     "shell.execute_reply.started": "2025-10-28T11:52:34.255979Z"
    }
   },
   "outputs": [],
   "source": [
    "prompt_culture = ChatPromptTemplate.from_messages([\n",
    "    (\"system\", \"You are a helpful assistant.\"),\n",
    "    (\"human\", \"{country}의 문화에 대해 알려줘\")\n",
    "])\n",
    "\n",
    "culture_chain = prompt_culture | llm |  StrOutputParser()\n",
    "\n",
    "\n",
    "# culture_chain.invoke({\"country\" : \"태국\"})\n"
   ]
  },
  {
   "cell_type": "code",
   "execution_count": 10,
   "id": "3fc2ec91-7ff8-4a1e-bcc8-fb6fa2433024",
   "metadata": {
    "execution": {
     "iopub.execute_input": "2025-10-28T11:52:34.258997Z",
     "iopub.status.busy": "2025-10-28T11:52:34.258889Z",
     "iopub.status.idle": "2025-10-28T11:52:51.286387Z",
     "shell.execute_reply": "2025-10-28T11:52:51.285929Z",
     "shell.execute_reply.started": "2025-10-28T11:52:34.258986Z"
    }
   },
   "outputs": [
    {
     "name": "stdout",
     "output_type": "stream",
     "text": [
      "태국의 풍부한 문화에 대해 소개해드리겠습니다.\n",
      "\n",
      "## 🏛️ **종교와 철학**\n",
      "- **불교**: 인구의 95%가 소승불교도\n",
      "- 일상생활에 불교 철학이 깊이 스며들어 있음\n",
      "- 전국에 4만여 개의 사원(왓)이 있음\n",
      "\n",
      "## 🙏 **예의와 매너**\n",
      "- **와이(Wai)**: 합장하며 인사하는 전통 예법\n",
      "- 연장자와 지위가 높은 사람에 대한 깊은 존경\n",
      "- 온화하고 미소 짓는 문화 (미소의 나라)\n",
      "\n",
      "## 🍜 **음식 문화**\n",
      "- **쌀**: 주식이며 다양한 쌀 요리\n",
      "- **톰얌꿍, 팟타이, 그린커리** 등 유명 요리\n",
      "- 매운맛, 신맛, 단맛, 짠맛의 조화\n",
      "- 길거리 음식 문화가 발달\n",
      "\n",
      "## 🎭 **예술과 전통**\n",
      "- **전통 무용**: 콘(Khon), 라콘(Lakhon) 등\n",
      "- **무에타이**: 전통 격투기\n",
      "- **전통 음악**: 피파트 앙상블\n",
      "- 정교한 사원 건축과 불상 조각\n",
      "\n",
      "## 🎉 **축제와 행사**\n",
      "- **송크란**: 태국 신정 (물축제)\n",
      "- **로이 크라통**: 등불 축제\n",
      "- **왕실 관련 행사**: 국왕에 대한 깊은 존경\n",
      "\n",
      "## 👨‍👩‍👧‍👦 **사회 문화**\n",
      "- 가족 중심의 사회\n",
      "- 계층 의식이 존재하지만 온화한 성격\n",
      "- \"마이 펜 라이\"(괜찮다) 정신 - 관용적이고 낙관적\n",
      "\n",
      "태국 문화는 불교 정신을 바탕으로 한 평화롭고 조화로운 특징이 있습니다."
     ]
    }
   ],
   "source": [
    "async for chunk in culture_chain.astream({\"country\": \"태국\"}):\n",
    "    print(chunk, end=\"\")"
   ]
  },
  {
   "cell_type": "code",
   "execution_count": 11,
   "id": "6ec83e7b-8da2-47d8-b1ad-fe3711d96c60",
   "metadata": {
    "execution": {
     "iopub.execute_input": "2025-10-28T11:52:51.286985Z",
     "iopub.status.busy": "2025-10-28T11:52:51.286858Z",
     "iopub.status.idle": "2025-10-28T11:52:51.289803Z",
     "shell.execute_reply": "2025-10-28T11:52:51.289405Z",
     "shell.execute_reply.started": "2025-10-28T11:52:51.286973Z"
    }
   },
   "outputs": [],
   "source": [
    "prompt_climate = ChatPromptTemplate.from_messages([\n",
    "    (\"system\", \"You are a helpful assistant.\"),\n",
    "    (\"human\", \"{country}의 날씨에 대해 알려줘\")\n",
    "])\n",
    "\n",
    "climate_chain = prompt_climate | llm |  StrOutputParser()\n",
    "\n",
    "\n",
    "# climate_chain.invoke({\"country\" : \"태국\"})"
   ]
  },
  {
   "cell_type": "code",
   "execution_count": 12,
   "id": "18bf4781-fd3a-4e63-9b93-8591a1e1c549",
   "metadata": {
    "execution": {
     "iopub.execute_input": "2025-10-28T11:52:51.290281Z",
     "iopub.status.busy": "2025-10-28T11:52:51.290151Z",
     "iopub.status.idle": "2025-10-28T11:53:01.754545Z",
     "shell.execute_reply": "2025-10-28T11:53:01.754073Z",
     "shell.execute_reply.started": "2025-10-28T11:52:51.290271Z"
    }
   },
   "outputs": [
    {
     "name": "stdout",
     "output_type": "stream",
     "text": [
      "태국의 날씨에 대해 설명드리겠습니다.\n",
      "\n",
      "## 기본 특징\n",
      "- **열대성 기후**: 연중 고온다습한 날씨\n",
      "- **평균 기온**: 25-35°C\n",
      "- **습도**: 연중 높은 습도 (70-80%)\n",
      "\n",
      "## 계절별 특징\n",
      "\n",
      "### 🌧️ 우기 (5월~10월)\n",
      "- 몬순의 영향으로 많은 비\n",
      "- 오후에 스콜성 집중호우 빈번\n",
      "- 습도가 매우 높음\n",
      "- 기온: 25-32°C\n",
      "\n",
      "### ☀️ 건기 (11월~2월)\n",
      "- 가장 여행하기 좋은 시기\n",
      "- 비가 적고 습도 상대적으로 낮음\n",
      "- 기온: 20-30°C\n",
      "- 특히 12월-1월이 가장 선선\n",
      "\n",
      "### 🔥 더위철 (3월~4월)\n",
      "- 연중 가장 더운 시기\n",
      "- 기온: 30-40°C\n",
      "- 건조하고 매우 더움\n",
      "\n",
      "## 지역별 차이\n",
      "- **북부** (치앙마이): 상대적으로 선선, 건기/우기 구분 뚜렷\n",
      "- **중부** (방콕): 전형적인 열대기후\n",
      "- **남부** (푸켓, 코사무이): 연중 습하고 따뜻, 지역별로 우기 시기 다름\n",
      "\n",
      "## 여행 팁\n",
      "- **최적 시기**: 11월-2월 (건기)\n",
      "- **준비물**: 우산, 선크림, 가벼운 옷, 에어컨 대비 얇은 겉옷"
     ]
    }
   ],
   "source": [
    "async for chunk in climate_chain.astream({\"country\": \"태국\"}):\n",
    "    print(chunk, end=\"\")"
   ]
  },
  {
   "cell_type": "code",
   "execution_count": 13,
   "id": "bb6a9dfc-845c-4d01-9044-b023a26c3ffe",
   "metadata": {
    "execution": {
     "iopub.execute_input": "2025-10-28T11:53:01.755081Z",
     "iopub.status.busy": "2025-10-28T11:53:01.754955Z",
     "iopub.status.idle": "2025-10-28T11:53:01.757727Z",
     "shell.execute_reply": "2025-10-28T11:53:01.757323Z",
     "shell.execute_reply.started": "2025-10-28T11:53:01.755068Z"
    }
   },
   "outputs": [],
   "source": [
    "prompt_location = ChatPromptTemplate.from_messages([\n",
    "    (\"system\", \"You are a helpful assistant.\"),\n",
    "    (\"human\", \"{country}의 유명한 관광 명소에 대해 알려줘\")\n",
    "])\n",
    "\n",
    "location_chain = prompt_location | llm |  StrOutputParser()\n",
    "\n",
    "\n",
    "# climate_location.invoke({\"country\" : \"태국\"})"
   ]
  },
  {
   "cell_type": "code",
   "execution_count": 14,
   "id": "42330e3f-4c81-4eff-b60d-8378d7e1c067",
   "metadata": {
    "execution": {
     "iopub.execute_input": "2025-10-28T11:53:01.759991Z",
     "iopub.status.busy": "2025-10-28T11:53:01.759870Z",
     "iopub.status.idle": "2025-10-28T11:53:20.622340Z",
     "shell.execute_reply": "2025-10-28T11:53:20.621869Z",
     "shell.execute_reply.started": "2025-10-28T11:53:01.759980Z"
    }
   },
   "outputs": [
    {
     "name": "stdout",
     "output_type": "stream",
     "text": [
      "태국의 주요 관광 명소들을 지역별로 소개해드리겠습니다.\n",
      "\n",
      "## 🏛️ 방콕 (Bangkok)\n",
      "- **왓 포 (Wat Pho)** - 거대한 와불상으로 유명한 사원\n",
      "- **왕궁 (Grand Palace)** - 태국 왕실의 화려한 궁전\n",
      "- **왓 아룬 (Wat Arun)** - 새벽 사원으로 불리는 아름다운 사원\n",
      "- **차오프라야 강** - 롱테일 보트 투어\n",
      "- **카오산 로드** - 배낭여행자들의 성지\n",
      "\n",
      "## 🏖️ 푸켓 (Phuket)\n",
      "- **파통 비치** - 나이트라이프와 해변 액티비티\n",
      "- **피피 섬** - 영화 '더 비치' 촬영지\n",
      "- **빅 부다** - 45m 높이의 거대한 불상\n",
      "- **올드 타운** - 중국-포르투갈 스타일 건축물\n",
      "\n",
      "## 🌴 끄라비 (Krabi)\n",
      "- **라일레이 비치** - 암벽등반과 에메랄드빛 바다\n",
      "- **홍 섬** - 석회암 절벽으로 둘러싸인 라군\n",
      "- **타이거 케이브 템플** - 1,237개 계단을 올라가는 사원\n",
      "\n",
      "## 🏝️ 코사무이 (Koh Samui)\n",
      "- **빅 부다 템플** - 12m 높이의 황금 불상\n",
      "- **나무앙 폭포** - 열대우림 속 아름다운 폭포\n",
      "- **차웽 비치** - 가장 인기 있는 해변\n",
      "\n",
      "## 🏛️ 치앙마이 (Chiang Mai)\n",
      "- **도이 수텝** - 산 위의 황금 사원\n",
      "- **올드 시티** - 고대 성벽으로 둘러싸인 구시가지\n",
      "- **나이트 바자** - 전통 수공예품 쇼핑\n",
      "- **코끼리 보호구역** - 윤리적 코끼리 체험\n",
      "\n",
      "## 🏺 아유타야 (Ayutthaya)\n",
      "- **아유타야 역사공원** - UNESCO 세계문화유산\n",
      "- **왓 마하탓** - 나무뿌리에 감싸인 부처 머리상\n",
      "- **방파인 궁전** - 여름 별궁\n",
      "\n",
      "각 지역마다 독특한 매력이 있으니, 관심사와 여행 스타일에 맞춰 선택하시면 됩니다!"
     ]
    }
   ],
   "source": [
    "async for chunk in location_chain.astream({\"country\": \"태국\"}):\n",
    "    print(chunk, end=\"\")"
   ]
  },
  {
   "cell_type": "code",
   "execution_count": 15,
   "id": "1bf17255-dada-4b0c-8d98-948dfe03ab06",
   "metadata": {
    "execution": {
     "iopub.execute_input": "2025-10-28T11:53:20.626529Z",
     "iopub.status.busy": "2025-10-28T11:53:20.626419Z",
     "iopub.status.idle": "2025-10-28T11:53:20.628596Z",
     "shell.execute_reply": "2025-10-28T11:53:20.628196Z",
     "shell.execute_reply.started": "2025-10-28T11:53:20.626516Z"
    }
   },
   "outputs": [],
   "source": [
    "#여행에 관한 정보를 얻는 llm를 만든다고 가정한다 위의 네가지 정보를 모두 포함하여 전체적인 형태의 여행 정보를 얻고 싶다고 가정 할때 어떻게 langchain에 활용할수 있을까?\n",
    "#결국 llm에서 결과가 나오면 string임으로 이 string을 json안에 assgin가능하다"
   ]
  },
  {
   "cell_type": "code",
   "execution_count": 16,
   "id": "4458a208-d5d2-4ebd-880c-1fdbcd70d675",
   "metadata": {
    "execution": {
     "iopub.execute_input": "2025-10-28T11:53:20.629054Z",
     "iopub.status.busy": "2025-10-28T11:53:20.628944Z",
     "iopub.status.idle": "2025-10-28T11:53:20.633929Z",
     "shell.execute_reply": "2025-10-28T11:53:20.633593Z",
     "shell.execute_reply.started": "2025-10-28T11:53:20.629044Z"
    }
   },
   "outputs": [],
   "source": [
    "# input에 {\"country\": \"태국\"}이라고 두고 itemgetter(\"country\")를 통해 변수를 가져온뒤 각각 llm의 결과를 얻고 sting으로 json에 포함시킨다면? \n",
    "# llm을 통과한 결과값들이 새로운 input(json타입)을 형성할수 있지 않을까?\n",
    "new_input = {\n",
    "                \"capital\" :  itemgetter(\"country\") | capital_chain,\n",
    "                \"culture\" :  itemgetter(\"country\") | culture_chain,\n",
    "                \"climate\" :  itemgetter(\"country\") | climate_chain,\n",
    "                \"location\":  itemgetter(\"country\") | location_chain\n",
    "            }"
   ]
  },
  {
   "cell_type": "code",
   "execution_count": 17,
   "id": "88bff6a8-7103-4a10-a973-3b4daf516538",
   "metadata": {
    "execution": {
     "iopub.execute_input": "2025-10-28T11:53:20.634429Z",
     "iopub.status.busy": "2025-10-28T11:53:20.634323Z",
     "iopub.status.idle": "2025-10-28T11:53:20.638268Z",
     "shell.execute_reply": "2025-10-28T11:53:20.637934Z",
     "shell.execute_reply.started": "2025-10-28T11:53:20.634418Z"
    }
   },
   "outputs": [],
   "source": [
    "# new_input의 capital, culture, climate, location가  template_total의 capital, culture, climate, location 변수와 연결된다\n",
    "template_total = \"\"\"The following is a friendly conversation between a human and an AI. \n",
    "The AI is talkative and provides lots of specific details from its context. \n",
    "\n",
    "capitial :  {capital}\n",
    "culture :   {culture}\n",
    "climate :   {climate}\n",
    "location :  {location}\n",
    "\n",
    "이 정보를 바탕으로 여행 가기 가장 좋은 계절을 알려주세요\n",
    "\"\"\"\n",
    "prompt_total  = PromptTemplate(input_variables=[\"capital\", \"culture\", \"climate\", \"location\"],\n",
    "                                 template=template_total)"
   ]
  },
  {
   "cell_type": "code",
   "execution_count": 18,
   "id": "73a0e2c4-08da-4002-8754-b6568c458e1a",
   "metadata": {
    "execution": {
     "iopub.execute_input": "2025-10-28T11:53:20.638755Z",
     "iopub.status.busy": "2025-10-28T11:53:20.638642Z",
     "iopub.status.idle": "2025-10-28T11:53:20.642379Z",
     "shell.execute_reply": "2025-10-28T11:53:20.642051Z",
     "shell.execute_reply.started": "2025-10-28T11:53:20.638743Z"
    }
   },
   "outputs": [],
   "source": [
    "travel_chain = new_input | prompt_total | llm | StrOutputParser()"
   ]
  },
  {
   "cell_type": "code",
   "execution_count": 19,
   "id": "f2aeafdb-0ca8-4dff-a07c-a3c8bb996452",
   "metadata": {
    "execution": {
     "iopub.execute_input": "2025-10-28T11:53:20.642834Z",
     "iopub.status.busy": "2025-10-28T11:53:20.642738Z",
     "iopub.status.idle": "2025-10-28T11:53:53.523990Z",
     "shell.execute_reply": "2025-10-28T11:53:53.523145Z",
     "shell.execute_reply.started": "2025-10-28T11:53:20.642824Z"
    }
   },
   "outputs": [
    {
     "name": "stdout",
     "output_type": "stream",
     "text": [
      "제가 제공한 태국 기후 정보를 바탕으로 말씀드리면, **11월부터 2월까지가 태국 여행의 최적 시기**입니다! 🌟\n",
      "\n",
      "## 🎯 가장 좋은 시기: 11월-2월 (건기)\n",
      "\n",
      "### 왜 이 시기가 최고인가요?\n",
      "- **쾌적한 기온**: 20-30°C로 연중 가장 선선함\n",
      "- **낮은 습도**: 다른 시기 대비 상대적으로 건조\n",
      "- **적은 강수량**: 비 걱정 없이 야외 활동 가능\n",
      "- **맑은 하늘**: 사진 찍기에도 완벽!\n",
      "\n",
      "### 특히 12월-1월이 베스트! ⭐\n",
      "- 가장 선선하고 쾌적한 날씨\n",
      "- 크리스마스, 신정 휴가철과 겹쳐 여행하기 좋음\n",
      "- 모든 관광지에서 최상의 컨디션\n",
      "\n",
      "## 지역별 추천 시기\n",
      "\n",
      "### 🏛️ 방콕 & 중부 지역\n",
      "- **11월-2월**: 왕궁, 사원 관광에 최적\n",
      "- 야외 시장 구경도 덜 덥고 쾌적\n",
      "\n",
      "### 🏖️ 남부 해변 지역 (푸켓, 끄라비)\n",
      "- **11월-3월**: 해변 액티비티와 섬 투어에 완벽\n",
      "- 바다가 잔잔하고 맑음\n",
      "\n",
      "### 🏛️ 북부 (치앙마이)\n",
      "- **11월-2월**: 도이 수텝 등반, 트레킹에 이상적\n",
      "- 밤에는 약간 쌀쌀할 수 있어 얇은 겉옷 필요\n",
      "\n",
      "## 💡 여행 팁\n",
      "이 시기는 성수기라 **항공료와 숙박비가 비싸고 예약이 빨리 찬다**는 점 참고하세요! 미리미리 계획하시는 것을 추천드립니다.\n",
      "\n",
      "특정 지역이나 액티비티 계획이 있으시다면 더 구체적인 조언을 드릴 수 있어요! 🇹🇭"
     ]
    }
   ],
   "source": [
    "async for chunk in travel_chain.astream({\"country\": \"태국\"}):\n",
    "    print(chunk, end=\"\")"
   ]
  },
  {
   "cell_type": "code",
   "execution_count": null,
   "id": "fdc43efe-88aa-4757-8c93-0806abe1be97",
   "metadata": {},
   "outputs": [],
   "source": []
  },
  {
   "cell_type": "code",
   "execution_count": 20,
   "id": "4c6b3869-116c-4ee8-9ddd-f3ca12353a72",
   "metadata": {
    "execution": {
     "iopub.execute_input": "2025-10-28T11:53:53.525224Z",
     "iopub.status.busy": "2025-10-28T11:53:53.525117Z",
     "iopub.status.idle": "2025-10-28T11:53:53.527380Z",
     "shell.execute_reply": "2025-10-28T11:53:53.527012Z",
     "shell.execute_reply.started": "2025-10-28T11:53:53.525213Z"
    },
    "jupyter": {
     "source_hidden": true
    }
   },
   "outputs": [],
   "source": [
    "#비슷한 방법으로 RunnableParallel도 존재한다 \n",
    "parallel_chain = RunnableParallel(\n",
    "                                  capital=capital_chain, \n",
    "                                  culture=culture_chain,\n",
    "                                  climate=climate_chain, \n",
    "                                  location =location_chain\n",
    "                                 )"
   ]
  },
  {
   "cell_type": "code",
   "execution_count": 21,
   "id": "7e5bd4a8-00cf-43b9-b459-16329ccbb76f",
   "metadata": {
    "execution": {
     "iopub.execute_input": "2025-10-28T11:53:53.527910Z",
     "iopub.status.busy": "2025-10-28T11:53:53.527809Z",
     "iopub.status.idle": "2025-10-28T11:53:53.532861Z",
     "shell.execute_reply": "2025-10-28T11:53:53.532464Z",
     "shell.execute_reply.started": "2025-10-28T11:53:53.527900Z"
    }
   },
   "outputs": [],
   "source": [
    "travel_chain_parallel =  parallel_chain | prompt_total | llm | StrOutputParser()"
   ]
  },
  {
   "cell_type": "code",
   "execution_count": 22,
   "id": "40909edb-50b8-41d8-886b-647dfc5b55eb",
   "metadata": {
    "execution": {
     "iopub.execute_input": "2025-10-28T11:53:53.533505Z",
     "iopub.status.busy": "2025-10-28T11:53:53.533317Z",
     "iopub.status.idle": "2025-10-28T11:54:18.366501Z",
     "shell.execute_reply": "2025-10-28T11:54:18.366006Z",
     "shell.execute_reply.started": "2025-10-28T11:53:53.533487Z"
    }
   },
   "outputs": [
    {
     "name": "stdout",
     "output_type": "stream",
     "text": [
      "제가 제공한 태국 날씨 정보를 바탕으로 말씀드리면, **11월부터 2월까지의 건기**가 태국 여행하기에 가장 좋은 계절입니다! 🌞\n",
      "\n",
      "## 건기 (11월-2월)를 추천하는 이유:\n",
      "\n",
      "### 🌡️ 쾌적한 기온\n",
      "- 평균 기온이 25-30°C로 태국 기준에서는 가장 시원함\n",
      "- 40°C까지 올라가는 더위철(3-5월)에 비해 훨씬 견딜만함\n",
      "\n",
      "### 💧 낮은 습도\n",
      "- 상대적으로 습도가 낮아 덜 끈적거림\n",
      "- 우기(6-10월)의 70-80% 습도보다 훨씬 쾌적\n",
      "\n",
      "### ☀️ 맑은 날씨\n",
      "- 거의 매일 맑은 하늘을 볼 수 있음\n",
      "- 우기처럼 매일 스콜성 비가 내리지 않아 야외활동 최적\n",
      "\n",
      "### 🏖️ 관광지별 장점\n",
      "- **방콕**: 왕궁, 사원 관광하기 좋은 날씨\n",
      "- **푸켓/끄라비**: 해변 액티비티와 섬 투어 최적\n",
      "- **치앙마이**: 도이 수텝 등 산악 관광 쾌적\n",
      "- **코사무이**: 맑은 바다에서 수상스포츠 즐기기 좋음\n",
      "\n",
      "다만 이 시기는 성수기라 항공료와 숙박비가 비싸고 관광지가 붐빌 수 있다는 점은 참고하세요! 그래도 날씨만큼은 정말 완벽한 시기입니다. ✈️"
     ]
    }
   ],
   "source": [
    "async for chunk in travel_chain_parallel.astream({\"country\": \"태국\"}):\n",
    "    print(chunk, end=\"\")\n"
   ]
  },
  {
   "cell_type": "code",
   "execution_count": null,
   "id": "fed6f5c0-06d8-484c-8ec3-7281fd8ea952",
   "metadata": {},
   "outputs": [],
   "source": []
  },
  {
   "cell_type": "code",
   "execution_count": null,
   "id": "30b6d00f-9f2c-4407-8492-ed4d904a5c8e",
   "metadata": {},
   "outputs": [],
   "source": []
  },
  {
   "cell_type": "code",
   "execution_count": 23,
   "id": "556f0506-6406-41f3-8d86-0a1a4c4516ad",
   "metadata": {
    "execution": {
     "iopub.execute_input": "2025-10-28T11:54:18.368203Z",
     "iopub.status.busy": "2025-10-28T11:54:18.368120Z",
     "iopub.status.idle": "2025-10-28T11:54:18.370074Z",
     "shell.execute_reply": "2025-10-28T11:54:18.369785Z",
     "shell.execute_reply.started": "2025-10-28T11:54:18.368193Z"
    }
   },
   "outputs": [],
   "source": [
    "# llm의 outpu의 경우 StrOutputParser()를 활용해서 string으로 나오지만 llm.with_structured_output(obj)을 통해 json포맷으로 받을수 있다 \n",
    "# llm의 결과가 json포맷으로 오면 이를 활용하여 다른 langchain에 활용할수 있다"
   ]
  },
  {
   "cell_type": "code",
   "execution_count": 24,
   "id": "a835e2f4-4d80-4bd8-8229-c37cf7934565",
   "metadata": {
    "execution": {
     "iopub.execute_input": "2025-10-28T11:54:18.370505Z",
     "iopub.status.busy": "2025-10-28T11:54:18.370379Z",
     "iopub.status.idle": "2025-10-28T11:54:18.374438Z",
     "shell.execute_reply": "2025-10-28T11:54:18.374116Z",
     "shell.execute_reply.started": "2025-10-28T11:54:18.370470Z"
    }
   },
   "outputs": [],
   "source": [
    "template_plan = \"\"\"The following is a friendly conversation between a human and an AI. \n",
    "The AI is talkative and provides lots of specific details from its context. \n",
    "\n",
    "capitial :  {capital}\n",
    "culture :   {culture}\n",
    "climate :   {climate}\n",
    "location :  {location}\n",
    "\n",
    "이 정보를 바탕으로 여행 계획을 세워주세요\n",
    "\"\"\"\n",
    "prompt_plan  = PromptTemplate(input_variables=[\"capital\", \"culture\", \"climate\", \"location\"],\n",
    "                                 template=template_plan)"
   ]
  },
  {
   "cell_type": "code",
   "execution_count": 25,
   "id": "ad9e7854-4e89-41be-9e9e-e59e38bba52c",
   "metadata": {
    "execution": {
     "iopub.execute_input": "2025-10-28T11:54:18.374916Z",
     "iopub.status.busy": "2025-10-28T11:54:18.374808Z",
     "iopub.status.idle": "2025-10-28T11:54:18.379313Z",
     "shell.execute_reply": "2025-10-28T11:54:18.379024Z",
     "shell.execute_reply.started": "2025-10-28T11:54:18.374906Z"
    }
   },
   "outputs": [],
   "source": [
    "#llm의 결과값 포맷의 schema\n",
    "class Travel(BaseModel):\n",
    "    capital: str = Field(description=\"국가의 수도에 대한 설명\")\n",
    "    culture: str = Field(description=\"국가의 문화에 대한 설명\")\n",
    "    climate : str = Field(description=\"국가 기후에 대한 설명\")\n",
    "    location : str = Field(description=\"국가 관광명소에 대한 설명\")\n",
    "    plan: str = Field(description=\"여행계획\")\n"
   ]
  },
  {
   "cell_type": "code",
   "execution_count": 26,
   "id": "b5408f26-bcaa-4a7d-bede-dc78759c7b89",
   "metadata": {
    "execution": {
     "iopub.execute_input": "2025-10-28T11:54:18.379747Z",
     "iopub.status.busy": "2025-10-28T11:54:18.379652Z",
     "iopub.status.idle": "2025-10-28T11:54:18.387334Z",
     "shell.execute_reply": "2025-10-28T11:54:18.386980Z",
     "shell.execute_reply.started": "2025-10-28T11:54:18.379738Z"
    }
   },
   "outputs": [],
   "source": [
    "one_chain = (\n",
    "    {\n",
    "                \"capital\" :  itemgetter(\"country\") | capital_chain,\n",
    "                \"culture\" :  itemgetter(\"country\") | culture_chain,\n",
    "                \"climate\" :  itemgetter(\"country\") | climate_chain,\n",
    "                \"location\":  itemgetter(\"country\") | location_chain\n",
    "    }\n",
    "    | prompt_plan\n",
    "    | llm.with_structured_output(Travel)\n",
    ")\n",
    " "
   ]
  },
  {
   "cell_type": "code",
   "execution_count": 27,
   "id": "532d1389-23b8-4d19-a983-7a2eaac317be",
   "metadata": {
    "execution": {
     "iopub.execute_input": "2025-10-28T11:54:18.387815Z",
     "iopub.status.busy": "2025-10-28T11:54:18.387717Z",
     "iopub.status.idle": "2025-10-28T11:55:01.917736Z",
     "shell.execute_reply": "2025-10-28T11:55:01.917398Z",
     "shell.execute_reply.started": "2025-10-28T11:54:18.387806Z"
    }
   },
   "outputs": [
    {
     "name": "stdout",
     "output_type": "stream",
     "text": [
      "capital='태국의 수도는 방콕(Bangkok)입니다. 정식 명칭은 크룽텝마하나콘이며, 인구 약 1,000만 명의 대도시입니다. 태국의 정치, 경제, 문화의 중심지로 왕궁, 왓 포 사원, 왓 아룬 사원, 카오산 로드 등 주요 관광명소가 있습니다. 스카이트레인(BTS), 지하철(MRT), 보트 등 다양한 교통수단이 발달되어 있으며, 전통 태국 문화와 현대 문명이 조화롭게 공존하는 동남아시아의 주요 허브 도시입니다.' culture=\"태국은 인구의 95%가 소승불교도인 불교 국가로, 일상생활에 불교 철학이 깊이 스며들어 있습니다. 와이(Wai) 합장 인사법으로 존경을 표현하며, 연장자와 지위가 높은 사람을 깊이 존경하는 문화입니다. '미소의 나라'라 불릴 만큼 온화하고 미소 짓는 문화를 가지고 있습니다. 쌀이 주식이며 톰얌꿍, 팟타이, 그린커리 등 세계적으로 유명한 요리와 발달된 길거리 음식 문화를 자랑합니다. 무에타이 전통 무술, 우아한 전통 무용, 송크란 물축제, 로이 끄라통 등불 축제 등 풍부한 전통 예술과 축제 문화를 가지고 있으며, 왕실에 대한 깊은 존경과 사랑을 보입니다.\" climate='태국은 열대성 기후로 연중 고온다습하며 평균 기온은 25-35°C, 습도는 70-80%입니다. 건기(11월~2월)는 가장 여행하기 좋은 시기로 기온 25-30°C, 상대적으로 낮은 습도와 맑은 날씨를 보입니다. 더위철(3월~5월)은 가장 더운 시기로 기온이 30-40°C까지 올라가며 매우 덥고 건조합니다. 우기(6월~10월)는 몬순 시즌으로 기온 25-32°C, 거의 매일 스콜성 비가 내리고 습도가 매우 높습니다. 지역별로는 북부가 상대적으로 서늘하고, 중부는 전형적인 열대기후, 남부는 연중 습하고 따뜻한 특징을 보입니다.' location='태국의 주요 관광명소는 다음과 같습니다. 방콕에는 거대한 와불상의 왓 포, 새벽 사원 왓 아룬, 화려한 그랜드 팰리스, 차오프라야 강, 배낭여행자 성지 카오산 로드가 있습니다. 푸켓에는 파통 비치, 영화 촬영지 피피 섬, 45m 높이 빅 부다, 중국-포르투갈 스타일 올드 타운이 있습니다. 끄라비에는 암벽등반 명소 라일레이 비치, 카약 명소 홍 섬, 1,237개 계단의 타이거 케이브 템플이 있습니다. 치앙마이에는 산 위 황금 사원 도이 수텝, 고대 성벽의 올드 시티, 나이트 바자, 코끼리 보호구역이 있습니다. 코사무이에는 인기 해변 차웽 비치, 12m 높이 빅 부다 템플, 정글 속 나무앙 폭포가 있습니다.' plan='태국 여행 계획을 세워보겠습니다. 최적 여행시기는 건기인 11월~2월이며, 7-10일 일정을 추천합니다. 1-2일차는 방콕에서 그랜드 팰리스, 왓 포, 왓 아룰 사원 관광 후 차오프라야 강 크루즈와 카오산 로드 탐방을 합니다. 3-4일차는 치앙마이로 이동하여 도이 수텝 사원, 올드 시티 탐방, 나이트 바자 쇼핑, 코끼리 보호구역 체험을 합니다. 5-7일차는 푸켓으로 이동하여 파통 비치에서 휴양, 피피 섬 당일 투어, 빅 부다 관광, 올드 타운 산책을 합니다. 준비물로는 가벼운 여름옷, 우산, 선크림, 모자, 편한 신발이 필요하며, 현지 길거리 음식 체험, 전통 마사지, 무에타이 관람 등을 포함하여 태국의 문화를 깊이 체험할 수 있는 일정입니다.'"
     ]
    }
   ],
   "source": [
    "async for chunk in one_chain.astream({\"country\": \"태국\"}):\n",
    "    print(chunk, end=\"\")\n"
   ]
  },
  {
   "cell_type": "code",
   "execution_count": null,
   "id": "b92a4d31-2f88-478e-8cb6-db449f1db80c",
   "metadata": {},
   "outputs": [],
   "source": []
  },
  {
   "cell_type": "code",
   "execution_count": null,
   "id": "364ee106-2b19-4d56-b7e5-572aeb458e22",
   "metadata": {},
   "outputs": [],
   "source": []
  },
  {
   "cell_type": "code",
   "execution_count": null,
   "id": "98b6dcd0-6d0b-4898-8cfa-bce9c0739508",
   "metadata": {},
   "outputs": [],
   "source": []
  },
  {
   "cell_type": "code",
   "execution_count": 28,
   "id": "ed1e2e43-31d6-4701-afed-ecf2c91ba4de",
   "metadata": {
    "execution": {
     "iopub.execute_input": "2025-10-28T11:55:01.921701Z",
     "iopub.status.busy": "2025-10-28T11:55:01.921573Z",
     "iopub.status.idle": "2025-10-28T11:55:01.923984Z",
     "shell.execute_reply": "2025-10-28T11:55:01.923692Z",
     "shell.execute_reply.started": "2025-10-28T11:55:01.921689Z"
    }
   },
   "outputs": [],
   "source": [
    "#data는 llm의 결과 값을 의미합니다  RunnableLambda함수를 활용하면 data와 llm결과를 연결 시켜줄수 있습니다\n",
    "def transform_keys(data):\n",
    "    \"\"\"Transform keys from history to chat_history\"\"\"\n",
    "    return {\n",
    "        \"capital\":  data.capital,\n",
    "        \"culture\":  data.culture,  \n",
    "        \"climate\":  data.climate, \n",
    "        \"location\": data.location, \n",
    "        \"plan\":     data.plan\n",
    "    }"
   ]
  },
  {
   "cell_type": "code",
   "execution_count": 29,
   "id": "021dbb94-ee2b-4607-980e-53d5ea269bff",
   "metadata": {
    "execution": {
     "iopub.execute_input": "2025-10-28T11:55:01.924462Z",
     "iopub.status.busy": "2025-10-28T11:55:01.924367Z",
     "iopub.status.idle": "2025-10-28T11:55:01.928586Z",
     "shell.execute_reply": "2025-10-28T11:55:01.928295Z",
     "shell.execute_reply.started": "2025-10-28T11:55:01.924452Z"
    }
   },
   "outputs": [],
   "source": [
    "template_detail = \"\"\"The following is a friendly conversation between a human and an AI. \n",
    "The AI is talkative and provides lots of specific details from its context. \n",
    "\n",
    "capitial :  {capital}\n",
    "culture :   {culture}\n",
    "climate :   {climate}\n",
    "location :  {location}\n",
    "plan :      {plan}\n",
    "\n",
    "plan에 담겨있는 관광지 혹은 축제에 대한 정보를 좀더 상세하게 알려두세요 \n",
    "\"\"\"\n",
    "prompt_detail  = PromptTemplate(input_variables=[\"capital\", \"culture\", \"climate\", \"location\", \"plan\"],\n",
    "                                 template=template_detail)"
   ]
  },
  {
   "cell_type": "code",
   "execution_count": 30,
   "id": "7719a6e3-d6b6-4a81-9659-d3687a1467b1",
   "metadata": {
    "execution": {
     "iopub.execute_input": "2025-10-28T11:55:01.929125Z",
     "iopub.status.busy": "2025-10-28T11:55:01.928981Z",
     "iopub.status.idle": "2025-10-28T11:55:01.934105Z",
     "shell.execute_reply": "2025-10-28T11:55:01.933743Z",
     "shell.execute_reply.started": "2025-10-28T11:55:01.929115Z"
    }
   },
   "outputs": [],
   "source": [
    "# RunnableLambda(transform_keys)는 llm과 prompt_detail의 데이터를 매핑 시켜주는 역할\n",
    "chain_and_chain = (\n",
    "    {\n",
    "                \"capital\" :  itemgetter(\"country\") | capital_chain,\n",
    "                \"culture\" :  itemgetter(\"country\") | culture_chain,\n",
    "                \"climate\" :  itemgetter(\"country\") | climate_chain,\n",
    "                \"location\":  itemgetter(\"country\") | location_chain\n",
    "    }\n",
    "    | prompt_plan\n",
    "    | llm.with_structured_output(Travel)\n",
    "    | RunnableLambda(transform_keys)\n",
    "    | prompt_detail\n",
    "    | llm\n",
    "    | StrOutputParser()\n",
    ")\n"
   ]
  },
  {
   "cell_type": "code",
   "execution_count": 31,
   "id": "f656c446-a3b6-41d3-98fe-ba90606f2cd6",
   "metadata": {
    "execution": {
     "iopub.execute_input": "2025-10-28T11:55:01.934699Z",
     "iopub.status.busy": "2025-10-28T11:55:01.934525Z",
     "iopub.status.idle": "2025-10-28T11:55:46.692074Z",
     "shell.execute_reply": "2025-10-28T11:55:46.691599Z",
     "shell.execute_reply.started": "2025-10-28T11:55:01.934681Z"
    }
   },
   "outputs": [
    {
     "name": "stdout",
     "output_type": "stream",
     "text": [
      "안녕하세요! 일본 여행 계획에 포함된 관광지와 축제에 대해 더 자세히 알려드리겠습니다.\n",
      "\n",
      "**도쿄의 현대적 도시 문화 관광지:**\n",
      "\n",
      "도쿄 스카이트리는 높이 634m로 세계에서 두 번째로 높은 전파탑입니다. 350m와 450m 높이에 전망대가 있어 도쿄 전경을 한눈에 볼 수 있어요. 시부야 교차로는 하루 약 300만 명이 지나가는 세계에서 가장 붐비는 교차로로, 특히 야간에 네온사인과 함께 보는 광경이 장관입니다.\n",
      "\n",
      "**교토의 전통 문화 관광지:**\n",
      "\n",
      "기요미즈데라는 778년에 건립된 유네스코 세계문화유산으로, 나무못 하나 사용하지 않고 지어진 본당의 무대가 유명합니다. 후시미 이나리 신사는 1만 개가 넘는 붉은 도리이가 산 정상까지 이어져 있어 신비로운 터널을 만들어냅니다. 아라시야마 대나무 숲은 수천 그루의 대나무가 만드는 초록빛 터널로, 바람이 불 때 나는 소리가 '일본의 음풍경 100선'에 선정되기도 했습니다.\n",
      "\n",
      "**계절별 주요 축제:**\n",
      "\n",
      "봄에는 벚꽃축제(사쿠라 마츠리)가 3월 말부터 5월 초까지 전국에서 열립니다. 여름에는 7월 교토의 기온 마츠리, 8월 도쿄의 스미다가와 불꽃축제가 대표적이에요. 가을에는 단풍축제와 함께 각 지역 신사에서 수확감사 축제들이 열리고, 겨울에는 삿포로 눈축제(2월)와 각종 일루미네이션 축제들이 도시를 화려하게 장식합니다.\n",
      "\n",
      "이런 정보들이 여행 계획 세우시는 데 도움이 되시나요?"
     ]
    }
   ],
   "source": [
    "async for chunk in chain_and_chain.astream({\"country\": \"일본\"}):\n",
    "    print(chunk, end=\"\")\n"
   ]
  },
  {
   "cell_type": "code",
   "execution_count": null,
   "id": "9edf5aa2-77dd-44bc-8636-cc4c69e6eb9d",
   "metadata": {},
   "outputs": [],
   "source": []
  },
  {
   "cell_type": "code",
   "execution_count": 32,
   "id": "da2c3442-95f0-43f7-86b8-7287b98a8b38",
   "metadata": {
    "execution": {
     "iopub.execute_input": "2025-10-28T11:55:46.693502Z",
     "iopub.status.busy": "2025-10-28T11:55:46.693394Z",
     "iopub.status.idle": "2025-10-28T11:55:46.696004Z",
     "shell.execute_reply": "2025-10-28T11:55:46.695580Z",
     "shell.execute_reply.started": "2025-10-28T11:55:46.693490Z"
    }
   },
   "outputs": [],
   "source": [
    "template_plan_final = \"\"\"The following is a friendly conversation between a human and an AI. \n",
    "The AI is talkative and provides lots of specific details from its context. \n",
    "\n",
    "capitial :  {capital}\n",
    "culture :   {culture}\n",
    "climate :   {climate}\n",
    "\n",
    "이 정보를 바탕으로 여행 계획을 세워주세요\n",
    "\"\"\"\n",
    "prompt_plan_final  = PromptTemplate(input_variables=[\"capital\", \"culture\", \"climate\"],\n",
    "                                 template=template_plan_final)"
   ]
  },
  {
   "cell_type": "code",
   "execution_count": 33,
   "id": "428d7fec-57a6-49dc-a0c7-57c0140468f5",
   "metadata": {
    "execution": {
     "iopub.execute_input": "2025-10-28T11:55:46.696619Z",
     "iopub.status.busy": "2025-10-28T11:55:46.696432Z",
     "iopub.status.idle": "2025-10-28T11:55:46.701242Z",
     "shell.execute_reply": "2025-10-28T11:55:46.700895Z",
     "shell.execute_reply.started": "2025-10-28T11:55:46.696603Z"
    }
   },
   "outputs": [],
   "source": [
    "class TravelLast(BaseModel):\n",
    "    capital: str = Field(description=\"국가의 수도에 대한 설명\")\n",
    "    culture: str = Field(description=\"국가의 문화에 대한 설명\")\n",
    "    climate : str = Field(description=\"국가 기후에 대한 설명\")\n",
    "    plan: str = Field(description=\"여행계획\")"
   ]
  },
  {
   "cell_type": "code",
   "execution_count": 34,
   "id": "8ed631ed-2c98-4f62-af7d-305f92f5f81d",
   "metadata": {
    "execution": {
     "iopub.execute_input": "2025-10-28T11:55:46.701707Z",
     "iopub.status.busy": "2025-10-28T11:55:46.701598Z",
     "iopub.status.idle": "2025-10-28T11:55:46.706191Z",
     "shell.execute_reply": "2025-10-28T11:55:46.705890Z",
     "shell.execute_reply.started": "2025-10-28T11:55:46.701697Z"
    }
   },
   "outputs": [],
   "source": [
    "def transform_key_last(data):\n",
    "    \"\"\"Transform keys from history to chat_history\"\"\"\n",
    "    return {\n",
    "        \"capital\":  data.capital,\n",
    "        \"culture\":  data.culture,  \n",
    "        \"climate\":  data.climate, \n",
    "        \"plan\":     data.plan\n",
    "    }"
   ]
  },
  {
   "cell_type": "code",
   "execution_count": 35,
   "id": "f0d1b183-4117-4104-92d5-47add7875e4a",
   "metadata": {
    "execution": {
     "iopub.execute_input": "2025-10-28T11:55:46.706718Z",
     "iopub.status.busy": "2025-10-28T11:55:46.706595Z",
     "iopub.status.idle": "2025-10-28T11:55:46.710505Z",
     "shell.execute_reply": "2025-10-28T11:55:46.710141Z",
     "shell.execute_reply.started": "2025-10-28T11:55:46.706706Z"
    }
   },
   "outputs": [],
   "source": [
    "template_detail_final = \"\"\"The following is a friendly conversation between a human and an AI. \n",
    "The AI is talkative and provides lots of specific details from its context. \n",
    "\n",
    "capitial :  {capital}\n",
    "culture :   {culture}\n",
    "climate :   {climate}\n",
    "plan :      {plan}\n",
    "\n",
    "plan에 담겨있는 관광지 혹은 축제에 대한 정보를 좀더 상세하게 알려두세요 \n",
    "\"\"\"\n",
    "prompt_detail_final = PromptTemplate(input_variables=[\"capital\", \"culture\", \"climate\", \"plan\"],\n",
    "                                 template=template_detail_final)"
   ]
  },
  {
   "cell_type": "code",
   "execution_count": 36,
   "id": "bca10af4-d5f8-4927-886c-1b0b60310fa8",
   "metadata": {
    "execution": {
     "iopub.execute_input": "2025-10-28T11:55:46.711043Z",
     "iopub.status.busy": "2025-10-28T11:55:46.710930Z",
     "iopub.status.idle": "2025-10-28T11:55:46.716249Z",
     "shell.execute_reply": "2025-10-28T11:55:46.715900Z",
     "shell.execute_reply.started": "2025-10-28T11:55:46.711033Z"
    }
   },
   "outputs": [],
   "source": [
    "two_json_chain=({\n",
    "    \"capital\": itemgetter(\"country\") | capital_chain,\n",
    "    \"culture\": itemgetter(\"country\") | culture_chain,\n",
    "    \"climate\": itemgetter(\"country\") | climate_chain\n",
    "    }\n",
    "    | prompt_plan_final\n",
    "    | llm.with_structured_output(TravelLast)\n",
    "    | RunnableLambda(transform_key_last)\n",
    "    | {\n",
    "        \"capital\": itemgetter(\"capital\"),   # capital(\"country\") -> itemgetter(\"capital\")\n",
    "        \"culture\": itemgetter(\"culture\"),   # 쉼표 추가\n",
    "        \"climate\": itemgetter(\"climate\"),   # 쉼표 추가\n",
    "        \"plan\": itemgetter(\"plan\")\n",
    "    }\n",
    "    | prompt_detail_final\n",
    "    | llm\n",
    "    | StrOutputParser()\n",
    "    )\n"
   ]
  },
  {
   "cell_type": "code",
   "execution_count": 37,
   "id": "8a7d49c0-57a3-472f-9967-8be44cf0b33d",
   "metadata": {
    "execution": {
     "iopub.execute_input": "2025-10-28T11:55:46.716708Z",
     "iopub.status.busy": "2025-10-28T11:55:46.716591Z",
     "iopub.status.idle": "2025-10-28T11:56:55.509937Z",
     "shell.execute_reply": "2025-10-28T11:56:55.509539Z",
     "shell.execute_reply.started": "2025-10-28T11:55:46.716698Z"
    }
   },
   "outputs": [
    {
     "name": "stdout",
     "output_type": "stream",
     "text": [
      "중국 여행 계획에 포함된 주요 관광지들에 대해 상세히 설명해드리겠습니다!\n",
      "\n",
      "## **베이징 주요 관광지**\n",
      "\n",
      "**자금성(紫禁城)**\n",
      "- 명·청 황제들의 궁궐로 1420년 완공, 약 600년 역사\n",
      "- 9,999개 방을 가진 세계 최대 규모의 목조 건축군\n",
      "- 태화전, 중화전, 보화전 등 주요 전각에서 황실 문화 체험\n",
      "- 입장료: 60위안(성수기 4-10월), 40위안(비수기)\n",
      "\n",
      "**만리장성 팔달령 구간**\n",
      "- 베이징에서 70km, 가장 잘 보존된 구간\n",
      "- 명나라 때 건설된 성벽으로 험준한 산세를 따라 구불구불\n",
      "- 케이블카 이용 가능, 등반 시간 2-3시간\n",
      "- 입장료: 45위안, 케이블카 왕복 140위안\n",
      "\n",
      "**천단공원(天壇)**\n",
      "- 명·청 황제들이 하늘에 제사 지내던 제단\n",
      "- 기년전(祈年殿)의 독특한 원형 건축이 유명\n",
      "- 새벽 6-8시에 현지인들의 태극권, 검무 연습 관람 가능\n",
      "\n",
      "## **시안 주요 관광지**\n",
      "\n",
      "**병마용 박물관**\n",
      "- 진시황릉의 부장품으로 1974년 발견\n",
      "- 8,000여 개의 병사, 말, 전차 등 실물 크기 토용\n",
      "- 1,2,3호 갱과 청동마차 전시관으로 구성\n",
      "- 입장료: 150위안, 관람 시간 3-4시간 권장\n",
      "\n",
      "**시안 성벽**\n",
      "- 명나라 때 건설된 중국 최대 규모 성벽 (둘레 13.7km)\n",
      "- 자전거 대여로 성벽 일주 가능 (2-3시간 소요)\n",
      "- 야간 조명으로 아름다운 야경 연출\n",
      "\n",
      "**회족거리(回民街)**\n",
      "- 이슬람 문화가 살아있는 전통 거리\n",
      "- 양러우파오모(양고기 빵죽), 량피(냉면) 등 특색 음식\n",
      "- 200여 개 상점과 식당이 밀집\n",
      "\n",
      "## **상하이 주요 관광지**\n",
      "\n",
      "**와이탄(外灘)**\n",
      "- 황푸강변 1.5km 구간의 서구식 건축군\n",
      "- 대한민국 임시정부 청사, 평화호텔 등 역사적 건물\n",
      "- 밤 8시 루자쭈이 마천루 야경이 장관\n",
      "\n",
      "**예원(豫園)**\n",
      "- 명나라 관리가 부모를 위해 조성한 강남식 정원\n",
      "- 400년 역사의 전통 건축과 조경 예술의 걸작\n",
      "- 인근 예원상성에서 전통 공예품과 간식 구매 가능\n",
      "\n",
      "## **항저우/소주 주요 관광지**\n",
      "\n",
      "**서호(西湖)**\n",
      "- \"천국에는 천당이 있고, 지상에는 소항이 있다\"는 말의 배경\n",
      "- 소제춘효, 곡원풍하, 평호추월 등 서호십경으로 유명\n",
      "- 유람선 투어 45분, 요금 55위안\n",
      "\n",
      "**소주 고전정원**\n",
      "- **졸정원**: 중국 4대 명원 중 하나, 연못과 정자의 조화가 아름다움\n",
      "- **유원**: 작지만 정교한 설계로 \"작은 정원의 대표작\"\n",
      "- 입장료: 졸정원 90위안, 유원 55위안\n",
      "\n",
      "**전통 차 문화 체험**\n",
      "- 항저우 용정차(龙井茶) 시음 및 제조 과정 견학\n",
      "- 차예 시연과 다도 체험 프로그램 (1-2시간)\n",
      "- 메이자우 용정차 마을에서 직접 차잎 따기 체험 가능\n",
      "\n",
      "이 모든 관광지들은 중국의 5000년 역사와 문화를 직접 체험할 수 있는 소중한 장소들입니다. 특히 가을철 방문 시 쾌적한 날씨로 더욱 즐거운 여행이 될 것입니다!"
     ]
    }
   ],
   "source": [
    "async for chunk in two_json_chain.astream({\"country\": \"중국\"}):\n",
    "    print(chunk, end=\"\")\n"
   ]
  },
  {
   "cell_type": "code",
   "execution_count": null,
   "id": "447988cb-e66a-4f82-a757-f88ec4ed2f56",
   "metadata": {},
   "outputs": [],
   "source": []
  },
  {
   "cell_type": "code",
   "execution_count": null,
   "id": "d9ca345a-fec2-4ab8-8329-2665faa85f1e",
   "metadata": {},
   "outputs": [],
   "source": []
  },
  {
   "cell_type": "code",
   "execution_count": null,
   "id": "c6e38419-408b-4d01-bb6b-bc7f24b5c315",
   "metadata": {},
   "outputs": [],
   "source": []
  },
  {
   "cell_type": "code",
   "execution_count": 45,
   "id": "7cb629e2-7c23-40f2-bca6-cd1cb13a7772",
   "metadata": {
    "execution": {
     "iopub.execute_input": "2025-10-28T12:07:53.988146Z",
     "iopub.status.busy": "2025-10-28T12:07:53.987940Z",
     "iopub.status.idle": "2025-10-28T12:07:53.991469Z",
     "shell.execute_reply": "2025-10-28T12:07:53.990567Z",
     "shell.execute_reply.started": "2025-10-28T12:07:53.988133Z"
    }
   },
   "outputs": [],
   "source": [
    "template_plan_streaming = \"\"\"The following is a friendly conversation between a human and an AI. \n",
    "The AI is talkative and provides lots of specific details from its context. \n",
    "\n",
    "capitial :  {capital}\n",
    "culture :   {culture}\n",
    "climate :   {climate}\n",
    "\n",
    "이 정보를 바탕으로 여행 계획을 세워주세요\n",
    "\n",
    "응답은 반드시 다음 JSON 형식으로 제공해주세요:\n",
    "{{\n",
    "    \"capital\": \"수도 정보\",\n",
    "    \"culture\": \"문화 정보\", \n",
    "    \"climate\": \"기후 정보\",\n",
    "    \"plan\": \"여행 계획\"\n",
    "}}\n",
    "\"\"\"\n",
    "prompt_plan_streaming  = PromptTemplate(input_variables=[\"capital\", \"culture\", \"climate\"],\n",
    "                                 template=template_plan_streaming)"
   ]
  },
  {
   "cell_type": "code",
   "execution_count": 46,
   "id": "79300faf-e5d5-496e-99b1-7d94f606a16c",
   "metadata": {
    "execution": {
     "iopub.execute_input": "2025-10-28T12:08:30.140786Z",
     "iopub.status.busy": "2025-10-28T12:08:30.140558Z",
     "iopub.status.idle": "2025-10-28T12:08:30.143799Z",
     "shell.execute_reply": "2025-10-28T12:08:30.143257Z",
     "shell.execute_reply.started": "2025-10-28T12:08:30.140773Z"
    }
   },
   "outputs": [],
   "source": [
    "info_chain = RunnableParallel({\n",
    "    \"capital\": itemgetter(\"country\") | capital_chain,\n",
    "    \"culture\": itemgetter(\"country\") | culture_chain,\n",
    "    \"climate\": itemgetter(\"country\") | climate_chain\n",
    "})\n",
    "\n",
    "# 2단계: 계획 생성\n",
    "plan_chain = prompt_plan_streaming | llm | StrOutputParser()\n",
    "\n",
    "# 3단계: 최종 상세 계획\n",
    "detail_chain = prompt_detail_final | llm | StrOutputParser()\n"
   ]
  },
  {
   "cell_type": "code",
   "execution_count": null,
   "id": "5f73e63b-63f5-4b3f-931f-064bafeb6e30",
   "metadata": {
    "execution": {
     "iopub.execute_input": "2025-10-28T12:08:46.224139Z",
     "iopub.status.busy": "2025-10-28T12:08:46.223886Z",
     "iopub.status.idle": "2025-10-28T12:08:46.227920Z",
     "shell.execute_reply": "2025-10-28T12:08:46.227490Z",
     "shell.execute_reply.started": "2025-10-28T12:08:46.224118Z"
    }
   },
   "outputs": [],
   "source": [
    "async def execute_with_progress(country):\n",
    "    # 1단계 실행 + 출력\n",
    "    info = await info_chain.ainvoke({\"country\": country})\n",
    "    print(\"✅ 기본 정보 수집 완료:\", info)\n",
    "    \n",
    "    # 2단계 스트리밍 실행\n",
    "    print(\"✅ 여행 계획 생성 중...\")\n",
    "    plan_text = \"\"\n",
    "    async for chunk in plan_chain.astream(info):\n",
    "        print(chunk, end=\"\")\n",
    "        plan_text += chunk\n",
    "    \n",
    "    # JSON 파싱\n",
    "    json_match = re.search(r'\\{.*\\}', plan_text, re.DOTALL)\n",
    "    if json_match:\n",
    "        plan_data = json.loads(json_match.group())\n",
    "        plan = type('Plan', (), plan_data)()\n",
    "    else:\n",
    "        # 파싱 실패시 기본 구조\n",
    "        plan = type('Plan', (), {'capital': '', 'culture': '', 'climate': '', 'plan': plan_text.strip()})()\n",
    "    \n",
    "    print(\"\\n✅ 여행 계획 생성 완료\")\n",
    "    \n",
    "    # 3단계 실행\n",
    "    transformed = transform_key_last(plan)\n",
    "    async for chunk in detail_chain.astream(transformed):\n",
    "        print(chunk, end=\"\")\n"
   ]
  },
  {
   "cell_type": "code",
   "execution_count": null,
   "id": "67229963-27d1-469b-b2f0-4827c805bc97",
   "metadata": {
    "execution": {
     "iopub.execute_input": "2025-10-28T12:08:48.408001Z",
     "iopub.status.busy": "2025-10-28T12:08:48.407791Z",
     "iopub.status.idle": "2025-10-28T12:09:30.142019Z",
     "shell.execute_reply": "2025-10-28T12:09:30.141546Z",
     "shell.execute_reply.started": "2025-10-28T12:08:48.407988Z"
    }
   },
   "outputs": [
    {
     "name": "stdout",
     "output_type": "stream",
     "text": [
      "✅ 기본 정보 수집 완료: {'capital': \"한국의 수도는 **서울특별시**입니다.\\n\\n## 서울에 대한 주요 정보:\\n\\n### 기본 정보\\n- **정식 명칭**: 서울특별시 (Seoul Special City)\\n- **면적**: 약 605㎢\\n- **인구**: 약 950만 명 (2023년 기준)\\n- **행정구역**: 25개 자치구\\n\\n### 역사\\n- 1394년 조선 태조가 한양으로 천도한 이후 600년 이상 수도 역할\\n- 일제강점기에는 '경성'으로 불림\\n- 1945년 해방 후 '서울'로 개칭\\n- 1988년 서울올림픽, 2002년 FIFA 월드컵 공동개최\\n\\n### 주요 특징\\n- **정치**: 대한민국 정부기관 소재지\\n- **경제**: 국내 GDP의 약 20% 차지하는 경제 중심지\\n- **교육**: 서울대, 연세대, 고려대 등 주요 대학 위치\\n- **문화**: K-pop, 드라마 등 한류 문화의 중심지\\n- **교통**: 지하철 9개 노선, 인천국제공항과 연결\\n\\n### 주요 명소\\n- 경복궁, 창덕궁 등 조선왕조 궁궐\\n- 남산타워, 한강공원\\n- 명동, 강남, 홍대 등 상업지구\\n\\n서울은 전통과 현대가 조화를 이루는 국제적인 대도시입니다.\", 'culture': '한국 문화는 오랜 역사와 전통을 바탕으로 현대적 요소가 조화롭게 어우러진 독특한 특징을 가지고 있습니다.\\n\\n## 🏛️ 전통 문화\\n- **유교 문화**: 효도, 예의, 존경 등을 중시하는 가치관\\n- **한복**: 아름다운 곡선미의 전통 의상\\n- **한옥**: 자연과 조화를 이루는 전통 건축\\n- **전통 예술**: 판소리, 탈춤, 사물놀이 등\\n\\n## 🍚 음식 문화\\n- **김치**: 발효 음식의 대표작\\n- **한정식**: 다양한 반찬이 함께 나오는 식사 문화\\n- **공유 문화**: 음식을 나누어 먹는 문화\\n- **계절 음식**: 절기에 따른 특별한 음식들\\n\\n## 🎵 현대 문화 (한류)\\n- **K-POP**: BTS, 블랙핑크 등 전 세계적 인기\\n- **K-드라마**: 감동적인 스토리텔링\\n- **K-뷰티**: 스킨케어 문화\\n- **웹툰**: 디지털 만화 문화\\n\\n## 👥 사회 문화\\n- **정(情)**: 인간관계를 중시하는 문화\\n- **빨리빨리**: 역동적이고 효율적인 문화\\n- **회식 문화**: 직장 동료들과의 유대감 형성\\n- **존댓말**: 상하관계를 중시하는 언어 문화\\n\\n## 🎉 명절과 행사\\n- **설날, 추석**: 가족이 모이는 대명절\\n- **어린이날, 어버이날**: 가족 사랑을 표현하는 날\\n- **각종 축제**: 지역별 특색 있는 문화 행사\\n\\n한국 문화는 전통을 지키면서도 현대적 변화를 수용하는 유연성이 특징입니다.', 'climate': '한국의 날씨는 사계절이 뚜렷한 온대 대륙성 기후를 보입니다. 각 계절별 특징을 알려드릴게요.\\n\\n## 🌸 봄 (3-5월)\\n- 기온이 점차 상승하며 따뜻해짐\\n- 황사와 미세먼지가 자주 발생\\n- 벚꽃 등 꽃이 피는 시기\\n- 일교차가 큰 편\\n\\n## ☀️ 여름 (6-8월)\\n- 고온다습한 날씨\\n- 장마철 (6월 말~7월 말): 집중호우 발생\\n- 태풍의 영향을 받기도 함\\n- 평균 기온 25-30°C, 습도 높음\\n\\n## 🍂 가을 (9-11월)\\n- 선선하고 쾌적한 날씨\\n- 단풍이 아름다운 시기\\n- 맑은 날이 많고 습도가 낮음\\n- 일교차가 큰 편\\n\\n## ❄️ 겨울 (12-2월)\\n- 춥고 건조한 날씨\\n- 시베리아 고기압의 영향으로 한파 발생\\n- 눈이 내리며, 특히 강원도와 서해안 지역에 많음\\n- 평균 기온 -5~5°C\\n\\n## 지역별 차이\\n- **남부**: 상대적으로 온화\\n- **중부**: 사계절 변화가 뚜렷\\n- **제주도**: 아열대성 기후로 온난\\n- **강원도**: 산간지역으로 추위가 심함\\n\\n최근에는 기후변화로 인해 이상기후 현상도 자주 발생하고 있어요.'}\n",
      "✅ 여행 계획 생성 중...\n",
      "{\n",
      "    \"capital\": \"한국의 수도는 서울특별시로, 약 950만 명이 거주하는 대도시입니다. 25개 자치구로 구성되어 있으며, 1394년부터 600년 이상 수도 역할을 해왔습니다. 경복궁, 창덕궁 같은 전통 궁궐과 남산타워, 명동, 강남 등 현대적 명소가 공존하며, 지하철 9개 노선으로 교통이 편리합니다.\",\n",
      "    \n",
      "    \"culture\": \"한국 문화는 전통과 현대가 조화를 이룹니다. 유교 문화를 바탕으로 한 예의와 존댓말 문화, 김치와 한정식 등의 음식 문화, 그리고 BTS, 블랙핑크로 대표되는 K-POP과 K-드라마 등 한류 문화가 특징입니다. '정'을 중시하는 인간관계와 '빨리빨리' 문화, 설날과 추석 같은 전통 명절도 중요한 문화 요소입니다.\",\n",
      "    \n",
      "    \"climate\": \"한국은 사계절이 뚜렷한 온대 대륙성 기후입니다. 봄(3-5월)은 따뜻하지만 황사와 미세먼지가 있고, 여름(6-8월)은 고온다습하며 장마와 태풍이 있습니다. 가을(9-11월)은 선선하고 쾌적하며 단풍이 아름답고, 겨울(12-2월)은 춥고 건조합니다. 지역별로 남부는 온화하고 강원도는 추우며, 제주도는 아열대성 기후를 보입니다.\",\n",
      "    \n",
      "    \"plan\": \"**추천 여행 시기**: 가을(9-11월) - 쾌적한 날씨와 아름다운 단풍\\n\\n**7일 여행 일정**:\\n1일차: 인천공항 도착 → 명동 숙소 체크인 → 남산타워\\n2일차: 경복궁, 창덕궁 → 북촌한옥마을 → 인사동 전통문화 체험\\n3일차: 강남 → K-POP 관련 명소 → 한강공원 야경\\n4일차: 홍대 → 젊은 문화 체험 → 한국 전통음식 투어\\n5일차: 설악산 또는 내장산 단풍 구경 (당일치기)\\n6일차: 동대문 쇼핑 → 한국 전통 사우나(찜질방) 체험\\n7일차: 마지막 쇼핑 → 출국\\n\\n**준비물**: 계절에 맞는 옷, 마스크(미세먼지 대비), 편한 신발\"\n",
      "}\n",
      "✅ 여행 계획 생성 완료\n",
      "안녕하세요! 한국 여행 계획에 포함된 관광지와 체험에 대해 자세히 설명해드릴게요.\n",
      "\n",
      "**전통 궁궐**\n",
      "- **경복궁**: 1395년 건립된 조선왕조의 정궁으로, 근정전과 경회루가 유명해요. 매일 10시, 14시, 15시에 수문장 교대식이 있고, 한복을 입으면 입장료가 무료예요!\n",
      "- **창덕궁**: 유네스코 세계문화유산으로 지정된 곳이에요. 특히 후원(비원)이 아름다워서 별도 예약이 필요한 후원 투어가 인기가 많아요.\n",
      "\n",
      "**문화 체험 지역**\n",
      "- **북촌한옥마을**: 600년 된 전통 한옥들이 보존된 지역으로, 8개의 대표 뷰포인트가 있어요. 실제 주민들이 거주하고 있어서 조용히 관람해야 해요.\n",
      "- **인사동**: 전통 찻집, 갤러리, 전통공예품점이 모여있는 문화의 거리예요. 쌈지길에서는 독특한 수공예품을 구경할 수 있어요.\n",
      "\n",
      "**현대 문화 명소**\n",
      "- **강남**: K-POP 스타들의 소속사인 SM타운, 강남스타일로 유명한 가로수길이 있어요. 코엑스몰과 별마당도서관도 꼭 가볼 만해요.\n",
      "- **홍대**: 홍익대학교 주변의 젊음의 거리로, 클럽과 라이브 카페, 거리공연을 볼 수 있어요. 홍대 놀이터에서는 매주말 프리마켓이 열려요.\n",
      "\n",
      "**자연 명소**\n",
      "- **설악산**: 강원도에 위치한 국립공원으로, 가을 단풍이 정말 장관이에요. 케이블카를 타고 권금성까지 올라가면 멋진 전망을 볼 수 있어요.\n",
      "- **내장산**: 전라북도 정읍에 있는 단풍 명소로, '내장산 단풍'은 한국에서 가장 유명해요. 내장사까지 이어지는 단풍터널이 압권이에요.\n",
      "\n",
      "**특별 체험**\n",
      "- **찜질방**: 한국 특유의 사우나 문화로, 24시간 운영되는 곳이 많아요. 다양한 온도의 사우나와 수면실, 식당까지 있어서 하루 종일 머물 수 있어요.\n",
      "\n",
      "이런 상세한 정보들이 여행 계획에 도움이 되셨나요?"
     ]
    }
   ],
   "source": [
    "await execute_with_progress(\"중국\")"
   ]
  },
  {
   "cell_type": "code",
   "execution_count": null,
   "id": "14f48490-6c23-47c7-8dba-edc8d91546eb",
   "metadata": {},
   "outputs": [],
   "source": []
  },
  {
   "cell_type": "code",
   "execution_count": null,
   "id": "910f4731-b6b1-4908-8256-50032799180e",
   "metadata": {},
   "outputs": [],
   "source": []
  },
  {
   "cell_type": "code",
   "execution_count": null,
   "id": "623fad3f-b5fd-487b-88c3-ed11a76a0360",
   "metadata": {},
   "outputs": [],
   "source": []
  },
  {
   "cell_type": "code",
   "execution_count": null,
   "id": "686a36bf-032d-4cfc-bdfb-2da6d52de831",
   "metadata": {},
   "outputs": [],
   "source": []
  },
  {
   "cell_type": "code",
   "execution_count": null,
   "id": "90fb422a-2227-4ad4-9375-a7da53fc6b34",
   "metadata": {},
   "outputs": [],
   "source": []
  },
  {
   "cell_type": "code",
   "execution_count": null,
   "id": "3ed92966-877a-4fe8-b5b2-17e3a69ef899",
   "metadata": {},
   "outputs": [],
   "source": []
  },
  {
   "cell_type": "code",
   "execution_count": null,
   "id": "ccccdbb1-3838-467e-a19e-fd292519ffa7",
   "metadata": {},
   "outputs": [],
   "source": []
  },
  {
   "cell_type": "code",
   "execution_count": null,
   "id": "cf3d19a5-5af7-4005-8c08-bda8648e4143",
   "metadata": {},
   "outputs": [],
   "source": []
  },
  {
   "cell_type": "code",
   "execution_count": null,
   "id": "7e505612-d2f5-4f9d-b988-fac93162b9ea",
   "metadata": {},
   "outputs": [],
   "source": []
  },
  {
   "cell_type": "code",
   "execution_count": null,
   "id": "d107963c-3e0c-4a0a-9cfc-e80dc44f09dc",
   "metadata": {},
   "outputs": [],
   "source": []
  },
  {
   "cell_type": "code",
   "execution_count": null,
   "id": "164b6d80-15fb-40ab-86d2-544ae8c51ab5",
   "metadata": {},
   "outputs": [],
   "source": []
  },
  {
   "cell_type": "code",
   "execution_count": null,
   "id": "00b53876-5d4a-4924-a35f-b4a48dff4fb0",
   "metadata": {},
   "outputs": [],
   "source": []
  }
 ],
 "metadata": {
  "kernelspec": {
   "display_name": "Python 3 (ipykernel)",
   "language": "python",
   "name": "python3"
  },
  "language_info": {
   "codemirror_mode": {
    "name": "ipython",
    "version": 3
   },
   "file_extension": ".py",
   "mimetype": "text/x-python",
   "name": "python",
   "nbconvert_exporter": "python",
   "pygments_lexer": "ipython3",
   "version": "3.11.11"
  }
 },
 "nbformat": 4,
 "nbformat_minor": 5
}
