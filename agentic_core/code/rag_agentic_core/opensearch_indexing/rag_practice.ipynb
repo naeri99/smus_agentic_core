{
 "cells": [
  {
   "cell_type": "code",
   "execution_count": 31,
   "id": "88a6b527-1cc2-4a93-ab59-cc9397a647d5",
   "metadata": {
    "execution": {
     "iopub.execute_input": "2025-10-28T13:54:15.877295Z",
     "iopub.status.busy": "2025-10-28T13:54:15.877102Z",
     "iopub.status.idle": "2025-10-28T13:54:15.881338Z",
     "shell.execute_reply": "2025-10-28T13:54:15.880890Z",
     "shell.execute_reply.started": "2025-10-28T13:54:15.877282Z"
    }
   },
   "outputs": [],
   "source": [
    "from langchain_aws import ChatBedrockConverse\n",
    "from langchain.schema import HumanMessage, SystemMessage\n",
    "import boto3\n",
    "from langchain_core.output_parsers import StrOutputParser\n",
    "from langchain_core.prompts import ChatPromptTemplate\n",
    "from opensearchpy import OpenSearch, RequestsHttpConnection\n",
    "import os\n",
    "import boto3\n",
    "import json\n",
    "import sys\n",
    "from langchain.schema import BaseRetriever, Document\n",
    "from typing import List, Optional, Dict, Tuple\n",
    "from langchain_core.documents import Document\n",
    "import concurrent.futures\n",
    "from langchain_aws import BedrockEmbeddings\n",
    "from langchain_core.runnables import RunnableParallel, RunnablePassthrough\n",
    "from langchain_core.prompts import ChatPromptTemplate\n",
    "from langchain.prompts.prompt import PromptTemplate\n",
    "from operator import itemgetter\n",
    "from langchain_core.runnables import RunnableLambda\n",
    "from pydantic import BaseModel, Field\n",
    "from pathlib import Path\n",
    "current_dir = Path.cwd()\n",
    "root_path = current_dir.parent.parent  # 상위 디렉토리\n",
    "sys.path.insert(0, str(root_path))\n",
    "sys.path.insert(0, str(root_path / \"shared\"))\n",
    "from opensearch_con import OpenSearchEmbeddingProcessor \n",
    "from langchain_aws import ChatBedrock\n"
   ]
  },
  {
   "cell_type": "code",
   "execution_count": 2,
   "id": "47d2b643-f73a-4261-ab5c-5d968c54c48f",
   "metadata": {
    "execution": {
     "iopub.execute_input": "2025-10-28T13:39:15.721746Z",
     "iopub.status.busy": "2025-10-28T13:39:15.721448Z",
     "iopub.status.idle": "2025-10-28T13:39:15.861780Z",
     "shell.execute_reply": "2025-10-28T13:39:15.861322Z",
     "shell.execute_reply.started": "2025-10-28T13:39:15.721734Z"
    }
   },
   "outputs": [],
   "source": [
    "#create opensearch connection and set Bedrock Embedding\n",
    "opensearh= OpenSearchEmbeddingProcessor()"
   ]
  },
  {
   "cell_type": "code",
   "execution_count": 3,
   "id": "4f4ddaac-2f64-4ba7-b9ea-322b59847889",
   "metadata": {
    "execution": {
     "iopub.execute_input": "2025-10-28T13:39:15.862604Z",
     "iopub.status.busy": "2025-10-28T13:39:15.862451Z",
     "iopub.status.idle": "2025-10-28T13:39:15.930931Z",
     "shell.execute_reply": "2025-10-28T13:39:15.930535Z",
     "shell.execute_reply.started": "2025-10-28T13:39:15.862591Z"
    }
   },
   "outputs": [
    {
     "data": {
      "text/plain": [
       "[-0.08115597069263458,\n",
       " 0.0458092987537384,\n",
       " -0.03429197520017624,\n",
       " 0.00505836820229888,\n",
       " 0.04746834188699722]"
      ]
     },
     "execution_count": 3,
     "metadata": {},
     "output_type": "execute_result"
    }
   ],
   "source": [
    "#embedding test\n",
    "opensearh.get_embedding(\"안녕하세요?\")[:5]"
   ]
  },
  {
   "cell_type": "code",
   "execution_count": 4,
   "id": "2ff18014-c28d-4180-a412-0e5a0357e9a5",
   "metadata": {
    "execution": {
     "iopub.execute_input": "2025-10-28T13:39:15.931506Z",
     "iopub.status.busy": "2025-10-28T13:39:15.931319Z",
     "iopub.status.idle": "2025-10-28T13:39:15.933936Z",
     "shell.execute_reply": "2025-10-28T13:39:15.933534Z",
     "shell.execute_reply.started": "2025-10-28T13:39:15.931490Z"
    }
   },
   "outputs": [
    {
     "name": "stdout",
     "output_type": "stream",
     "text": [
      "/home/sagemaker-user/smus_agentic_core/data/raw/basic_aws_dictionary.json\n"
     ]
    }
   ],
   "source": [
    "#get data path\n",
    "data_path=str(opensearh.get_data_path())\n",
    "print(data_path)"
   ]
  },
  {
   "cell_type": "code",
   "execution_count": 5,
   "id": "5ce70cee-5025-445d-a6eb-38ef567f94f1",
   "metadata": {
    "execution": {
     "iopub.execute_input": "2025-10-28T13:39:15.934436Z",
     "iopub.status.busy": "2025-10-28T13:39:15.934291Z",
     "iopub.status.idle": "2025-10-28T13:39:15.942168Z",
     "shell.execute_reply": "2025-10-28T13:39:15.941868Z",
     "shell.execute_reply.started": "2025-10-28T13:39:15.934424Z"
    }
   },
   "outputs": [],
   "source": [
    "#get json data\n",
    "data = opensearh.read_json(data_path)[\"char_chunks\"]"
   ]
  },
  {
   "cell_type": "code",
   "execution_count": 6,
   "id": "6dffdc22-d206-484f-b187-363da78f739f",
   "metadata": {
    "execution": {
     "iopub.execute_input": "2025-10-28T13:39:15.942617Z",
     "iopub.status.busy": "2025-10-28T13:39:15.942498Z",
     "iopub.status.idle": "2025-10-28T13:39:15.944813Z",
     "shell.execute_reply": "2025-10-28T13:39:15.944415Z",
     "shell.execute_reply.started": "2025-10-28T13:39:15.942605Z"
    }
   },
   "outputs": [
    {
     "name": "stdout",
     "output_type": "stream",
     "text": [
      "data ->  {'chunk_id': 0, 'content': 'Amazon Web Services 개요 AWS 백서 Amazon Web Services 개요 게시일: 2024년 8월 27 일(문서 이력 ) Amazon Web Services는 컴퓨팅, 스토리지, 데이터베이스, 분석, 네트워킹, 모바일, 개발자 도구, 관리 도구, IoT, 보안 및 엔터프라이즈 애플리케이션을 포함한 다양한 글로벌 클라우드 기반 제품 세트를 제 공합니다. 온디맨드, 몇 초 만에 사용 가능, pay-as-you-go 데이터 웨어하우징에서 배포 도구, 디렉터 리, 콘텐츠 전송에 이르기까지 200개 이상의 AWS 서비스를 사용할 수 있습니다. 선결제 고정 비용 없이 새 서비스를 빠르게 프로비저닝할 수 있습니다. 이를 통해 기업, 스타트업, 중소 기업 및 공공 부문의 고객은 변화하는 비즈니스 요구 사항에 신속하게 대응하는 데 필요한 구성 요소에 액세스할 수 있습니다. 이 백서에서는의 이점에 대한 개요를 AWS 클라우드 제공하고 플랫폼을 구성하 는 서비스를 소개합니다. 소개 2006년에 Amazon Web Services(AWS)는 기업에 웹 서비스로 IT 인프라 서비스를 제공하기 시작했습 니다. 이제는 클라우드 컴퓨팅이라고 합니다. 클라우드 컴퓨팅의 주요 이점 중 하나는 선결제 자본 인 프라 비용을 비즈니스에 따라 조정되는 낮은 가변 비용으로 바꿀 수 있는 기회입니다. 클라우드를 사 용하면 기업은 더 이상 서버 및 기타 IT 인프라를 몇 주 또는 몇 달 전에 계획하고 조달할 필요가 없습니 다. 대신 몇 분 만에 수백 또는 수천 개의 서버를 즉시 가동하고 결과를 더 빠르게 제공할 수 있습니다. 오늘날는 전 세계 190개 국가에서 수십만 개의 비즈니스를 지원하는 클라우드에서 매우 안정적이고 확 장 가능하며 저렴한 인프라 플랫폼을 AWS 제공합니다. 이 동영상에서는 수백만 명의 고객이 클라우드 컴퓨팅의 효율성을 활용하는 AWS 방법을 살펴봅니 다.란 무엇인가요 AWS? | Amazon Web Services 소개 1', 'start_paragraph': 10, 'end_paragraph': 11, 'char_count': 978, 'word_count': 232, 'processed_at': '2025-10-20T00:00:02.299022', 'parent_chunk_id': 0, 'is_char_chunk': False, 'start_char_idx': 0, 'end_char_idx': 978, 'summary': 'Amazon Web Services(AWS)는 2006년부터 시작된 클라우드 컴퓨팅 플랫폼으로, 컴퓨팅, 스토리지, 데이터베이스 등 200개 이상의 서비스를 온디맨드 방식으로 제공하며 선결제 비용 없이 pay-as-you-go 모델로 이용할 수 있습니다. 현재 전 세계 190개 국가에서 수십만 개의 비즈니스를 지원하는 안정적이고 확장 가능한 클라우드 인프라 플랫폼입니다.', 'keywords': ['Amazon Web Services', 'AWS', '클라우드 컴퓨팅', '온디맨드', 'pay-as-you-go', '컴퓨팅', '스토리지', '데이터베이스', '데이터 웨어하우징', 'IoT'], 'expected_questions': ['AWS에서 제공하는 200개 이상의 서비스 중 주요 서비스들은 무엇인가요?', 'pay-as-you-go 모델은 구체적으로 어떤 방식으로 비용이 청구되나요?', '기존 온프레미스 인프라에서 AWS 클라우드로 마이그레이션할 때 어떤 이점이 있나요?', 'AWS 서비스를 몇 분 만에 프로비저닝한다는 것은 구체적으로 어떤 과정인가요?', '중소기업이 AWS를 도입할 때 초기 비용과 운영 비용은 어느 정도 예상해야 하나요?']}\n",
      "*******************************************************************************************************************************************************************************\n",
      "dict_keys(['chunk_id', 'content', 'start_paragraph', 'end_paragraph', 'char_count', 'word_count', 'processed_at', 'parent_chunk_id', 'is_char_chunk', 'start_char_idx', 'end_char_idx', 'summary', 'keywords', 'expected_questions'])\n",
      "keys ->  None\n"
     ]
    }
   ],
   "source": [
    "#check chunk shape and features\n",
    "opensearh.check_data_property(data)"
   ]
  },
  {
   "cell_type": "code",
   "execution_count": 7,
   "id": "194ed2ae-9f35-4648-8a20-192b9af0a8ad",
   "metadata": {
    "execution": {
     "iopub.execute_input": "2025-10-28T13:39:15.945344Z",
     "iopub.status.busy": "2025-10-28T13:39:15.945167Z",
     "iopub.status.idle": "2025-10-28T13:39:16.049866Z",
     "shell.execute_reply": "2025-10-28T13:39:16.049424Z",
     "shell.execute_reply.started": "2025-10-28T13:39:15.945328Z"
    }
   },
   "outputs": [
    {
     "name": "stdout",
     "output_type": "stream",
     "text": [
      "[-0.03377218544483185, -0.02527015656232834, 0.014535900205373764, -0.08748951554298401, 0.015982862561941147]\n"
     ]
    }
   ],
   "source": [
    "#change content into vector via bedrock embedding\n",
    "vector=opensearh.get_embedding_with_key(data[0], \"content\")\n",
    "print(vector[:5])"
   ]
  },
  {
   "cell_type": "code",
   "execution_count": 8,
   "id": "55272c6d-7c27-4cc4-a665-f6a14a5aba7c",
   "metadata": {
    "execution": {
     "iopub.execute_input": "2025-10-28T13:39:16.050582Z",
     "iopub.status.busy": "2025-10-28T13:39:16.050349Z",
     "iopub.status.idle": "2025-10-28T13:39:16.053833Z",
     "shell.execute_reply": "2025-10-28T13:39:16.053441Z",
     "shell.execute_reply.started": "2025-10-28T13:39:16.050561Z"
    }
   },
   "outputs": [],
   "source": [
    "\n",
    "# Create index\n",
    "index_name = \"aws-document-chunks\"\n",
    "    \n",
    "\n",
    "# Index mapping\n",
    "index_mapping = {\n",
    "    \"mappings\": {\n",
    "        \"properties\": {\n",
    "            \"content\": {\n",
    "                \"type\": \"text\",\n",
    "                \"analyzer\": \"nori_analyzer\"\n",
    "            },\n",
    "            \"content_embedding\": {\n",
    "                \"type\": \"knn_vector\",\n",
    "                \"dimension\": 1024\n",
    "            },\n",
    "            \"summary\": {\n",
    "                \"type\": \"text\",\n",
    "                \"analyzer\": \"nori_analyzer\"\n",
    "            },\n",
    "            \"expected_question\": {\n",
    "                \"type\": \"text\",\n",
    "                \"analyzer\": \"nori_analyzer\"\n",
    "            },\n",
    "            \"keywords\": {\n",
    "                \"type\": \"keyword\"\n",
    "            }\n",
    "        }\n",
    "    },\n",
    "    \"settings\": {\n",
    "        \"index\": {\n",
    "            \"knn\": True,\n",
    "            \"knn.algo_param.ef_search\": 100,\n",
    "            \"number_of_shards\": 3,\n",
    "            \"number_of_replicas\": 2\n",
    "        },\n",
    "        \"analysis\": {\n",
    "            \"analyzer\": {\n",
    "                \"nori_analyzer\": {\n",
    "                    \"tokenizer\": \"nori_tokenizer\",\n",
    "                    \"filter\": [\"nori_stop\", \"lowercase\"]\n",
    "                }\n",
    "            },\n",
    "            \"filter\": {\n",
    "                \"nori_stop\": {\n",
    "                    \"type\": \"nori_part_of_speech\",\n",
    "                    \"stoptags\": [\"J\", \"JKS\", \"JKB\", \"JKO\", \"JKG\", \"JKC\", \"JKV\", \"JKQ\", \"JX\", \"JC\"]\n",
    "                }\n",
    "            }\n",
    "        }\n",
    "    }\n",
    "}\n",
    "\n",
    "\n"
   ]
  },
  {
   "cell_type": "code",
   "execution_count": 10,
   "id": "4df1e4dd-0c73-41e6-8b32-31f94d4bcb2a",
   "metadata": {
    "execution": {
     "iopub.execute_input": "2025-10-28T13:39:21.669912Z",
     "iopub.status.busy": "2025-10-28T13:39:21.669708Z",
     "iopub.status.idle": "2025-10-28T13:39:21.840085Z",
     "shell.execute_reply": "2025-10-28T13:39:21.839581Z",
     "shell.execute_reply.started": "2025-10-28T13:39:21.669899Z"
    }
   },
   "outputs": [
    {
     "name": "stdout",
     "output_type": "stream",
     "text": [
      "Index aws-document-chunks created successfully\n"
     ]
    }
   ],
   "source": [
    "#create index\n",
    "opensearh.create_index(index_name,index_mapping )\n",
    "\n",
    "#delete index\n",
    "# opensearh.delete_index(index_name)"
   ]
  },
  {
   "cell_type": "code",
   "execution_count": 11,
   "id": "10f7c847-7843-4900-b903-02fd77051227",
   "metadata": {
    "execution": {
     "iopub.execute_input": "2025-10-28T13:39:22.505036Z",
     "iopub.status.busy": "2025-10-28T13:39:22.504831Z",
     "iopub.status.idle": "2025-10-28T13:39:22.507692Z",
     "shell.execute_reply": "2025-10-28T13:39:22.507213Z",
     "shell.execute_reply.started": "2025-10-28T13:39:22.505023Z"
    }
   },
   "outputs": [],
   "source": [
    "#generate text and embedding feature\n",
    "def preprocess_content(process, data):\n",
    "    feature=data\n",
    "    feature_embedding=process.get_embedding(data)\n",
    "    return feature, feature_embedding"
   ]
  },
  {
   "cell_type": "code",
   "execution_count": 12,
   "id": "9f97b638-973d-45f5-a511-ead07ac2f616",
   "metadata": {
    "execution": {
     "iopub.execute_input": "2025-10-28T13:39:23.273127Z",
     "iopub.status.busy": "2025-10-28T13:39:23.272931Z",
     "iopub.status.idle": "2025-10-28T13:40:21.947046Z",
     "shell.execute_reply": "2025-10-28T13:40:21.946591Z",
     "shell.execute_reply.started": "2025-10-28T13:39:23.273115Z"
    }
   },
   "outputs": [
    {
     "name": "stdout",
     "output_type": "stream",
     "text": [
      "Document 0 indexed successfully\n",
      "Document 50 indexed successfully\n",
      "Document 100 indexed successfully\n",
      "Document 150 indexed successfully\n",
      "Document 200 indexed successfully\n"
     ]
    }
   ],
   "source": [
    "for idx, chunk in enumerate(data):\n",
    "    #content \n",
    "    content, content_embedding=preprocess_content(opensearh, chunk[\"content\"])\n",
    "    \n",
    "    #summary\n",
    "    summary, summary_embedding=preprocess_content(opensearh, chunk[\"summary\"])\n",
    "\n",
    "    #expected_question\n",
    "    expected_question=\",\".join(chunk[\"expected_questions\"])\n",
    "    expected_question, expected_question_embedding=preprocess_content(opensearh, expected_question)\n",
    "\n",
    "    #keyword\n",
    "    keywords = chunk[\"keywords\"]\n",
    "\n",
    "    #mapping features into opensearch index format\n",
    "    document = {\n",
    "            \"content\": content,\n",
    "            \"content_embedding\": content_embedding,\n",
    "            \"summary\" : summary, \n",
    "            \"expected_question\" : expected_question,\n",
    "            \"keywords\" : keywords \n",
    "        }\n",
    "\n",
    "    opensearh.save_data(idx, document)\n"
   ]
  },
  {
   "cell_type": "code",
   "execution_count": null,
   "id": "429d1369-34e0-4602-84f8-a3d69c4945b3",
   "metadata": {
    "execution": {
     "iopub.execute_input": "2025-10-28T13:44:12.457291Z",
     "iopub.status.busy": "2025-10-28T13:44:12.457072Z",
     "iopub.status.idle": "2025-10-28T13:44:12.461294Z",
     "shell.execute_reply": "2025-10-28T13:44:12.460885Z",
     "shell.execute_reply.started": "2025-10-28T13:44:12.457276Z"
    }
   },
   "outputs": [],
   "source": [
    "#vector 유사도 검색 \n",
    "def vector_search(client, query, k=3):\n",
    "    try:\n",
    "        # KNN vector search query\n",
    "\n",
    "        query_vector= client.get_embedding(query)\n",
    "        vector_search = {\n",
    "            \"size\": k,\n",
    "            \"_source\": {\n",
    "                \"excludes\": [\"content_embedding\"]  # Exclude vector field from results\n",
    "            },\n",
    "            \"query\": {\n",
    "                \"knn\": {\n",
    "                    \"content_embedding\": {\n",
    "                        \"vector\": query_vector,\n",
    "                        \"k\": k\n",
    "                    }\n",
    "                }\n",
    "            }\n",
    "        }\n",
    "\n",
    "        # Execute the search\n",
    "        response = client.os_client.search(\n",
    "            index=client.index_name,\n",
    "            body=vector_search\n",
    "        )\n",
    "\n",
    "        documents = []\n",
    "        for res in response[\"hits\"][\"hits\"]:\n",
    "            source = res['_source']\n",
    "            page_content = {k: source[k] for k in source if k != \"vector\"}\n",
    "            metadata = {\"id\": res['_id']}  # Add metadata with a unique identifier\n",
    "            score = res['_score']  # Get the match score from the search result\n",
    "            documents.append((Document(page_content=json.dumps(page_content, ensure_ascii=False), metadata=metadata), score))\n",
    "        return documents\n",
    "            \n",
    "    except Exception as e:\n",
    "        print(f\"Search error: {str(e)}\")\n",
    "        return None"
   ]
  },
  {
   "cell_type": "code",
   "execution_count": 29,
   "id": "01d4d8b4-ac1a-4500-b6ca-6afc6c0f9413",
   "metadata": {
    "execution": {
     "iopub.execute_input": "2025-10-28T13:50:14.947627Z",
     "iopub.status.busy": "2025-10-28T13:50:14.947395Z",
     "iopub.status.idle": "2025-10-28T13:50:15.072284Z",
     "shell.execute_reply": "2025-10-28T13:50:15.071844Z",
     "shell.execute_reply.started": "2025-10-28T13:50:14.947614Z"
    }
   },
   "outputs": [],
   "source": [
    "#결과 검색\n",
    "result =vector_search(opensearh, \"Amazon Appflow에 대해 설명해줘\", k = 5)"
   ]
  },
  {
   "cell_type": "code",
   "execution_count": 30,
   "id": "ffc017b8-af7d-4708-ba09-47f48967e25f",
   "metadata": {
    "execution": {
     "iopub.execute_input": "2025-10-28T13:50:15.705658Z",
     "iopub.status.busy": "2025-10-28T13:50:15.705452Z",
     "iopub.status.idle": "2025-10-28T13:50:15.708855Z",
     "shell.execute_reply": "2025-10-28T13:50:15.708531Z",
     "shell.execute_reply.started": "2025-10-28T13:50:15.705646Z"
    }
   },
   "outputs": [
    {
     "data": {
      "text/plain": [
       "[(Document(metadata={'id': 'aws_doc_26'}, page_content='{\"summary\": \"Amazon AppFlow는 SaaS 애플리케이션과 AWS 서비스 간 데이터를 안전하게 전송하는 완전관리형 통합 서비스이며, AWS B2B Data Interchange는 EDI 문서를 JSON/XML 형식으로 자동 변환하여 데이터 통합을 간소화하는 서비스입니다.\", \"keywords\": [\"Amazon AppFlow\", \"AWS B2B Data Interchange\", \"SaaS 애플리케이션\", \"EDI\", \"데이터 전송\", \"완전관리형 통합 서비스\", \"AWS PrivateLink\", \"데이터 변환\", \"JSON\", \"XML\"], \"expected_question\": \"Amazon AppFlow에서 지원하는 SaaS 애플리케이션에는 어떤 것들이 있나요?,Amazon AppFlow의 데이터 흐름 실행 빈도는 어떻게 설정할 수 있나요?,AWS B2B Data Interchange에서 지원하는 EDI 표준 형식은 무엇인가요?,Amazon AppFlow에서 AWS PrivateLink를 통한 보안은 어떻게 구현되나요?,AWS B2B Data Interchange의 로우 코드 인터페이스는 어떤 기능을 제공하나요?\", \"content\": \"못된 경우 빠르게 문제를 진단하고 디버깅할 수 있습니다. 코드를 작성하지 않고도 단계를 변경하고 추가할 수 있으므로 애플리 케이션을 쉽게 발전시키고 더 빠르게 혁신할 수 있습니다. Amazon AppFlow Amazon AppFlow 는 Salesforce, Zendesk, Slack, ServiceNow와 같은 Software-as-a-Service(SaaS) 애 플리케이션과 Amazon S3, Amazon Redshift와 같은 AWS 서비스 간에 몇 번의 클릭만으로 데이터를 안전하게 전송할 수 있는 완전관리형 통합 서비스입니다. Amazon AppFlow를 사용하면 일정에 따라, 비즈니스 이벤트에 대응하여 또는 온디맨드로 선택한 빈도에 따라 엔터프라이즈 규모로 데이터 흐름 을 실행할 수 있습니다. 필터링 및 검증과 같은 데이터 변환 기능을 구성하여 추가 단계 없이 흐름 자체 의 일부로 풍부하고 ready-to-use 수 있는 데이터를 생성할 수 있습니다. Amazon AppFlow;는 이동 중 인 데이터를 자동으로 암호화하고, 사용자가와 통합된 SaaS 애플리케이션의 퍼블릭 인터넷을 통한 데 이터 흐름을 제한하여 보안 위협에 대한 노출을 AWS PrivateLink줄일 수 있습니다. AWS B2B 데이터 교환 AWS B2B Data Interchange (B2Bi)는 전자 데이터 교환(EDI) 문서를 JSON 및 XML 형식으로 자동 변환 하여 다운스트림 데이터 통합을 간소화합니다. 기업은 EDI 문서를 사용하여 X12와 같은 표준화된 형 식을 사용하여 공급업체 및 최종 고객과 같은 거래 파트너와 거래 데이터를 교환합니다. B2Bi를 사용하면 거래 파트너를 온보딩 및 관리하고 로우 코드 인터페이스를 사용하여 EDI 문서를 JSON 및 XML과 같은 일반적인 데이터 표현으로 변환하는 작업을 자동화할 수 있습니다.\"}'),\n",
       "  0.6287176),\n",
       " (Document(metadata={'id': 'aws_doc_28'}, page_content='{\"summary\": \"이 텍스트는 AWS의 세 가지 관리형 서비스를 소개합니다: 이벤트 기반 애플리케이션 구축을 위한 서버리스 이벤트 버스인 Amazon EventBridge, Apache Airflow 기반의 데이터 파이프라인 오케스트레이션 서비스인 Amazon MWAA, 그리고 메시지 브로커 관리 서비스인 Amazon MQ입니다.\", \"keywords\": [\"Amazon EventBridge\", \"Amazon MWAA\", \"Amazon MQ\", \"서버리스 이벤트 버스\", \"Apache Airflow\", \"Apache ActiveMQ\", \"RabbitMQ\", \"이벤트 기반 애플리케이션\", \"데이터 파이프라인\", \"메시지 브로커\"], \"expected_question\": \"Amazon EventBridge에서 Zendesk나 Shopify 같은 SaaS 애플리케이션과 AWS Lambda를 연결하는 라우팅 규칙은 어떻게 설정하나요?,Amazon MWAA에서 Apache Airflow 워크플로의 용량이 자동으로 확장되는 기준과 방식은 무엇인가요?,Amazon MQ에서 Apache ActiveMQ Classic과 RabbitMQ 중 어떤 메시지 브로커를 선택해야 하나요?,EventBridge를 사용할 때 이벤트 게시자와 소비자가 완전히 분리된 아키텍처의 장점은 무엇인가요?,Amazon MWAA와 기존 온프레미스 Apache Airflow 환경을 마이그레이션할 때 고려사항은 무엇인가요?\", \"content\": \"Amazon Web Services 개요 AWS 백서 Amazon EventBridge Amazon EventBridge 는 애플리케이션, 통합 Software-as-a-Service(SaaS) 애플리케이션 및 AWS 서비 스에서 생성된 이벤트를 사용하여 대규모로 이벤트 기반 애플리케이션을 더 쉽게 구축할 수 있는 서버 리스 이벤트 버스입니다. EventBridge는 Zendesk 또는 Shopify와 같은 이벤트 소스의 실시간 데이터 스트림을 AWS Lambda 및 기타 SaaS 애플리케이션과 같은 대상으로 제공합니다. 라우팅 규칙을 설정 하여 이벤트 게시자와 소비자가 완전히 분리된 상태에서 데이터 소스에 실시간으로 반응하는 애플리 케이션 아키텍처를 빌드하기 위해 데이터를 전송할 위치를 결정할 수 있습니다. Amazon Managed Workflows for Apache Airflow(MWAA) Amazon Managed Workflows for Apache Airflow(MWAA) 는 대규모로 클라우드에서 end-to-end 데이 터 파이프라인을 더 쉽게 설정하고 운영할 수 있는 Apache Airflow 용 관리형 오케스트레이션 서비스입 니다. Apache Airflow는 “워크플로”라고 하는 프로세스 및 작업 시퀀스를 프로그래밍 방식으로 작성, 예 약 및 모니터링하는 데 사용되는 오픈 소스 도구입니다. 관리형 워크플로를 사용하면 확장성, 가용성 및 보안을 위해 기본 인프라를 관리할 필요 없이 Airflow 및 Python을 사용하여 워크플로를 생성할 수 있습니다. 관리형 워크플로는 필요에 맞게 워크플로 용량을 자동으로 확장하고 AWS 보안 서비스와 통 합되어 데이터에 대한 빠르고 안전한 액세스를 제공합니다. Amazon MQ Amazon MQ 는 클라우드에서 메시지 브로커를 쉽게 설정하고 운영할 수 있는 Apache ActiveMQ Classic 및 RabbitMQ 용 관리형 메시지 브로커 서비스입니다.\"}'),\n",
       "  0.47929826),\n",
       " (Document(metadata={'id': 'aws_doc_87'}, page_content='{\"summary\": \"AWS Amplify, AppSync, Device Farm, Location Service 등 모바일 및 웹 애플리케이션 개발을 위한 AWS 서비스들의 주요 기능과 특징을 소개하고 있습니다. 각 서비스는 백엔드 관리, 데이터 동기화, 앱 테스트, 위치 기능 등 애플리케이션 개발의 다양한 측면을 지원합니다.\", \"keywords\": [\"AWS Amplify\", \"AWS AppSync\", \"AWS Device Farm\", \"Amazon Location Service\", \"GraphQL\", \"서버리스 백엔드\", \"데이터 동기화\", \"모바일 애플리케이션\", \"앱 테스트\", \"위치 기능\"], \"expected_question\": \"AWS Amplify에서 자동으로 프로비저닝되는 AWS 서비스에는 어떤 것들이 있나요?,AWS AppSync에서 GraphQL을 사용하는 구체적인 장점은 무엇인가요?,AWS Device Farm에서 제공하는 테스트 결과 데이터에는 어떤 종류가 있나요?,Amazon Location Service는 데이터 보안과 개인정보 보호를 어떻게 보장하나요?,AWS AppSync의 오프라인 데이터 동기화 기능은 어떻게 작동하나요?\", \"content\": \"Amazon Web Services 개요 AWS 백서 여 각 서비스를 애플리케이션에 통합해야 합니다. 그러나 애플리케이션 기능의 수가 증가함에 따라 코 드 및 릴리스 프로세스가 더 복잡해지고 백엔드를 관리하는 데 더 많은 시간이 필요합니다. Amplify는 모바일 애플리케이션의 백엔드를 프로비저닝하고 관리합니다. 인증, 분석 또는 오프라인 데 이터 동기화와 같이 필요한 기능을 선택하면 Amplify가 각 기능을 지원하는 AWS 서비스를 자동으로 프로비저닝하고 관리합니다. 그런 다음 Amplify 라이브러리 및 UI 구성 요소를 통해 이러한 기능을 애 플리케이션에 통합할 수 있습니다. AWS AppSync AWS AppSync 는 모바일, 웹 및 엔터프라이즈 애플리케이션을 위한 서버리스 백엔드입니다. AWS AppSync 를 사용하면 온라인 및 오프라인 데이터 액세스, 데이터 동기화, 여러 데이터 소스의 데 이터 조작과 같은 모든 애플리케이션 데이터 관리 작업을 안전하게 처리하여 데이터 기반 모바일 및 웹 애플리케이션을 쉽게 구축할 수 있습니다.는 데이터 요구 사항을 설명하기 위한 직관적이고 유연한 구문을 제공하여 클라이언트 애플리케이션을 구축하도록 설계된 API 쿼리 언어인 GraphQL을 AWS AppSync 사용합니다. AWS Device Farm AWS Device Farm 는 여러 디바이스에서 Android, iOS 및 웹 앱을 한 번에 테스트 및 상호 작용하거나 디바이스의 문제를 실시간으로 재현할 수 있는 앱 테스트 서비스입니다. 앱을 배송하기 전에 비디오, 스크린샷, 로그 및 성능 데이터를 보고 문제를 정확히 찾아 해결합니다. Amazon Location Service Amazon Location Service 를 사용하면 개발자가 데이터 보안 및 사용자 개인 정보 보호에 영향을 주지 않고 애플리케이션에 위치 기능을 쉽게 추가할 수 있습니다.\"}'),\n",
       "  0.47738206),\n",
       " (Document(metadata={'id': 'aws_doc_229'}, page_content='{\"summary\": \"AWS는 거의 모든 워크로드를 지원하는 고가용성 서비스들을 제공하며, 선결제 비용 없이 사용한 만큼만 비용을 지불하는 방식으로 조직이 더 빠르게 이동하고 IT 비용을 절감할 수 있도록 지원합니다. 웹 및 모바일 애플리케이션부터 데이터 처리까지 다양한 워크로드를 지원하여 대기업과 스타트업 모두의 신뢰를 받고 있습니다.\", \"keywords\": [\"AWS\", \"고가용성 서비스\", \"확장 가능 애플리케이션\", \"내구성이 뛰어난 스토리지\", \"저비용 컴퓨팅\", \"고성능 데이터베이스\", \"사용한 만큼 지불\", \"웹 및 모바일 애플리케이션\", \"데이터 처리 및 웨어하우징\", \"워크로드\"], \"expected_question\": \"AWS의 \\'사용한 만큼 지불\\' 요금 체계는 구체적으로 어떻게 작동하나요?,AWS에서 제공하는 고가용성 서비스들이 어떻게 함께 작동하여 확장 가능한 애플리케이션을 구축할 수 있나요?,AWS의 내구성이 뛰어난 스토리지와 고성능 데이터베이스 서비스는 각각 어떤 것들이 있나요?,대기업과 스타트업이 AWS를 사용할 때 각각 어떤 장점을 얻을 수 있나요?,AWS를 통해 IT 비용을 절감하고 규모를 조정하는 구체적인 방법은 무엇인가요?\", \"content\": \"Amazon Web Services 개요 AWS 백서 결론 AWS 는 거의 모든 워크로드를 지원하기 위해 빠르게 조합할 수 있는 구성 요소를 제공합니다. 를 사용 하면 함께 작동하여 정교한 확장 가능 애플리케이션을 구축하도록 설계된 고가용성 서비스의 전체 세 트를 AWS찾을 수 있습니다. 내구성이 뛰어난 스토리지, 저비용 컴퓨팅, 고성능 데이터베이스, 관리 도구 등에 액세스할 수 있습니 다. 이 모든 것은 선결제 비용 없이 사용할 수 있으며 사용한 만큼만 비용을 지불하면 됩니다. 이러한 서 비스를 통해 조직은 더 빠르게 이동하고, IT 비용을 절감하며, 규모를 조정할 수 있습니다. AWS 는 웹 및 모바일 애플리케이션, 게임 개발, 데이터 처리 및 웨어하우징, 스토리지, 아카이브 등 다양한 워크로 드를 지원할 수 있는 대기업과 가장 핫한 스타트업의 신뢰를 받습니다. 134\"}'),\n",
       "  0.4757193),\n",
       " (Document(metadata={'id': 'aws_doc_227'}, page_content='{\"summary\": \"AWS Well-Architected Framework의 다양한 산업별 및 기술별 렌즈들을 소개하며, 각 렌즈는 특정 워크로드(기계학습, 데이터 분석, IoT, SAP, 게임, 의료, 금융 등)를 AWS 클라우드에서 설계하고 배포하기 위한 모범 사례와 설계 원칙을 제공합니다.\", \"keywords\": [\"AWS Well-Architected Framework\", \"Machine Learning Lens\", \"Data Analytics Lens\", \"하이브리드 네트워킹 렌즈\", \"IoT Lens\", \"SAP Lens\", \"Games Industry Lens\", \"스트리밍 미디어 렌즈\", \"의료 산업 렌즈\", \"Financial Services Industry Lens\"], \"expected_question\": \"Machine Learning Lens에서 제공하는 구체적인 설계 원칙과 모범 사례는 무엇인가요?,IoT Lens와 IoT Lens 체크리스트의 차이점은 무엇이며, 어떻게 활용해야 하나요?,SAP 워크로드를 AWS로 마이그레이션할 때 SAP Lens에서 권장하는 주요 고려사항은 무엇인가요?,각 산업별 렌즈(의료, 금융, 게임 등)는 어떤 특별한 규정 준수 요구사항을 다루고 있나요?,하이브리드 네트워킹 렌즈에서 온프레미스와 AWS 클라우드 간 연결을 위한 권장 아키텍처는 무엇인가요?\", \"content\": \"Amazon Web Services 개요 AWS 백서 •Machine Learning Lens 에서는, AWS 클라우드에서 기계 학습 워크로드를 설계, 배포 및 구축하는 방 법에 중점을 둡니다. •Data Analytics Lens 에서는 잘 설계된 분석 워크로드를 설계하기 위해 고객이 입증한 모범 사례 모음 을 설명합니다. •하이브리드 네트워킹 렌즈 에서는에서 워크로드를 위한 하이브리드 네트워킹을 설계, 배포 및 설계 하는 방법에 중점을 둡니다 AWS 클라우드. •IoT Lens 및 IoT Lens 체크리스트 에서는에서 IoT 애플리케이션을 설계하기 위한 모범 사례에 중점을 둡니다 AWS. •SAP Lens 에서는의 SAP 워크로드가 AWS 잘 설계되도록 보장하기 위해 고객이 입증한 설계 원칙과 모범 사례 모음에 대해 설명합니다. •Games Industry Lens 에서는 게임 워크로드를 설계, 설계 및 배포하는 데 중점을 둡니다 AWS. •스트리밍 미디어 렌즈 에서는 스트리밍 미디어 워크로드를 설계하고 개선하기 위한 모범 사례에 중 점을 둡니다 AWS. •의료 산업 렌즈 에서는 의료 워크로드를 설계, 배포 및 관리하는 방법에 중점을 둡니다. •Financial Services Industry Lens 에서는 금융 서비스 산업 워크로드를 설계하기 위한 모범 사례에 중 점을 둡니다 AWS. •HPC 렌즈 에서는 HPC(고성능 컴퓨팅) 워크로드를 설계하기 위한 모범 사례에 중점을 둡니다 AWS. •SaaS Lens 에서 우리는 AWS의 서비스형 소프트웨어(SaaS) 워크로드를 설계하는 모범 사례에 중점 을 둡니다. •Government Lens 에서는 정부 서비스를 설계하고 제공하기 위한 모범 사례에 중점을 둡니다 AWS. •Connected Mobility Lens 에서는 기술을 운송 시스템에 통합하고 전반적인 모빌리티 경험을 개선하 는 모범 사례에 중점을 둡니다.\"}'),\n",
       "  0.46963716)]"
      ]
     },
     "execution_count": 30,
     "metadata": {},
     "output_type": "execute_result"
    }
   ],
   "source": [
    "result"
   ]
  },
  {
   "cell_type": "code",
   "execution_count": null,
   "id": "491dfd8c-e9f4-479a-8c1b-bc7ef5c72d96",
   "metadata": {},
   "outputs": [],
   "source": []
  },
  {
   "cell_type": "code",
   "execution_count": 32,
   "id": "af4c868c-1207-4695-93df-b13dd1365fa7",
   "metadata": {
    "execution": {
     "iopub.execute_input": "2025-10-28T13:54:25.165163Z",
     "iopub.status.busy": "2025-10-28T13:54:25.164931Z",
     "iopub.status.idle": "2025-10-28T13:54:25.169023Z",
     "shell.execute_reply": "2025-10-28T13:54:25.168693Z",
     "shell.execute_reply.started": "2025-10-28T13:54:25.165148Z"
    }
   },
   "outputs": [],
   "source": [
    "class RagLLM:\n",
    "    \"\"\"RagLLM 스트리밍 관리자\"\"\"\n",
    "    \n",
    "    def __init__(self, region_name: str = \"us-west-2\"):\n",
    "        self.region_name = region_name\n",
    "        self.model_id = None\n",
    "        self.bedrock_client = self._setup_bedrock_client()\n",
    "        self.llm = self._setup_llm()\n",
    "    \n",
    "    def _setup_bedrock_client(self):\n",
    "        \"\"\"Bedrock 클라이언트 설정\"\"\"\n",
    "        try:\n",
    "            return boto3.client(\n",
    "                service_name='bedrock-runtime',\n",
    "                region_name=self.region_name\n",
    "            )\n",
    "        except Exception as e:\n",
    "            print(f\"❌ Bedrock 클라이언트 초기화 실패: {e}\")\n",
    "            return None\n",
    "    \n",
    "    def _setup_llm(self, model_id=\"global.anthropic.claude-sonnet-4-20250514-v1:0\"):\n",
    "        \"\"\"LLM 설정\"\"\"\n",
    "        try:\n",
    "            if not self.bedrock_client:\n",
    "                print(\"❌ Bedrock 클라이언트가 없습니다.\")\n",
    "                return None\n",
    "            self.model_id = model_id\n",
    "            return ChatBedrock(\n",
    "                client=self.bedrock_client,\n",
    "                model_id=self.model_id,\n",
    "                model_kwargs={\n",
    "                    \"max_tokens\": 2000,\n",
    "                    \"temperature\": 0.15,\n",
    "                    \"top_p\": 0.9,\n",
    "                }\n",
    "            )\n",
    "        except Exception as e:\n",
    "            print(f\"❌ LLM 초기화 실패: {e}\")\n",
    "            return None"
   ]
  },
  {
   "cell_type": "code",
   "execution_count": null,
   "id": "9e75e1d8-969d-472d-bd66-7bb3e076f4ca",
   "metadata": {},
   "outputs": [],
   "source": []
  },
  {
   "cell_type": "code",
   "execution_count": 33,
   "id": "f9347a66-e62a-4dcd-bbde-513004035f4d",
   "metadata": {
    "execution": {
     "iopub.execute_input": "2025-10-28T13:54:38.680755Z",
     "iopub.status.busy": "2025-10-28T13:54:38.680557Z",
     "iopub.status.idle": "2025-10-28T13:54:38.695583Z",
     "shell.execute_reply": "2025-10-28T13:54:38.695225Z",
     "shell.execute_reply.started": "2025-10-28T13:54:38.680742Z"
    }
   },
   "outputs": [],
   "source": [
    "rag = RagLLM()"
   ]
  },
  {
   "cell_type": "code",
   "execution_count": 34,
   "id": "20d93c87-f36b-4cc0-8f06-cd726a08e8b5",
   "metadata": {
    "execution": {
     "iopub.execute_input": "2025-10-28T13:55:40.051677Z",
     "iopub.status.busy": "2025-10-28T13:55:40.051424Z",
     "iopub.status.idle": "2025-10-28T13:55:40.054258Z",
     "shell.execute_reply": "2025-10-28T13:55:40.053822Z",
     "shell.execute_reply.started": "2025-10-28T13:55:40.051662Z"
    }
   },
   "outputs": [],
   "source": [
    "#template 생성\n",
    "template_lambda = \"\"\"The following is a friendly conversation between a human and an AI. \n",
    "The AI is talkative and provides lots of specific details from its context. \n",
    "If the AI does not know the answer to a question, it truthfully says it does not know. \n",
    "The AI ONLY uses information contained in the \"Relevant Information\" section and does not hallucinate.\n",
    "\n",
    "Relevant Information:\n",
    "{document}\n",
    "\n",
    "Conversation:\n",
    "Human: {question}\n",
    "AI:\"\"\"\n",
    "\n",
    "# Create the prompt template\n",
    "prompt_lambda = PromptTemplate(\n",
    "    input_variables=[\"document\", \"question\"], \n",
    "    template=template_lambda\n",
    ")"
   ]
  },
  {
   "cell_type": "code",
   "execution_count": 37,
   "id": "5679158e-dfa8-417d-9628-7171ccd6063d",
   "metadata": {
    "execution": {
     "iopub.execute_input": "2025-10-28T13:57:19.327582Z",
     "iopub.status.busy": "2025-10-28T13:57:19.327335Z",
     "iopub.status.idle": "2025-10-28T13:57:19.330279Z",
     "shell.execute_reply": "2025-10-28T13:57:19.329818Z",
     "shell.execute_reply.started": "2025-10-28T13:57:19.327567Z"
    }
   },
   "outputs": [],
   "source": [
    "#how to use opensearch for langchain\n",
    "chain_lambda_rag = (\n",
    "    {\n",
    "        \"document\": lambda x: vector_search(opensearh, x[\"question\"]),\n",
    "        \"question\": itemgetter(\"question\")\n",
    "    }\n",
    "    | prompt_lambda\n",
    "    | rag.llm\n",
    "    | StrOutputParser()\n",
    ")\n"
   ]
  },
  {
   "cell_type": "code",
   "execution_count": 39,
   "id": "1856c033-3854-483c-b251-540de28f8111",
   "metadata": {
    "execution": {
     "iopub.execute_input": "2025-10-28T13:57:45.927069Z",
     "iopub.status.busy": "2025-10-28T13:57:45.926866Z",
     "iopub.status.idle": "2025-10-28T13:57:55.925747Z",
     "shell.execute_reply": "2025-10-28T13:57:55.925365Z",
     "shell.execute_reply.started": "2025-10-28T13:57:45.927056Z"
    }
   },
   "outputs": [
    {
     "name": "stdout",
     "output_type": "stream",
     "text": [
      "안녕하세요! 제공된 정보를 바탕으로 Amazon S3와 EMR에 대해 설명드릴 수 있지만, 아쉽게도 두 서비스를 직접 연동하는 구체적인 방법에 대한 정보는 제공된 문서에 포함되어 있지 않습니다.\n",
      "\n",
      "하지만 각 서비스의 특징을 통해 연동 가능성에 대해 말씀드릴 수 있습니다:\n",
      "\n",
      "**Amazon S3의 특징:**\n",
      "- 업계 최고의 확장성, 데이터 가용성, 보안 및 성능을 제공하는 객체 스토리지 서비스\n",
      "- 99.999999999%(11 9s)의 내구성을 제공\n",
      "- 웹사이트, 모바일 애플리케이션, 백업 및 복원, 아카이브, 빅 데이터 분석 등 다양한 사용 사례 지원\n",
      "- 다양한 액세스 패턴에 맞는 여러 스토리지 클래스 제공 (S3 Intelligent-Tiering, S3 표준, S3 Express One Zone 등)\n",
      "\n",
      "**Amazon EMR의 특징:**\n",
      "- Apache Spark, Apache Hive, Apache HBase, Apache Flink 등 오픈소스 도구를 사용한 클라우드 빅데이터 플랫폼\n",
      "- 페타바이트 규모의 분석을 기존 온프레미스 솔루션 비용의 절반 미만으로 실행 가능\n",
      "- 표준 Apache Spark보다 3배 이상 빠른 성능\n",
      "\n",
      "두 서비스 모두 빅데이터 분석을 지원한다는 공통점이 있어 연동 가능성이 높아 보이지만, 구체적인 연동 방법, 설정 절차, API 사용법 등에 대한 상세한 정보는 제공된 문서에서 찾을 수 없습니다.\n",
      "\n",
      "더 구체적인 연동 방법에 대해서는 AWS 공식 문서나 기술 가이드를 참조하시는 것을 권장드립니다."
     ]
    }
   ],
   "source": [
    "async for chunk in chain_lambda_rag.astream({\"question\": \"Amazon S3와 EMR을 연동하는 방법에 대해 설명해줘\"}):\n",
    "    print(chunk, end=\"\")"
   ]
  },
  {
   "cell_type": "code",
   "execution_count": null,
   "id": "f2d73de3-b4d5-4a8c-bb08-d5af9a4e36f3",
   "metadata": {},
   "outputs": [],
   "source": []
  },
  {
   "cell_type": "code",
   "execution_count": 40,
   "id": "6f8d1fed-711f-4cc0-af41-636a74e3844c",
   "metadata": {
    "execution": {
     "iopub.execute_input": "2025-10-28T13:58:35.626808Z",
     "iopub.status.busy": "2025-10-28T13:58:35.626594Z",
     "iopub.status.idle": "2025-10-28T13:58:35.629358Z",
     "shell.execute_reply": "2025-10-28T13:58:35.628812Z",
     "shell.execute_reply.started": "2025-10-28T13:58:35.626795Z"
    }
   },
   "outputs": [],
   "source": [
    "#RunnableLambda안에서 실행할 함수\n",
    "def get_document_runnable(data):\n",
    "    print(data)\n",
    "    # Make sure this function returns a string\n",
    "    return vector_search(opensearh, data)\n"
   ]
  },
  {
   "cell_type": "code",
   "execution_count": 42,
   "id": "47d180b6-b768-4042-9fe5-ce27d4eda918",
   "metadata": {
    "execution": {
     "iopub.execute_input": "2025-10-28T13:58:48.344549Z",
     "iopub.status.busy": "2025-10-28T13:58:48.344324Z",
     "iopub.status.idle": "2025-10-28T13:58:48.347481Z",
     "shell.execute_reply": "2025-10-28T13:58:48.347007Z",
     "shell.execute_reply.started": "2025-10-28T13:58:48.344534Z"
    }
   },
   "outputs": [],
   "source": [
    "#input을 넣을때 함수 실행 (RunnableLambda 실행)\n",
    "chain_runnable_rag = (\n",
    "    {\n",
    "        \"document\": itemgetter(\"question\") | RunnableLambda(get_document_runnable),\n",
    "        \"question\": itemgetter(\"question\")\n",
    "    }\n",
    "    | prompt_lambda\n",
    "    | rag.llm\n",
    "    | StrOutputParser()\n",
    ")\n"
   ]
  },
  {
   "cell_type": "code",
   "execution_count": 48,
   "id": "0d6325c2-8dde-4d34-8063-24d5298ac9ac",
   "metadata": {
    "execution": {
     "iopub.execute_input": "2025-10-28T14:00:52.762009Z",
     "iopub.status.busy": "2025-10-28T14:00:52.761796Z",
     "iopub.status.idle": "2025-10-28T14:01:01.258149Z",
     "shell.execute_reply": "2025-10-28T14:01:01.257684Z",
     "shell.execute_reply.started": "2025-10-28T14:00:52.761995Z"
    }
   },
   "outputs": [
    {
     "name": "stdout",
     "output_type": "stream",
     "text": [
      "Amazon S3 glacier에 대해 설명해줘\n",
      "Amazon S3 Glacier에 대해 설명드리겠습니다.\n",
      "\n",
      "Amazon S3에서는 아카이브 데이터를 위한 여러 Glacier 스토리지 클래스를 제공합니다:\n",
      "\n",
      "## S3 Glacier 스토리지 클래스 종류\n",
      "\n",
      "**1. S3 Glacier Instant Retrieval**\n",
      "- 즉각적인 액세스가 필요한 아카이브 데이터를 위한 스토리지 클래스입니다\n",
      "- 아카이브 용도이지만 빠른 검색이 필요한 경우에 적합합니다\n",
      "\n",
      "**2. S3 Glacier Flexible Retrieval (이전 Amazon Glacier)**\n",
      "- 즉각적인 액세스가 필요하지 않은 드물게 액세스하는 장기 데이터를 위한 스토리지 클래스입니다\n",
      "- 자주 접근하지 않는 장기 보관 데이터에 적합합니다\n",
      "\n",
      "**3. Amazon Glacier Deep Archive**\n",
      "- 클라우드에서 가장 저렴한 스토리지로 제공됩니다\n",
      "- 장기 아카이브 및 디지털 보존을 위한 용도입니다\n",
      "- 데이터 검색에 몇 시간이 소요됩니다\n",
      "\n",
      "## 주요 특징\n",
      "\n",
      "이러한 Glacier 스토리지 클래스들은 Amazon S3의 99.999999999%(11 9s) 내구성을 제공하며, 백업 및 복원, 아카이브 등의 사용 사례에 적합합니다. 또한 S3 수명 주기 정책을 설정하면 애플리케이션 변경 없이 데이터가 자동으로 이러한 아카이브 스토리지 클래스로 전송될 수 있습니다."
     ]
    }
   ],
   "source": [
    "async for chunk in chain_runnable_rag.astream({\"question\": \"Amazon S3 glacier에 대해 설명해줘\"}):\n",
    "    print(chunk, end=\"\")"
   ]
  },
  {
   "cell_type": "code",
   "execution_count": null,
   "id": "8ea7ca22-f121-4bd5-b7c3-d65324a41741",
   "metadata": {},
   "outputs": [],
   "source": []
  },
  {
   "cell_type": "code",
   "execution_count": null,
   "id": "af3fdc00-0eb7-4d8b-a5ab-521c366fae95",
   "metadata": {},
   "outputs": [],
   "source": []
  },
  {
   "cell_type": "code",
   "execution_count": 49,
   "id": "b8a44858-10f7-4593-8403-1e9f6f5c1e90",
   "metadata": {
    "execution": {
     "iopub.execute_input": "2025-10-28T14:01:05.784159Z",
     "iopub.status.busy": "2025-10-28T14:01:05.783955Z",
     "iopub.status.idle": "2025-10-28T14:01:05.786714Z",
     "shell.execute_reply": "2025-10-28T14:01:05.786229Z",
     "shell.execute_reply.started": "2025-10-28T14:01:05.784145Z"
    }
   },
   "outputs": [],
   "source": [
    "#nested llm chain\n",
    "def get_document_runnable_nested(data):\n",
    "    print(data)\n",
    "    # Make sure this function returns a string\n",
    "    return { \n",
    "             \"question\" : data,\n",
    "             \"document\": vector_search(opensearh, data)\n",
    "            }\n"
   ]
  },
  {
   "cell_type": "code",
   "execution_count": 50,
   "id": "35d64821-957a-4fb5-be40-06b468f377f0",
   "metadata": {
    "execution": {
     "iopub.execute_input": "2025-10-28T14:01:06.271944Z",
     "iopub.status.busy": "2025-10-28T14:01:06.271744Z",
     "iopub.status.idle": "2025-10-28T14:01:06.274580Z",
     "shell.execute_reply": "2025-10-28T14:01:06.274117Z",
     "shell.execute_reply.started": "2025-10-28T14:01:06.271932Z"
    }
   },
   "outputs": [],
   "source": [
    "template_rerank = \"\"\"You are an AI document processor that organizes and summarizes information.\n",
    "\n",
    "TASK:\n",
    "1. Analyze the user's question to understand what information is relevant\n",
    "2. Review the provided document and identify sections that relate to the question\n",
    "3. Extract ONLY the parts of the document that are relevant to the question\n",
    "4. Organize these relevant parts into a clear, concise summary\n",
    "5. Remove any redundant or irrelevant information\n",
    "6. Format the output as a structured summary of key points\n",
    "7. DO NOT answer the question or provide any additional information not in the document\n",
    "8. DO NOT include your own analysis or opinions\n",
    "\n",
    "Document to Process:\n",
    "{document}\n",
    "\n",
    "Question for Context (use only to determine relevance):\n",
    "{question}\n",
    "\n",
    "OUTPUT INSTRUCTIONS:\n",
    "- Return ONLY the organized and summarized relevant information\n",
    "- Do not include any introduction, explanation, or conclusion\n",
    "- Do not address the question directly\n",
    "- Format as bullet points or short paragraphs of key information\n",
    "\n",
    "Organized Relevant Information:\"\"\"\n",
    "\n",
    "\n",
    "\n",
    "\n",
    "# Create the prompt template\n",
    "prompt_rerank = PromptTemplate(\n",
    "    input_variables=[\"document\", \"question\"], \n",
    "    template=template_rerank\n",
    ")"
   ]
  },
  {
   "cell_type": "code",
   "execution_count": 51,
   "id": "181ee08c-a0ca-4d1f-84d8-2a1b86d21360",
   "metadata": {
    "execution": {
     "iopub.execute_input": "2025-10-28T14:01:06.841622Z",
     "iopub.status.busy": "2025-10-28T14:01:06.841422Z",
     "iopub.status.idle": "2025-10-28T14:01:06.844436Z",
     "shell.execute_reply": "2025-10-28T14:01:06.843965Z",
     "shell.execute_reply.started": "2025-10-28T14:01:06.841610Z"
    }
   },
   "outputs": [],
   "source": [
    "rerank_chain = (\n",
    "    {\n",
    "        \"document\": (\n",
    "                    itemgetter(\"question\") \n",
    "                    | RunnableLambda(get_document_runnable_nested) \n",
    "                    | prompt_rerank\n",
    "                    | rag.llm\n",
    "                    | StrOutputParser()\n",
    "                    ),\n",
    "        \"question\": itemgetter(\"question\")\n",
    "    }\n",
    "    | prompt_lambda\n",
    "    | rag.llm\n",
    "    | StrOutputParser()\n",
    ")\n"
   ]
  },
  {
   "cell_type": "code",
   "execution_count": 52,
   "id": "e4c099b5-0fed-4b8f-a76c-f06622ecba08",
   "metadata": {
    "execution": {
     "iopub.execute_input": "2025-10-28T14:01:07.651958Z",
     "iopub.status.busy": "2025-10-28T14:01:07.651766Z",
     "iopub.status.idle": "2025-10-28T14:01:22.134800Z",
     "shell.execute_reply": "2025-10-28T14:01:22.134307Z",
     "shell.execute_reply.started": "2025-10-28T14:01:07.651946Z"
    }
   },
   "outputs": [
    {
     "name": "stdout",
     "output_type": "stream",
     "text": [
      "Amazon S3 glacier에 대해 설명해줘\n",
      "Amazon S3 Glacier에 대해 자세히 설명해드리겠습니다!\n",
      "\n",
      "Amazon S3 Glacier는 아카이브 데이터를 위한 스토리지 서비스로, 현재 세 가지 주요 스토리지 클래스로 구성되어 있습니다:\n",
      "\n",
      "## 주요 스토리지 클래스\n",
      "\n",
      "**1. S3 Glacier Instant Retrieval**\n",
      "- 즉각적인 액세스가 필요한 아카이브 데이터를 위한 스토리지 클래스입니다\n",
      "- 아카이브 데이터임에도 불구하고 바로 접근할 수 있는 것이 특징입니다\n",
      "\n",
      "**2. S3 Glacier Flexible Retrieval** (이전 Amazon Glacier)\n",
      "- 즉각적인 액세스가 필요하지 않은 드물게 액세스하는 장기 데이터를 위한 스토리지 클래스입니다\n",
      "- 기존의 Amazon Glacier 서비스가 이 이름으로 변경되었습니다\n",
      "\n",
      "**3. Amazon Glacier Deep Archive**\n",
      "- 클라우드에서 가장 저렴한 스토리지입니다\n",
      "- 장기 아카이브 및 디지털 보존을 위한 용도로 사용됩니다\n",
      "- 몇 시간 만에 검색이 가능합니다\n",
      "\n",
      "## 주요 특징\n",
      "\n",
      "**자동화된 관리**: S3 수명 주기 정책과 연동하여 애플리케이션 변경 없이 데이터가 자동으로 다른 스토리지 클래스로 전송됩니다. 이를 통해 수명 주기 동안 데이터를 자동으로 관리할 수 있습니다.\n",
      "\n",
      "**비용 효율성**: 다양한 액세스 패턴에 가장 저렴한 스토리지를 제공하도록 특별히 설계되었으며, 아카이브 스토리지를 포함한 거의 모든 사용 사례에 적합합니다.\n",
      "\n",
      "**유연한 선택**: 워크로드의 데이터 액세스, 복원력 및 비용 요구 사항에 따라 적절한 스토리지 클래스를 선택할 수 있습니다."
     ]
    }
   ],
   "source": [
    "async for chunk in rerank_chain.astream({\"question\": \"Amazon S3 glacier에 대해 설명해줘\"}):\n",
    "    print(chunk, end=\"\")"
   ]
  },
  {
   "cell_type": "code",
   "execution_count": null,
   "id": "024e87b4-883b-4f7c-b2c5-57654df88cd8",
   "metadata": {},
   "outputs": [],
   "source": []
  },
  {
   "cell_type": "code",
   "execution_count": null,
   "id": "4d178562-2351-4988-9ccd-c1b183663fbf",
   "metadata": {},
   "outputs": [],
   "source": []
  }
 ],
 "metadata": {
  "kernelspec": {
   "display_name": "Python 3 (ipykernel)",
   "language": "python",
   "name": "python3"
  },
  "language_info": {
   "codemirror_mode": {
    "name": "ipython",
    "version": 3
   },
   "file_extension": ".py",
   "mimetype": "text/x-python",
   "name": "python",
   "nbconvert_exporter": "python",
   "pygments_lexer": "ipython3",
   "version": "3.11.11"
  }
 },
 "nbformat": 4,
 "nbformat_minor": 5
}
